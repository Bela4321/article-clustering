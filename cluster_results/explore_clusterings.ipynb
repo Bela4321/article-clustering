{
 "cells": [
  {
   "cell_type": "code",
   "execution_count": null,
   "id": "initial_id",
   "metadata": {
    "collapsed": true
   },
   "outputs": [],
   "source": [
    "import pickle\n",
    "\n",
    "from embeddings.embedding_utils import get_queries, get_query_key\n",
    "from clustering.clusterings import kmeans_with_estimated_k,xmeans_clustering, hdbscan_clustering, agglomerative_clustering_with_estimated_k\n",
    "from matplotlib import pyplot as plt\n",
    "from embeddings.tf_idf import get_embedding_pca,get_embedding_UMAP\n",
    "from embeddings.openai_api import get_embedding as embedding_openai\n",
    "import seaborn as sns"
   ]
  },
  {
   "metadata": {},
   "cell_type": "code",
   "outputs": [],
   "execution_count": null,
   "source": [
    "data_queries = get_queries()\n",
    "embeddings = [get_embedding_pca,get_embedding_UMAP,embedding_openai]\n",
    "cluster_algos = [kmeans_with_estimated_k,xmeans_clustering, hdbscan_clustering, agglomerative_clustering_with_estimated_k]\n",
    "cluster_algo_display_names=[\"K-Means with estimated k\", \"X-Means\", \"HDBSCAN\",\"Agglomerative Clustering\"]\n",
    "fig, axs = plt.subplots(2,2, figsize=(8,8))\n",
    "\n",
    "for i, cluster_algo in enumerate(cluster_algos):\n",
    "    ax = axs[i//2,i%2]\n",
    "    cluster_algo_name=cluster_algo.__name__\n",
    "    cluster_algo_display_name=cluster_algo_display_names[i]\n",
    "    colors = sns.color_palette(\"hsv\", len(embeddings))\n",
    "\n",
    "    for embedding_algo in embeddings:\n",
    "        embedding_algo_name=embedding_algo.__module__.split(\".\")[-1]+\"__\"+embedding_algo.__name__\n",
    "        cluster_counts = []\n",
    "        for category in data_queries.keys():\n",
    "            for query in data_queries[category]:\n",
    "                query_key = get_query_key(category, query)\n",
    "                file=f\"{embedding_algo_name}/{cluster_algo_name}/{query_key}.pkl\"\n",
    "                with open(file, \"wb\") as f:\n",
    "                    data_dict = pickle.load(open(file, \"rb\"))\n",
    "                cluster_labels = data_dict[\"clusters\"]\n",
    "\n",
    "                num_of_clusters = len(set(cluster_labels) - {-1})\n",
    "                cluster_counts.append(num_of_clusters)\n",
    "        cluster_counts.sort()\n",
    "        ax.plot(cluster_labels, cluster_counts, color=colors[i], label=cluster_algo_name)\n",
    "\n",
    "\n",
    "\n",
    "\n"
   ],
   "id": "bd9a7a6ba47b68fb"
  }
 ],
 "metadata": {
  "kernelspec": {
   "display_name": "Python 3",
   "language": "python",
   "name": "python3"
  },
  "language_info": {
   "codemirror_mode": {
    "name": "ipython",
    "version": 2
   },
   "file_extension": ".py",
   "mimetype": "text/x-python",
   "name": "python",
   "nbconvert_exporter": "python",
   "pygments_lexer": "ipython2",
   "version": "2.7.6"
  }
 },
 "nbformat": 4,
 "nbformat_minor": 5
}
