{
 "cells": [
  {
   "cell_type": "code",
   "id": "initial_id",
   "metadata": {
    "collapsed": true,
    "ExecuteTime": {
     "end_time": "2025-04-01T17:08:43.704120Z",
     "start_time": "2025-04-01T17:08:43.677464Z"
    }
   },
   "source": [
    "import pickle\n",
    "import os\n",
    "import numpy as np\n",
    "import pandas as pd\n",
    "import matplotlib.pyplot as plt\n",
    "import seaborn as sns\n",
    "from pandas import isnull\n",
    "from sklearn.metrics.pairwise import cosine_similarity"
   ],
   "outputs": [],
   "execution_count": 16
  },
  {
   "metadata": {
    "ExecuteTime": {
     "end_time": "2025-04-01T17:08:43.751822Z",
     "start_time": "2025-04-01T17:08:43.736456Z"
    }
   },
   "cell_type": "code",
   "source": [
    "def get_embedding_score(numerical_labels,target_embedding ):\n",
    "    n = len(numerical_labels)\n",
    "\n",
    "\n",
    "    label_occurances = {}\n",
    "    for label_list in numerical_labels:\n",
    "        for label in label_list:\n",
    "            label_occurances[label] = label_occurances.get(label, 0) + 1\n",
    "\n",
    "    label_idfs = {key: np.log2(n / value) for key, value in label_occurances.items()}\n",
    "\n",
    "\n",
    "\n",
    "    unrelated_distances = []\n",
    "    related_distances = []\n",
    "    related_distances_weights = []\n",
    "\n",
    "    sample_size = 1_000\n",
    "    indices_i = np.random.randint(0, len(numerical_labels), sample_size)\n",
    "    indices_j = np.random.randint(0, len(numerical_labels)-1, sample_size)\n",
    "    indices_j = np.where(indices_j == indices_i, indices_j, len(numerical_labels)-1)\n",
    "\n",
    "    embeddings_i = target_embedding[indices_i]\n",
    "    embeddings_j = target_embedding[indices_j]\n",
    "\n",
    "    for i, doc_embedding_1, j, doc_embedding_2 in zip(indices_i,embeddings_i,indices_j,embeddings_j):\n",
    "        label_similarity = sum(\n",
    "            [label_idfs[label_1] for label_1 in numerical_labels[i] if label_1 in numerical_labels[j]])\n",
    "        doc_distance = cosine_similarity(doc_embedding_1.reshape(1, -1), doc_embedding_2.reshape(1, -1))[0][0]\n",
    "        if label_similarity == 0:\n",
    "            unrelated_distances.append(doc_distance)\n",
    "        else:\n",
    "            related_distances.append(doc_distance)\n",
    "            related_distances_weights.append(label_similarity)\n",
    "\n",
    "    mean_unrelated_distances = np.mean(unrelated_distances, axis=0)\n",
    "    mean_related_distances = np.average(related_distances, axis=0, weights=related_distances_weights)\n",
    "\n",
    "    min_distance = min(min(related_distances), min(unrelated_distances))\n",
    "    max_distance = max(max(related_distances), max(unrelated_distances))\n",
    "    final_score = (mean_related_distances - mean_unrelated_distances) / (max_distance - min_distance)\n",
    "    return final_score * 100"
   ],
   "id": "b6dfbcff3e89f0bb",
   "outputs": [],
   "execution_count": 17
  },
  {
   "metadata": {
    "ExecuteTime": {
     "end_time": "2025-04-01T17:08:43.814973Z",
     "start_time": "2025-04-01T17:08:43.801086Z"
    }
   },
   "cell_type": "code",
   "source": [
    "from embeddings.embedding_utils import get_queries\n",
    "\n",
    "data_querries = get_queries()\n",
    "from embeddings.tf_idf import get_embedding_pca as tf_idf_embedding\n",
    "from embeddings.tf_idf import get_embedding_UMAP as tf_idf_UMAP_embedding\n",
    "from embeddings.fasttext import get_embedding_mean_polling as fasttext_mean_embedding\n",
    "from embeddings.fasttext import get_embedding_max_polling as fasttext_max_embedding\n",
    "from embeddings.fasttext import get_embedding_combined_polling as fasttext_combined_embedding\n",
    "from embeddings.indirect_topics_trough_keyword_clusters import get_embedding as keyword_embedding\n",
    "from embeddings.openai_api import get_embedding as openai_embedding\n",
    "embedding_algos = [tf_idf_embedding,tf_idf_UMAP_embedding, fasttext_mean_embedding, fasttext_max_embedding, fasttext_combined_embedding, keyword_embedding, openai_embedding]"
   ],
   "id": "4ed6f2f7bfe63c5f",
   "outputs": [],
   "execution_count": 18
  },
  {
   "metadata": {
    "ExecuteTime": {
     "end_time": "2025-04-01T17:08:43.863034Z",
     "start_time": "2025-04-01T17:08:43.850271Z"
    }
   },
   "cell_type": "code",
   "source": [
    "def get_algo_name(algo):\n",
    "    return str(algo.__module__.split(\".\")[-1]+\"__\"+algo.__name__)\n",
    "\n",
    "def get_embedding(category, querry, algo):\n",
    "    querry_key = (category[:5]+\"_\"+querry[:10]).replace(\" \",\"_\")\n",
    "    dir_name = get_algo_name(algo)\n",
    "    filename = f\"../embedding_results/{dir_name}/{querry_key}.pkl\"\n",
    "    if not os.path.exists(filename):\n",
    "        return None, None, None\n",
    "    with open(filename, \"rb\") as f:\n",
    "        embedding_dict = pickle.load(f)\n",
    "    return embedding_dict[\"embeddings\"], embedding_dict[\"numerical_labels\"], embedding_dict[\"categorizer\"]\n"
   ],
   "id": "70df0977d6d29406",
   "outputs": [],
   "execution_count": 19
  },
  {
   "metadata": {
    "ExecuteTime": {
     "end_time": "2025-04-01T17:08:43.942739Z",
     "start_time": "2025-04-01T17:08:43.927122Z"
    }
   },
   "cell_type": "code",
   "source": [
    "algo_names = [get_algo_name(algo) for algo in embedding_algos]\n",
    "querries_flatmap = []\n",
    "for querries in data_querries.values():\n",
    "    querries_flatmap += querries"
   ],
   "id": "fb8090843dccedda",
   "outputs": [],
   "execution_count": 20
  },
  {
   "metadata": {
    "ExecuteTime": {
     "end_time": "2025-04-01T17:08:44.007996Z",
     "start_time": "2025-04-01T17:08:43.992125Z"
    }
   },
   "cell_type": "code",
   "source": "metrics = pd.DataFrame(index= querries_flatmap, columns=algo_names, )",
   "id": "299adf386cfec16c",
   "outputs": [],
   "execution_count": 21
  },
  {
   "metadata": {
    "ExecuteTime": {
     "end_time": "2025-04-02T06:49:06.725722Z",
     "start_time": "2025-04-02T06:48:56.572167Z"
    }
   },
   "cell_type": "code",
   "source": [
    "\n",
    "for category, querries in data_querries.items():\n",
    "    for querry in querries:\n",
    "        for embedding_algo in embedding_algos:\n",
    "            algo_name = get_algo_name(embedding_algo)\n",
    "            embedding, numerical_labels, categorizer = get_embedding(category, querry, embedding_algo)\n",
    "            if embedding is None:\n",
    "                metrics.loc[querry, algo_name] = \"-\"\n",
    "            elif metrics.loc[querry, algo_name] != \"-\":\n",
    "                continue\n",
    "            else:\n",
    "                score = get_embedding_score(numerical_labels, embedding)\n",
    "                metrics.loc[querry, algo_name] = score\n",
    "                print(f\"set {metrics.loc[querry, algo_name]} for {querry}, {algo_name}\")\n"
   ],
   "id": "d3a5341faff63590",
   "outputs": [
    {
     "name": "stdout",
     "output_type": "stream",
     "text": [
      "set 14.70031155016566 for Transformer models, tf_idf__get_embedding_UMAP\n",
      "set 4.587344605697416 for Federated learning, tf_idf__get_embedding_UMAP\n",
      "set 2.2225937259308925 for Quantum computing, tf_idf__get_embedding_UMAP\n",
      "set -3.4045358014806433 for Explainable AI, tf_idf__get_embedding_UMAP\n",
      "set 21.007679498499055 for Graph neural networks, tf_idf__get_embedding_UMAP\n",
      "set 3.2213919634611177 for Topological insulators, tf_idf__get_embedding_UMAP\n",
      "set 35.06003515454373 for Optical metamaterials, tf_idf__get_embedding_UMAP\n",
      "set -20.226208171095 for Fission, tf_idf__get_embedding_UMAP\n",
      "set 45.18792775646175 for Soft robotics, tf_idf__get_embedding_UMAP\n",
      "set 31.401894465817076 for Health monitoring, tf_idf__get_embedding_UMAP\n",
      "set 40.90331490858543 for CRISPR, tf_idf__get_embedding_UMAP\n",
      "set 28.98492295180674 for Microbiome, tf_idf__get_embedding_UMAP\n",
      "set 29.76085483767892 for DNA sequencing, tf_idf__get_embedding_UMAP\n",
      "set 24.774703025589638 for Synthetic biology, tf_idf__get_embedding_UMAP\n",
      "set 10.637485800618842 for Drug delivery, tf_idf__get_embedding_UMAP\n",
      "set 34.37956329777182 for Climate model, tf_idf__get_embedding_UMAP\n",
      "set 41.32789560276671 for Remote sensing, tf_idf__get_embedding_UMAP\n",
      "set 24.42942037617101 for Greenhouse gas, tf_idf__get_embedding_UMAP\n",
      "set 21.382967936722295 for Biodiversity, tf_idf__get_embedding_UMAP\n",
      "set 9.272263534339642 for Light pollution, tf_idf__get_embedding_UMAP\n"
     ]
    }
   ],
   "execution_count": 39
  },
  {
   "metadata": {
    "ExecuteTime": {
     "end_time": "2025-04-01T17:10:00.651849Z",
     "start_time": "2025-04-01T17:10:00.620772Z"
    }
   },
   "cell_type": "code",
   "source": [
    "for category, querries in data_querries.items():\n",
    "    for querry in querries:\n",
    "        for embedding_algo in embedding_algos:\n",
    "            algo_name = get_algo_name(embedding_algo)\n",
    "            # if is Nan\n",
    "            if pd.isnull(metrics.loc[querry, algo_name]):\n",
    "                metrics.loc[querry, algo_name] = \"-\""
   ],
   "id": "fbdd8bfe483838eb",
   "outputs": [],
   "execution_count": 23
  },
  {
   "metadata": {
    "ExecuteTime": {
     "end_time": "2025-04-02T06:48:10.529652Z",
     "start_time": "2025-04-02T06:48:10.517832Z"
    }
   },
   "cell_type": "code",
   "source": [
    "from datetime import datetime\n",
    "\n",
    "# Get the current timestamp up to minutes\n",
    "timestamp = datetime.now().strftime(\"%Y%m%d_%H%M\")\n",
    "metrics_path = f\"../embedding_results/metrics_{timestamp}.pkl\""
   ],
   "id": "f9fe55c7aa0d2fed",
   "outputs": [],
   "execution_count": 32
  },
  {
   "metadata": {
    "ExecuteTime": {
     "end_time": "2025-04-02T06:48:10.561104Z",
     "start_time": "2025-04-02T06:48:10.540701Z"
    }
   },
   "cell_type": "code",
   "source": [
    "# metrics_path = f\"../embedding_results/metrics_20250328_1134.pkl\"\n",
    "metrics[get_algo_name(tf_idf_UMAP_embedding)] = \"-\""
   ],
   "id": "a7adc3b4e005377f",
   "outputs": [],
   "execution_count": 33
  },
  {
   "metadata": {
    "ExecuteTime": {
     "end_time": "2025-04-02T06:48:10.608029Z",
     "start_time": "2025-04-02T06:48:10.592731Z"
    }
   },
   "cell_type": "code",
   "source": [
    "with open(metrics_path, \"wb\") as f:\n",
    "    pickle.dump(metrics, f)"
   ],
   "id": "8a0bd184ddc79a7f",
   "outputs": [],
   "execution_count": 34
  },
  {
   "metadata": {
    "ExecuteTime": {
     "end_time": "2025-04-02T06:48:10.686914Z",
     "start_time": "2025-04-02T06:48:10.639749Z"
    }
   },
   "cell_type": "code",
   "source": [
    "with open(metrics_path, \"rb\") as f:\n",
    "    metrics = pickle.load(f)"
   ],
   "id": "b66a3406b5ea2c9",
   "outputs": [],
   "execution_count": 35
  },
  {
   "metadata": {
    "ExecuteTime": {
     "end_time": "2025-04-02T06:48:10.734512Z",
     "start_time": "2025-04-02T06:48:10.721094Z"
    }
   },
   "cell_type": "code",
   "source": [
    "def to_display_str(value):\n",
    "    if value == \"-\":\n",
    "        return str(value)\n",
    "    float_val = float(value)\n",
    "    return f\"{float_val:.2f}\""
   ],
   "id": "be1d840a3d62df04",
   "outputs": [],
   "execution_count": 36
  },
  {
   "metadata": {
    "ExecuteTime": {
     "end_time": "2025-04-02T06:49:13.769599Z",
     "start_time": "2025-04-02T06:49:13.742475Z"
    }
   },
   "cell_type": "code",
   "source": [
    "# generate latex table\n",
    "print(f\"& {' & '.join(algo_names)} \\\\\\\\\")\n",
    "for category, querries in data_querries.items():\n",
    "    print(\"\\n\\\\midrule\")\n",
    "    for querry in querries:\n",
    "        print(f\"{querry} & {' & '.join([to_display_str(value) for value in metrics.loc[querry, :]])} \\\\\\\\\")\n"
   ],
   "id": "878ac79b74497a09",
   "outputs": [
    {
     "name": "stdout",
     "output_type": "stream",
     "text": [
      "& tf_idf__get_embedding_pca & tf_idf__get_embedding_UMAP & fasttext__get_embedding_mean_polling & fasttext__get_embedding_max_polling & fasttext__get_embedding_combined_polling & indirect_topics_trough_keyword_clusters__get_embedding & openai_api__get_embedding \\\\\n",
      "\n",
      "\\midrule\n",
      "Transformer models & 1.13 & 14.70 & 1.10 & 1.22 & 1.84 & 3.00 & 5.94 \\\\\n",
      "Federated learning & 3.51 & 4.59 & 0.76 & 3.97 & -0.04 & 1.70 & 9.23 \\\\\n",
      "Quantum computing & 3.90 & 2.22 & 10.65 & 5.50 & 3.46 & -0.42 & 10.30 \\\\\n",
      "Explainable AI & 5.92 & -3.40 & 4.06 & -1.35 & -1.55 & -1.91 & 10.59 \\\\\n",
      "Graph neural networks & 38.14 & 21.01 & 15.19 & 9.01 & 12.77 & 4.38 & 24.23 \\\\\n",
      "\n",
      "\\midrule\n",
      "Topological insulators & 3.24 & 3.22 & -0.38 & 1.55 & 0.58 & -0.63 & 4.33 \\\\\n",
      "Optical metamaterials & 46.88 & 35.06 & 34.60 & 39.15 & 37.12 & 35.35 & 25.68 \\\\\n",
      "Fission & 10.27 & -20.23 & 15.05 & 4.92 & 1.50 & -1.45 & 5.75 \\\\\n",
      "Soft robotics & 14.08 & 45.19 & 21.71 & 16.57 & 11.20 & 11.32 & 19.72 \\\\\n",
      "Health monitoring & 23.30 & 31.40 & 24.49 & 7.65 & 21.41 & 16.88 & 26.27 \\\\\n",
      "\n",
      "\\midrule\n",
      "CRISPR & 49.45 & 40.90 & 38.63 & 39.86 & 28.56 & 34.66 & 51.92 \\\\\n",
      "Microbiome & 11.31 & 28.98 & 16.46 & 13.55 & 14.17 & 4.31 & 18.89 \\\\\n",
      "DNA sequencing & 62.07 & 29.76 & 25.13 & 30.07 & 19.70 & 17.09 & 56.60 \\\\\n",
      "Synthetic biology & 26.57 & 24.77 & 11.95 & 15.04 & 18.77 & 3.06 & 17.67 \\\\\n",
      "Drug delivery & 3.60 & 10.64 & 7.10 & 2.42 & 3.17 & 14.54 & 12.32 \\\\\n",
      "\n",
      "\\midrule\n",
      "Climate model & 83.65 & 34.38 & 63.23 & 40.70 & 30.49 & 42.50 & 73.34 \\\\\n",
      "Remote sensing & 16.39 & 41.33 & 10.64 & 6.32 & 1.23 & 4.57 & 29.62 \\\\\n",
      "Greenhouse gas & 9.57 & 24.43 & 7.49 & 4.24 & 3.95 & 1.70 & 15.70 \\\\\n",
      "Biodiversity & 6.18 & 21.38 & 4.81 & 0.95 & 0.10 & 4.33 & 15.45 \\\\\n",
      "Light pollution & 27.38 & 9.27 & 11.13 & 18.93 & 21.90 & 19.65 & 23.29 \\\\\n"
     ]
    }
   ],
   "execution_count": 40
  },
  {
   "metadata": {
    "ExecuteTime": {
     "end_time": "2025-04-02T06:50:52.564685Z",
     "start_time": "2025-04-02T06:50:52.538716Z"
    }
   },
   "cell_type": "code",
   "source": "' & '.join([f\"{avg:.2f}\" for avg in  np.mean(metrics,axis = 0).iloc[:]])",
   "id": "1259ba381edd5eaa",
   "outputs": [
    {
     "data": {
      "text/plain": [
       "'22.33 & 19.98 & 16.19 & 13.01 & 11.52 & 10.73 & 22.84'"
      ]
     },
     "execution_count": 41,
     "metadata": {},
     "output_type": "execute_result"
    }
   ],
   "execution_count": 41
  },
  {
   "metadata": {
    "ExecuteTime": {
     "end_time": "2025-04-02T06:51:38.689072Z",
     "start_time": "2025-04-02T06:51:38.676466Z"
    }
   },
   "cell_type": "code",
   "source": "metrics_PCA = pd.DataFrame(index= querries_flatmap, columns=algo_names)",
   "id": "fe255d0be98ddbb8",
   "outputs": [],
   "execution_count": 42
  },
  {
   "metadata": {
    "ExecuteTime": {
     "end_time": "2025-04-02T06:51:40.548508Z",
     "start_time": "2025-04-02T06:51:40.532619Z"
    }
   },
   "cell_type": "code",
   "source": [
    "from sklearn.decomposition import PCA\n",
    "\n",
    "\n",
    "def reduce_embedding(embedding):\n",
    "    target_dimensions = min(100, embedding.shape[1], embedding.shape[0])\n",
    "    pca = PCA(n_components=target_dimensions)\n",
    "    return pca.fit_transform(embedding)"
   ],
   "id": "f6a48896f42f5c84",
   "outputs": [],
   "execution_count": 43
  },
  {
   "metadata": {
    "ExecuteTime": {
     "end_time": "2025-04-02T06:53:03.750745Z",
     "start_time": "2025-04-02T06:51:42.521291Z"
    }
   },
   "cell_type": "code",
   "source": [
    "for category, querries in data_querries.items():\n",
    "    for querry in querries:\n",
    "        for embedding_algo in embedding_algos:\n",
    "            algo_name = get_algo_name(embedding_algo)\n",
    "            embedding, numerical_labels, categorizer = get_embedding(category, querry, embedding_algo)\n",
    "            reduced_embedding = reduce_embedding(embedding)\n",
    "            if embedding is None:\n",
    "                metrics_PCA.loc[querry, algo_name] = \"-\"\n",
    "            else:\n",
    "                score = get_embedding_score(numerical_labels, embedding)\n",
    "                metrics_PCA.loc[querry, algo_name] = score\n",
    "                print(f\"set {metrics_PCA.loc[querry, algo_name]} for {querry}, {algo_name}\")"
   ],
   "id": "c621ea32ad379006",
   "outputs": [
    {
     "name": "stdout",
     "output_type": "stream",
     "text": [
      "set 0.48081338539903984 for Transformer models, tf_idf__get_embedding_pca\n",
      "set 15.451769082605015 for Transformer models, tf_idf__get_embedding_UMAP\n",
      "set -0.9282972050122924 for Transformer models, fasttext__get_embedding_mean_polling\n",
      "set 2.2895627408991035 for Transformer models, fasttext__get_embedding_max_polling\n",
      "set 0.645111982807967 for Transformer models, fasttext__get_embedding_combined_polling\n",
      "set 2.6464799346159933 for Transformer models, indirect_topics_trough_keyword_clusters__get_embedding\n",
      "set 5.980117966392168 for Transformer models, openai_api__get_embedding\n",
      "set 1.0460986125937937 for Federated learning, tf_idf__get_embedding_pca\n",
      "set 7.255743336258358 for Federated learning, tf_idf__get_embedding_UMAP\n",
      "set 2.2652643269578436 for Federated learning, fasttext__get_embedding_mean_polling\n",
      "set 2.8785783690832285 for Federated learning, fasttext__get_embedding_max_polling\n",
      "set 7.394282458904577 for Federated learning, fasttext__get_embedding_combined_polling\n",
      "set 2.720949585312906 for Federated learning, indirect_topics_trough_keyword_clusters__get_embedding\n",
      "set 12.996264576231987 for Federated learning, openai_api__get_embedding\n",
      "set -0.048183741668702144 for Quantum computing, tf_idf__get_embedding_pca\n",
      "set 1.4726237046637616 for Quantum computing, tf_idf__get_embedding_UMAP\n",
      "set 8.55557154315491 for Quantum computing, fasttext__get_embedding_mean_polling\n",
      "set 3.4660357122716907 for Quantum computing, fasttext__get_embedding_max_polling\n",
      "set 4.098020256897539 for Quantum computing, fasttext__get_embedding_combined_polling\n",
      "set 0.8025587941227104 for Quantum computing, indirect_topics_trough_keyword_clusters__get_embedding\n",
      "set 14.64020918855514 for Quantum computing, openai_api__get_embedding\n",
      "set 0.6297161821068805 for Explainable AI, tf_idf__get_embedding_pca\n",
      "set -2.257757986303494 for Explainable AI, tf_idf__get_embedding_UMAP\n",
      "set 3.5769777054668745 for Explainable AI, fasttext__get_embedding_mean_polling\n",
      "set -0.013527171134895816 for Explainable AI, fasttext__get_embedding_max_polling\n",
      "set 0.8306362030294951 for Explainable AI, fasttext__get_embedding_combined_polling\n",
      "set -0.8115475742067626 for Explainable AI, indirect_topics_trough_keyword_clusters__get_embedding\n",
      "set 7.069439327845522 for Explainable AI, openai_api__get_embedding\n",
      "set 35.22474061897294 for Graph neural networks, tf_idf__get_embedding_pca\n",
      "set 20.58216812705931 for Graph neural networks, tf_idf__get_embedding_UMAP\n",
      "set 24.1690375887691 for Graph neural networks, fasttext__get_embedding_mean_polling\n",
      "set 10.77645504107953 for Graph neural networks, fasttext__get_embedding_max_polling\n",
      "set 16.990325942192612 for Graph neural networks, fasttext__get_embedding_combined_polling\n",
      "set 2.7344968242041947 for Graph neural networks, indirect_topics_trough_keyword_clusters__get_embedding\n",
      "set 18.2334663277144 for Graph neural networks, openai_api__get_embedding\n",
      "set 4.590191931823673 for Topological insulators, tf_idf__get_embedding_pca\n",
      "set 4.494360460872167 for Topological insulators, tf_idf__get_embedding_UMAP\n",
      "set 0.7961854610175876 for Topological insulators, fasttext__get_embedding_mean_polling\n",
      "set 2.665169032069476 for Topological insulators, fasttext__get_embedding_max_polling\n",
      "set 1.5889535619781732 for Topological insulators, fasttext__get_embedding_combined_polling\n",
      "set -0.27610611936157586 for Topological insulators, indirect_topics_trough_keyword_clusters__get_embedding\n",
      "set 7.3691836265075334 for Topological insulators, openai_api__get_embedding\n",
      "set 52.23544014954449 for Optical metamaterials, tf_idf__get_embedding_pca\n",
      "set 28.685088963030815 for Optical metamaterials, tf_idf__get_embedding_UMAP\n",
      "set 36.844739518209266 for Optical metamaterials, fasttext__get_embedding_mean_polling\n",
      "set 32.563988206955464 for Optical metamaterials, fasttext__get_embedding_max_polling\n",
      "set 30.286796144326033 for Optical metamaterials, fasttext__get_embedding_combined_polling\n",
      "set 32.16188031658022 for Optical metamaterials, indirect_topics_trough_keyword_clusters__get_embedding\n",
      "set 10.322506962223096 for Optical metamaterials, openai_api__get_embedding\n",
      "set 11.253634445922172 for Fission, tf_idf__get_embedding_pca\n",
      "set 1.6256509382673936 for Fission, tf_idf__get_embedding_UMAP\n",
      "set 4.779836772726885 for Fission, fasttext__get_embedding_mean_polling\n",
      "set -0.6046325501519343 for Fission, fasttext__get_embedding_max_polling\n",
      "set 1.6039294853141695 for Fission, fasttext__get_embedding_combined_polling\n",
      "set 3.6164162776587503 for Fission, indirect_topics_trough_keyword_clusters__get_embedding\n",
      "set 9.325560022214988 for Fission, openai_api__get_embedding\n",
      "set 12.149946979218802 for Soft robotics, tf_idf__get_embedding_pca\n",
      "set 44.97819185403543 for Soft robotics, tf_idf__get_embedding_UMAP\n",
      "set 22.733218198488217 for Soft robotics, fasttext__get_embedding_mean_polling\n",
      "set 15.495305689218283 for Soft robotics, fasttext__get_embedding_max_polling\n",
      "set 11.022179463768552 for Soft robotics, fasttext__get_embedding_combined_polling\n",
      "set 7.306694216043734 for Soft robotics, indirect_topics_trough_keyword_clusters__get_embedding\n",
      "set 21.990191854569456 for Soft robotics, openai_api__get_embedding\n",
      "set 8.642487032703022 for Health monitoring, tf_idf__get_embedding_pca\n",
      "set 34.45800631895245 for Health monitoring, tf_idf__get_embedding_UMAP\n",
      "set 9.379634484926703 for Health monitoring, fasttext__get_embedding_mean_polling\n",
      "set 15.453337796584657 for Health monitoring, fasttext__get_embedding_max_polling\n",
      "set 10.509448420998215 for Health monitoring, fasttext__get_embedding_combined_polling\n",
      "set 12.388604373102723 for Health monitoring, indirect_topics_trough_keyword_clusters__get_embedding\n",
      "set 17.853787973967055 for Health monitoring, openai_api__get_embedding\n",
      "set 39.479088086497434 for CRISPR, tf_idf__get_embedding_pca\n",
      "set 41.202633337911664 for CRISPR, tf_idf__get_embedding_UMAP\n",
      "set 40.47415561536751 for CRISPR, fasttext__get_embedding_mean_polling\n",
      "set 35.05804797548886 for CRISPR, fasttext__get_embedding_max_polling\n",
      "set 40.004990180467345 for CRISPR, fasttext__get_embedding_combined_polling\n",
      "set 43.110863867843634 for CRISPR, indirect_topics_trough_keyword_clusters__get_embedding\n",
      "set 45.871054492945646 for CRISPR, openai_api__get_embedding\n",
      "set 10.863336867972366 for Microbiome, tf_idf__get_embedding_pca\n",
      "set 27.80181480442788 for Microbiome, tf_idf__get_embedding_UMAP\n",
      "set 18.25291171465751 for Microbiome, fasttext__get_embedding_mean_polling\n",
      "set 13.375445720202702 for Microbiome, fasttext__get_embedding_max_polling\n",
      "set 12.13164723489848 for Microbiome, fasttext__get_embedding_combined_polling\n",
      "set -1.1157041453701504 for Microbiome, indirect_topics_trough_keyword_clusters__get_embedding\n",
      "set 17.20025214172039 for Microbiome, openai_api__get_embedding\n",
      "set 49.98147862120701 for DNA sequencing, tf_idf__get_embedding_pca\n",
      "set 30.227989612419968 for DNA sequencing, tf_idf__get_embedding_UMAP\n",
      "set 32.72769042724647 for DNA sequencing, fasttext__get_embedding_mean_polling\n",
      "set 33.74680115182072 for DNA sequencing, fasttext__get_embedding_max_polling\n",
      "set 25.705328360720365 for DNA sequencing, fasttext__get_embedding_combined_polling\n",
      "set 18.929176254285697 for DNA sequencing, indirect_topics_trough_keyword_clusters__get_embedding\n",
      "set 64.2543559776595 for DNA sequencing, openai_api__get_embedding\n",
      "set 35.04764764010207 for Synthetic biology, tf_idf__get_embedding_pca\n",
      "set 23.348611110374677 for Synthetic biology, tf_idf__get_embedding_UMAP\n",
      "set 14.761438680865874 for Synthetic biology, fasttext__get_embedding_mean_polling\n",
      "set 16.224982512143296 for Synthetic biology, fasttext__get_embedding_max_polling\n",
      "set 13.97610298972906 for Synthetic biology, fasttext__get_embedding_combined_polling\n",
      "set 7.872151440326254 for Synthetic biology, indirect_topics_trough_keyword_clusters__get_embedding\n",
      "set 26.847331237797533 for Synthetic biology, openai_api__get_embedding\n",
      "set 12.104706154678976 for Drug delivery, tf_idf__get_embedding_pca\n",
      "set 6.857563022824206 for Drug delivery, tf_idf__get_embedding_UMAP\n",
      "set 1.0109265840654165 for Drug delivery, fasttext__get_embedding_mean_polling\n",
      "set 4.53240194281417 for Drug delivery, fasttext__get_embedding_max_polling\n",
      "set 2.5270223524265805 for Drug delivery, fasttext__get_embedding_combined_polling\n",
      "set 10.03133674990571 for Drug delivery, indirect_topics_trough_keyword_clusters__get_embedding\n",
      "set 10.042622123723834 for Drug delivery, openai_api__get_embedding\n",
      "set 82.65347066308863 for Climate model, tf_idf__get_embedding_pca\n",
      "set 33.0069233280077 for Climate model, tf_idf__get_embedding_UMAP\n",
      "set 57.83159987494568 for Climate model, fasttext__get_embedding_mean_polling\n",
      "set 40.409008862735014 for Climate model, fasttext__get_embedding_max_polling\n",
      "set 30.339083559891623 for Climate model, fasttext__get_embedding_combined_polling\n",
      "set 42.6214955660695 for Climate model, indirect_topics_trough_keyword_clusters__get_embedding\n",
      "set 72.77784058927278 for Climate model, openai_api__get_embedding\n",
      "set 19.330789187367678 for Remote sensing, tf_idf__get_embedding_pca\n",
      "set 40.51695233145872 for Remote sensing, tf_idf__get_embedding_UMAP\n",
      "set 16.76286972875618 for Remote sensing, fasttext__get_embedding_mean_polling\n",
      "set 7.962726217300488 for Remote sensing, fasttext__get_embedding_max_polling\n",
      "set 2.37233325616401 for Remote sensing, fasttext__get_embedding_combined_polling\n",
      "set 5.448703355616663 for Remote sensing, indirect_topics_trough_keyword_clusters__get_embedding\n",
      "set 33.529589428716456 for Remote sensing, openai_api__get_embedding\n",
      "set 16.93582973255441 for Greenhouse gas, tf_idf__get_embedding_pca\n",
      "set 25.225105099220613 for Greenhouse gas, tf_idf__get_embedding_UMAP\n",
      "set 10.163744657182901 for Greenhouse gas, fasttext__get_embedding_mean_polling\n",
      "set 6.153100958949981 for Greenhouse gas, fasttext__get_embedding_max_polling\n",
      "set 3.632065003644876 for Greenhouse gas, fasttext__get_embedding_combined_polling\n",
      "set -1.253833310871578 for Greenhouse gas, indirect_topics_trough_keyword_clusters__get_embedding\n",
      "set 19.12394531817535 for Greenhouse gas, openai_api__get_embedding\n",
      "set 5.467144561441457 for Biodiversity, tf_idf__get_embedding_pca\n",
      "set 20.020807552078708 for Biodiversity, tf_idf__get_embedding_UMAP\n",
      "set 6.296913647916949 for Biodiversity, fasttext__get_embedding_mean_polling\n",
      "set 2.950469454803581 for Biodiversity, fasttext__get_embedding_max_polling\n",
      "set 0.3670783117755789 for Biodiversity, fasttext__get_embedding_combined_polling\n",
      "set 1.9651929922268927 for Biodiversity, indirect_topics_trough_keyword_clusters__get_embedding\n",
      "set 17.21193936215438 for Biodiversity, openai_api__get_embedding\n",
      "set 17.367392424619403 for Light pollution, tf_idf__get_embedding_pca\n",
      "set 14.380128235910464 for Light pollution, tf_idf__get_embedding_UMAP\n",
      "set 5.013710855885146 for Light pollution, fasttext__get_embedding_mean_polling\n",
      "set 20.702765998212293 for Light pollution, fasttext__get_embedding_max_polling\n",
      "set 17.436195255225904 for Light pollution, fasttext__get_embedding_combined_polling\n",
      "set 18.053048775049323 for Light pollution, indirect_topics_trough_keyword_clusters__get_embedding\n",
      "set 22.04192990564596 for Light pollution, openai_api__get_embedding\n"
     ]
    }
   ],
   "execution_count": 44
  },
  {
   "metadata": {
    "ExecuteTime": {
     "end_time": "2025-04-02T06:48:11.315171900Z",
     "start_time": "2025-03-28T11:03:04.698897Z"
    }
   },
   "cell_type": "code",
   "source": [
    "# generate latex table\n",
    "print(f\"& {' & '.join(algo_names)} \\\\\\\\\")\n",
    "for category, querries in data_querries.items():\n",
    "    print(\"\\n\\\\midrule\")\n",
    "    for querry in querries:\n",
    "        print(f\"{querry} & {' & '.join([to_display_str(value) for value in metrics_PCA.loc[querry, :]])} \\\\\\\\\")"
   ],
   "id": "dcd34e8fb0371629",
   "outputs": [
    {
     "name": "stdout",
     "output_type": "stream",
     "text": [
      "& tf_idf__get_embedding_pca & fasttext__get_embedding_mean_polling & fasttext__get_embedding_max_polling & fasttext__get_embedding_combined_polling & indirect_topics_trough_keyword_clusters__get_embedding & openai_api__get_embedding \\\\\n",
      "\n",
      "\\midrule\n",
      "Transformer models & 1.03 & 1.89 & 1.19 & 0.17 & 0.27 & 8.66 \\\\\n",
      "Federated learning & 0.53 & 2.43 & 1.99 & 0.19 & 0.26 & 10.58 \\\\\n",
      "Quantum computing & 0.75 & 7.78 & 4.00 & 3.57 & 1.84 & 9.30 \\\\\n",
      "Explainable AI & 2.01 & 4.98 & 0.62 & 0.84 & 0.65 & 6.54 \\\\\n",
      "Graph neural networks & 35.70 & 16.29 & 11.41 & 13.55 & 10.76 & 28.15 \\\\\n",
      "\n",
      "\\midrule\n",
      "Topological insulators & 4.22 & -0.44 & 0.16 & 0.47 & 0.90 & 4.41 \\\\\n",
      "Optical metamaterials & 45.54 & 36.78 & 39.60 & 32.91 & 34.19 & 19.30 \\\\\n",
      "Fission & 5.42 & 10.73 & 4.63 & 10.35 & -6.07 & 14.02 \\\\\n",
      "Soft robotics & 15.34 & 21.19 & 15.34 & 10.97 & 10.55 & 20.55 \\\\\n",
      "Health monitoring & 18.91 & 10.75 & 12.13 & 24.69 & 19.12 & 23.19 \\\\\n",
      "\n",
      "\\midrule\n",
      "CRISPR & 47.32 & 49.92 & 30.49 & 42.81 & 28.84 & 43.26 \\\\\n",
      "Microbiome & 12.45 & 18.66 & 14.07 & 13.47 & -0.12 & 21.21 \\\\\n",
      "DNA sequencing & 57.55 & 32.95 & 39.86 & 25.01 & 14.55 & 57.52 \\\\\n",
      "Synthetic biology & 27.28 & 16.48 & 13.14 & 14.90 & 2.63 & 19.34 \\\\\n",
      "Drug delivery & 14.23 & -3.10 & 2.91 & 4.55 & 8.14 & 8.80 \\\\\n",
      "\n",
      "\\midrule\n",
      "Climate model & 83.15 & 58.17 & 40.80 & 30.37 & 36.12 & 72.68 \\\\\n",
      "Remote sensing & 18.78 & 10.79 & 9.91 & 2.29 & -0.82 & 24.82 \\\\\n",
      "Greenhouse gas & 13.76 & 9.43 & 4.21 & 3.74 & -6.39 & 19.25 \\\\\n",
      "Biodiversity & 9.63 & 5.68 & 3.01 & 1.31 & 4.90 & 15.46 \\\\\n",
      "Light pollution & 18.43 & 10.96 & 16.43 & 16.49 & 20.47 & 23.12 \\\\\n"
     ]
    }
   ],
   "execution_count": 38
  },
  {
   "metadata": {
    "ExecuteTime": {
     "end_time": "2025-04-02T06:53:03.814049Z",
     "start_time": "2025-04-02T06:53:03.798408Z"
    }
   },
   "cell_type": "code",
   "source": "' & '.join([f\"{avg:.2f}\" for avg in  np.mean(metrics_PCA,axis = 0).iloc[:]])",
   "id": "202548b5ee0422ea",
   "outputs": [
    {
     "data": {
      "text/plain": [
       "'20.77 & 20.97 & 15.77 & 13.30 & 11.67 & 10.45 & 22.73'"
      ]
     },
     "execution_count": 45,
     "metadata": {},
     "output_type": "execute_result"
    }
   ],
   "execution_count": 45
  }
 ],
 "metadata": {
  "kernelspec": {
   "display_name": "Python 3",
   "language": "python",
   "name": "python3"
  },
  "language_info": {
   "codemirror_mode": {
    "name": "ipython",
    "version": 2
   },
   "file_extension": ".py",
   "mimetype": "text/x-python",
   "name": "python",
   "nbconvert_exporter": "python",
   "pygments_lexer": "ipython2",
   "version": "2.7.6"
  }
 },
 "nbformat": 4,
 "nbformat_minor": 5
}
