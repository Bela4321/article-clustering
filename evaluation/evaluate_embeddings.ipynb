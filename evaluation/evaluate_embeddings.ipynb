{
 "cells": [
  {
   "cell_type": "code",
   "id": "initial_id",
   "metadata": {
    "collapsed": true,
    "ExecuteTime": {
     "end_time": "2025-03-26T16:53:56.727590Z",
     "start_time": "2025-03-26T16:53:56.412572Z"
    }
   },
   "source": [
    "import pickle\n",
    "import os\n",
    "import numpy as np\n",
    "import pandas as pd\n",
    "import matplotlib.pyplot as plt\n",
    "import seaborn as sns\n",
    "from pandas import isnull\n",
    "from sklearn.metrics.pairwise import cosine_similarity"
   ],
   "outputs": [],
   "execution_count": 1
  },
  {
   "metadata": {
    "ExecuteTime": {
     "end_time": "2025-03-26T16:53:56.759260Z",
     "start_time": "2025-03-26T16:53:56.735085Z"
    }
   },
   "cell_type": "code",
   "source": [
    "def get_embedding_score(numerical_labels,target_embedding ):\n",
    "    n = len(numerical_labels)\n",
    "\n",
    "\n",
    "    label_occurances = {}\n",
    "    for label_list in numerical_labels:\n",
    "        for label in label_list:\n",
    "            label_occurances[label] = label_occurances.get(label, 0) + 1\n",
    "\n",
    "    label_idfs = {key: np.log2(n / value) for key, value in label_occurances.items()}\n",
    "\n",
    "\n",
    "\n",
    "    unrelated_distances = []\n",
    "    related_distances = []\n",
    "    related_distances_weights = []\n",
    "\n",
    "    sample_size = 100_000\n",
    "    indices_i = np.random.randint(0, len(numerical_labels), sample_size)\n",
    "    indices_j = np.random.randint(0, len(numerical_labels)-1, sample_size)\n",
    "    indices_j = np.where(indices_j == indices_i, indices_j, len(numerical_labels)-1)\n",
    "\n",
    "    embeddings_i = target_embedding[indices_i]\n",
    "    embeddings_j = target_embedding[indices_j]\n",
    "\n",
    "    for i, doc_embedding_1, j, doc_embedding_2 in zip(indices_i,embeddings_i,indices_j,embeddings_j):\n",
    "        label_similarity = sum(\n",
    "            [label_idfs[label_1] for label_1 in numerical_labels[i] if label_1 in numerical_labels[j]])\n",
    "        doc_distance = cosine_similarity(doc_embedding_1.reshape(1, -1), doc_embedding_2.reshape(1, -1))[0][0]\n",
    "        if label_similarity == 0:\n",
    "            unrelated_distances.append(doc_distance)\n",
    "        else:\n",
    "            related_distances.append(doc_distance)\n",
    "            related_distances_weights.append(label_similarity)\n",
    "\n",
    "    mean_unrelated_distances = np.mean(unrelated_distances, axis=0)\n",
    "    mean_related_distances = np.average(related_distances, axis=0, weights=related_distances_weights)\n",
    "\n",
    "    min_distance = min(min(related_distances), min(unrelated_distances))\n",
    "    max_distance = max(max(related_distances), max(unrelated_distances))\n",
    "    final_score = (mean_related_distances - mean_unrelated_distances) / (max_distance - min_distance)\n",
    "    return final_score * 100"
   ],
   "id": "b6dfbcff3e89f0bb",
   "outputs": [],
   "execution_count": 2
  },
  {
   "metadata": {
    "ExecuteTime": {
     "end_time": "2025-03-26T16:54:18.442448Z",
     "start_time": "2025-03-26T16:53:57.299530Z"
    }
   },
   "cell_type": "code",
   "source": [
    "data_querries = {\"Computer Science and AI\": [\"Transformer models\", \"Federated learning\", \"Quantum computing\", \"Explainable AI\", \"Graph neural networks\"],\n",
    "\"Physics and Engineering\": [\"Topological insulators\",\"Optical metamaterials\",\"Fission\",\"Soft robotics\", \"Health monitoring\"],\n",
    "\"Biology and Medicine\": [\"CRISPR\",\"Microbiome\",\"DNA sequencing\",\"Synthetic biology\",\"Drug delivery\"],\n",
    "\"Earth and Environmental Science\": [\"Climate model\",\"Remote sensing\",\"Greenhouse gas\",\"Biodiversity\",\"Light pollution\"]}\n",
    "from embeddings.tf_idf import get_embedding_pca as tf_idf_embedding\n",
    "from embeddings.fasttext import get_embedding_mean_polling as fasttext_mean_embedding\n",
    "from embeddings.fasttext import get_embedding_max_polling as fasttext_max_embedding\n",
    "from embeddings.fasttext import get_embedding_combined_polling as fasttext_combined_embedding\n",
    "from embeddings.indirect_topics_trough_keyword_clusters import get_embedding as keyword_embedding\n",
    "from embeddings.openai_api import get_embedding as openai_embedding\n",
    "embedding_algos = [tf_idf_embedding, fasttext_mean_embedding, fasttext_max_embedding, fasttext_combined_embedding, keyword_embedding, openai_embedding]"
   ],
   "id": "4ed6f2f7bfe63c5f",
   "outputs": [],
   "execution_count": 3
  },
  {
   "metadata": {
    "ExecuteTime": {
     "end_time": "2025-03-26T16:54:18.521321Z",
     "start_time": "2025-03-26T16:54:18.506992Z"
    }
   },
   "cell_type": "code",
   "source": [
    "def get_algo_name(algo):\n",
    "    return str(algo.__module__.split(\".\")[-1]+\"__\"+algo.__name__)\n",
    "\n",
    "def get_embedding(category, querry, algo):\n",
    "    querry_key = (category[:5]+\"_\"+querry[:10]).replace(\" \",\"_\")\n",
    "    dir_name = get_algo_name(algo)\n",
    "    filename = f\"../embedding_results/{dir_name}/{querry_key}.pkl\"\n",
    "    if not os.path.exists(filename):\n",
    "        return None, None, None\n",
    "    with open(filename, \"rb\") as f:\n",
    "        embedding_dict = pickle.load(f)\n",
    "    return embedding_dict[\"embeddings\"], embedding_dict[\"numerical_labels\"], embedding_dict[\"categorizer\"]\n"
   ],
   "id": "70df0977d6d29406",
   "outputs": [],
   "execution_count": 4
  },
  {
   "metadata": {
    "ExecuteTime": {
     "end_time": "2025-03-26T16:54:18.560333Z",
     "start_time": "2025-03-26T16:54:18.538807Z"
    }
   },
   "cell_type": "code",
   "source": [
    "algo_names = [get_algo_name(algo) for algo in embedding_algos]\n",
    "querries_flatmap = []\n",
    "for querries in data_querries.values():\n",
    "    querries_flatmap += querries\n",
    "metrics = pd.DataFrame(index= querries_flatmap, columns=algo_names, )"
   ],
   "id": "299adf386cfec16c",
   "outputs": [],
   "execution_count": 5
  },
  {
   "metadata": {
    "ExecuteTime": {
     "end_time": "2025-03-26T18:22:08.280336Z",
     "start_time": "2025-03-26T16:54:18.596833Z"
    }
   },
   "cell_type": "code",
   "source": [
    "\n",
    "for category, querries in data_querries.items():\n",
    "    for querry in querries:\n",
    "        for embedding_algo in embedding_algos:\n",
    "            algo_name = get_algo_name(embedding_algo)\n",
    "            embedding, numerical_labels, categorizer = get_embedding(category, querry, embedding_algo)\n",
    "            if embedding is None:\n",
    "                metrics.loc[querry, algo_name] = \"-\"\n",
    "            else:\n",
    "                score = get_embedding_score(numerical_labels, embedding)\n",
    "                metrics.loc[querry, algo_name] = score\n",
    "                print(f\"set {metrics.loc[querry, algo_name]} for {querry}, {algo_name}\")\n"
   ],
   "id": "d3a5341faff63590",
   "outputs": [
    {
     "name": "stdout",
     "output_type": "stream",
     "text": [
      "set 1.6420922303198855 for Transformer models, tf_idf__get_embedding_pca\n",
      "set 1.436958977836901 for Transformer models, fasttext__get_embedding_mean_polling\n",
      "set 1.4875825007783177 for Transformer models, fasttext__get_embedding_max_polling\n",
      "set 1.0435524460131442 for Transformer models, fasttext__get_embedding_combined_polling\n",
      "set -0.24183276043128854 for Transformer models, indirect_topics_trough_keyword_clusters__get_embedding\n",
      "set 6.263348592071349 for Transformer models, openai_api__get_embedding\n",
      "set 1.405408858760425 for Federated learning, tf_idf__get_embedding_pca\n",
      "set 0.5545552633064432 for Federated learning, fasttext__get_embedding_mean_polling\n",
      "set 2.266005273958432 for Federated learning, fasttext__get_embedding_max_polling\n",
      "set 0.18376150507554784 for Federated learning, fasttext__get_embedding_combined_polling\n",
      "set 2.738139189031687 for Federated learning, indirect_topics_trough_keyword_clusters__get_embedding\n",
      "set 6.9438712965825875 for Federated learning, openai_api__get_embedding\n",
      "set 0.10868006187470694 for Quantum computing, tf_idf__get_embedding_pca\n",
      "set 6.022847857208157 for Quantum computing, fasttext__get_embedding_mean_polling\n",
      "set 3.588962410573371 for Quantum computing, fasttext__get_embedding_max_polling\n",
      "set 2.6129596133567987 for Quantum computing, fasttext__get_embedding_combined_polling\n",
      "set 2.0490278338841827 for Quantum computing, indirect_topics_trough_keyword_clusters__get_embedding\n",
      "set 9.904460856239082 for Quantum computing, openai_api__get_embedding\n",
      "set 3.0685687597927225 for Explainable AI, tf_idf__get_embedding_pca\n",
      "set 4.045932200521731 for Explainable AI, fasttext__get_embedding_mean_polling\n",
      "set -0.445775693917283 for Explainable AI, fasttext__get_embedding_max_polling\n",
      "set 0.37822320246360486 for Explainable AI, fasttext__get_embedding_combined_polling\n",
      "set 2.03131094778528 for Explainable AI, indirect_topics_trough_keyword_clusters__get_embedding\n",
      "set 6.2207483023603665 for Explainable AI, openai_api__get_embedding\n",
      "set 39.15461362564233 for Graph neural networks, tf_idf__get_embedding_pca\n",
      "set 19.840510338772592 for Graph neural networks, fasttext__get_embedding_mean_polling\n",
      "set 10.399311214967895 for Graph neural networks, fasttext__get_embedding_max_polling\n",
      "set 13.318168615945163 for Graph neural networks, fasttext__get_embedding_combined_polling\n",
      "set 0.8808485050931014 for Graph neural networks, indirect_topics_trough_keyword_clusters__get_embedding\n",
      "set 24.598512142332535 for Graph neural networks, openai_api__get_embedding\n",
      "set 3.510318769061685 for Topological insulators, tf_idf__get_embedding_pca\n",
      "set -0.17542490479747058 for Topological insulators, fasttext__get_embedding_mean_polling\n",
      "set 0.5915611946869672 for Topological insulators, fasttext__get_embedding_max_polling\n",
      "set 0.6385418040685448 for Topological insulators, fasttext__get_embedding_combined_polling\n",
      "set -0.9590228326049725 for Topological insulators, indirect_topics_trough_keyword_clusters__get_embedding\n",
      "set 4.638443636048038 for Topological insulators, openai_api__get_embedding\n",
      "set 46.763768795955606 for Optical metamaterials, tf_idf__get_embedding_pca\n",
      "set 34.85075446772465 for Optical metamaterials, fasttext__get_embedding_mean_polling\n",
      "set 33.203309591535756 for Optical metamaterials, fasttext__get_embedding_max_polling\n",
      "set 35.11957877490695 for Optical metamaterials, fasttext__get_embedding_combined_polling\n",
      "set 28.164490976956436 for Optical metamaterials, indirect_topics_trough_keyword_clusters__get_embedding\n",
      "set 26.336836463499825 for Optical metamaterials, openai_api__get_embedding\n",
      "set 11.921595701477083 for Fission, tf_idf__get_embedding_pca\n",
      "set 4.291022785790142 for Fission, fasttext__get_embedding_mean_polling\n",
      "set 4.23335266801932 for Fission, fasttext__get_embedding_max_polling\n",
      "set 2.94749404839172 for Fission, fasttext__get_embedding_combined_polling\n",
      "set -4.515108958234417 for Fission, indirect_topics_trough_keyword_clusters__get_embedding\n",
      "set 7.5466757136565965 for Fission, openai_api__get_embedding\n",
      "set 14.754580273851477 for Soft robotics, tf_idf__get_embedding_pca\n",
      "set 22.50004887361314 for Soft robotics, fasttext__get_embedding_mean_polling\n",
      "set 15.853322477972059 for Soft robotics, fasttext__get_embedding_max_polling\n",
      "set 10.909944350769821 for Soft robotics, fasttext__get_embedding_combined_polling\n",
      "set 13.13653083773159 for Soft robotics, indirect_topics_trough_keyword_clusters__get_embedding\n",
      "set 19.769092633736186 for Soft robotics, openai_api__get_embedding\n",
      "set 17.736198607487623 for Health monitoring, tf_idf__get_embedding_pca\n",
      "set 15.750517027497915 for Health monitoring, fasttext__get_embedding_mean_polling\n",
      "set 14.920812036314707 for Health monitoring, fasttext__get_embedding_max_polling\n",
      "set 17.468961451907422 for Health monitoring, fasttext__get_embedding_combined_polling\n",
      "set 11.537380825140248 for Health monitoring, indirect_topics_trough_keyword_clusters__get_embedding\n",
      "set 22.2102748881253 for Health monitoring, openai_api__get_embedding\n",
      "set 46.03699802079752 for CRISPR, tf_idf__get_embedding_pca\n",
      "set 41.810755604686136 for CRISPR, fasttext__get_embedding_mean_polling\n",
      "set 37.14485879520207 for CRISPR, fasttext__get_embedding_max_polling\n",
      "set 36.991428286414276 for CRISPR, fasttext__get_embedding_combined_polling\n",
      "set 25.111524270639656 for CRISPR, indirect_topics_trough_keyword_clusters__get_embedding\n",
      "set 45.02214791002104 for CRISPR, openai_api__get_embedding\n",
      "set 12.544712077180417 for Microbiome, tf_idf__get_embedding_pca\n",
      "set 17.180969785815535 for Microbiome, fasttext__get_embedding_mean_polling\n",
      "set 12.119290936784708 for Microbiome, fasttext__get_embedding_max_polling\n",
      "set 12.042579192525714 for Microbiome, fasttext__get_embedding_combined_polling\n",
      "set 2.1272393643946694 for Microbiome, indirect_topics_trough_keyword_clusters__get_embedding\n",
      "set 17.936049609540305 for Microbiome, openai_api__get_embedding\n",
      "set 60.44506496740099 for DNA sequencing, tf_idf__get_embedding_pca\n",
      "set 35.128742875343086 for DNA sequencing, fasttext__get_embedding_mean_polling\n",
      "set 33.3811777839843 for DNA sequencing, fasttext__get_embedding_max_polling\n",
      "set 23.015337054736527 for DNA sequencing, fasttext__get_embedding_combined_polling\n",
      "set 18.519451519673396 for DNA sequencing, indirect_topics_trough_keyword_clusters__get_embedding\n",
      "set 58.14597577106012 for DNA sequencing, openai_api__get_embedding\n",
      "set 24.76203999732598 for Synthetic biology, tf_idf__get_embedding_pca\n",
      "set 15.581422532793187 for Synthetic biology, fasttext__get_embedding_mean_polling\n",
      "set 13.652568728604598 for Synthetic biology, fasttext__get_embedding_max_polling\n",
      "set 16.4290232078486 for Synthetic biology, fasttext__get_embedding_combined_polling\n",
      "set 4.059202996798884 for Synthetic biology, indirect_topics_trough_keyword_clusters__get_embedding\n",
      "set 24.37565613627047 for Synthetic biology, openai_api__get_embedding\n",
      "set 9.222662149090889 for Drug delivery, tf_idf__get_embedding_pca\n",
      "set 1.6333969602844185 for Drug delivery, fasttext__get_embedding_mean_polling\n",
      "set 4.368077830357566 for Drug delivery, fasttext__get_embedding_max_polling\n",
      "set 3.650357658885963 for Drug delivery, fasttext__get_embedding_combined_polling\n",
      "set 9.029677573412608 for Drug delivery, indirect_topics_trough_keyword_clusters__get_embedding\n",
      "set 10.214327719161302 for Drug delivery, openai_api__get_embedding\n",
      "set 82.71561071486502 for Climate model, tf_idf__get_embedding_pca\n",
      "set 58.26877390247832 for Climate model, fasttext__get_embedding_mean_polling\n",
      "set 40.67649564542727 for Climate model, fasttext__get_embedding_max_polling\n",
      "set 30.276945900680204 for Climate model, fasttext__get_embedding_combined_polling\n",
      "set 48.24531214042367 for Climate model, indirect_topics_trough_keyword_clusters__get_embedding\n",
      "set 73.16158462422187 for Climate model, openai_api__get_embedding\n",
      "set 18.833430562785995 for Remote sensing, tf_idf__get_embedding_pca\n",
      "set 9.493328001347296 for Remote sensing, fasttext__get_embedding_mean_polling\n",
      "set 3.149050143346982 for Remote sensing, fasttext__get_embedding_max_polling\n",
      "set 2.2702590179131366 for Remote sensing, fasttext__get_embedding_combined_polling\n",
      "set 2.1702977926320286 for Remote sensing, indirect_topics_trough_keyword_clusters__get_embedding\n",
      "set 21.31482743851524 for Remote sensing, openai_api__get_embedding\n",
      "set 10.826159409452652 for Greenhouse gas, tf_idf__get_embedding_pca\n",
      "set 8.74786332109479 for Greenhouse gas, fasttext__get_embedding_mean_polling\n",
      "set 4.5359501761362875 for Greenhouse gas, fasttext__get_embedding_max_polling\n",
      "set 3.888928379078538 for Greenhouse gas, fasttext__get_embedding_combined_polling\n",
      "set -0.11601309296691927 for Greenhouse gas, indirect_topics_trough_keyword_clusters__get_embedding\n",
      "set 17.799349366449807 for Greenhouse gas, openai_api__get_embedding\n",
      "set 7.266186917869757 for Biodiversity, tf_idf__get_embedding_pca\n",
      "set 4.988346085093485 for Biodiversity, fasttext__get_embedding_mean_polling\n",
      "set 2.0197873317384687 for Biodiversity, fasttext__get_embedding_max_polling\n",
      "set 1.1234780862381535 for Biodiversity, fasttext__get_embedding_combined_polling\n",
      "set 2.0963130650616355 for Biodiversity, indirect_topics_trough_keyword_clusters__get_embedding\n",
      "set 16.209544205836167 for Biodiversity, openai_api__get_embedding\n",
      "set 23.302672001644765 for Light pollution, tf_idf__get_embedding_pca\n",
      "set 8.458334844361636 for Light pollution, fasttext__get_embedding_mean_polling\n",
      "set 17.692934913054987 for Light pollution, fasttext__get_embedding_max_polling\n",
      "set 17.214900069325427 for Light pollution, fasttext__get_embedding_combined_polling\n",
      "set 13.63221637584798 for Light pollution, indirect_topics_trough_keyword_clusters__get_embedding\n",
      "set 20.865043076354596 for Light pollution, openai_api__get_embedding\n"
     ]
    }
   ],
   "execution_count": 6
  },
  {
   "metadata": {
    "ExecuteTime": {
     "end_time": "2025-03-26T18:22:08.328283Z",
     "start_time": "2025-03-26T18:22:08.316354Z"
    }
   },
   "cell_type": "code",
   "source": [
    "for category, querries in data_querries.items():\n",
    "    for querry in querries:\n",
    "        for embedding_algo in embedding_algos:\n",
    "            algo_name = get_algo_name(embedding_algo)\n",
    "            # if is Nan\n",
    "            if pd.isnull(metrics.loc[querry, algo_name]):\n",
    "                metrics.loc[querry, algo_name] = \"-\""
   ],
   "id": "fbdd8bfe483838eb",
   "outputs": [],
   "execution_count": 7
  },
  {
   "metadata": {
    "ExecuteTime": {
     "end_time": "2025-03-26T18:22:08.424452Z",
     "start_time": "2025-03-26T18:22:08.410172Z"
    }
   },
   "cell_type": "code",
   "source": [
    "from datetime import datetime\n",
    "\n",
    "# Get the current timestamp up to minutes\n",
    "timestamp = datetime.now().strftime(\"%Y%m%d_%H%M\")\n",
    "metrics_path = f\"../embedding_results/metrics_{timestamp}.pkl\""
   ],
   "id": "f9fe55c7aa0d2fed",
   "outputs": [],
   "execution_count": 8
  },
  {
   "metadata": {
    "ExecuteTime": {
     "end_time": "2025-03-26T18:22:08.439601Z",
     "start_time": "2025-03-26T18:22:08.430669Z"
    }
   },
   "cell_type": "code",
   "source": [
    "with open(metrics_path, \"wb\") as f:\n",
    "    pickle.dump(metrics, f)"
   ],
   "id": "8a0bd184ddc79a7f",
   "outputs": [],
   "execution_count": 9
  },
  {
   "metadata": {
    "ExecuteTime": {
     "end_time": "2025-03-26T18:22:08.503372Z",
     "start_time": "2025-03-26T18:22:08.456943Z"
    }
   },
   "cell_type": "code",
   "source": [
    "with open(metrics_path, \"rb\") as f:\n",
    "    metrics = pickle.load(f)"
   ],
   "id": "b66a3406b5ea2c9",
   "outputs": [],
   "execution_count": 10
  },
  {
   "metadata": {
    "ExecuteTime": {
     "end_time": "2025-03-26T18:22:08.535189Z",
     "start_time": "2025-03-26T18:22:08.519506Z"
    }
   },
   "cell_type": "code",
   "source": [
    "def to_display_str(value):\n",
    "    if value == \"-\":\n",
    "        return str(value)\n",
    "    float_val = float(value)\n",
    "    return f\"{float_val:.2f}\""
   ],
   "id": "be1d840a3d62df04",
   "outputs": [],
   "execution_count": 11
  },
  {
   "metadata": {
    "ExecuteTime": {
     "end_time": "2025-03-26T18:22:08.582440Z",
     "start_time": "2025-03-26T18:22:08.567283Z"
    }
   },
   "cell_type": "code",
   "source": [
    "# generate latex table\n",
    "print(f\"& {' & '.join(algo_names)} \\\\\\\\\")\n",
    "for category, querries in data_querries.items():\n",
    "    print(\"\\n\\\\midrule\")\n",
    "    for querry in querries:\n",
    "        print(f\"{querry} & {' & '.join([to_display_str(value) for value in metrics.loc[querry, :]])} \\\\\\\\\")\n"
   ],
   "id": "878ac79b74497a09",
   "outputs": [
    {
     "name": "stdout",
     "output_type": "stream",
     "text": [
      "& tf_idf__get_embedding_pca & fasttext__get_embedding_mean_polling & fasttext__get_embedding_max_polling & fasttext__get_embedding_combined_polling & indirect_topics_trough_keyword_clusters__get_embedding & openai_api__get_embedding \\\\\n",
      "\n",
      "\\midrule\n",
      "Transformer models & 1.64 & 1.44 & 1.49 & 1.04 & -0.24 & 6.26 \\\\\n",
      "Federated learning & 1.41 & 0.55 & 2.27 & 0.18 & 2.74 & 6.94 \\\\\n",
      "Quantum computing & 0.11 & 6.02 & 3.59 & 2.61 & 2.05 & 9.90 \\\\\n",
      "Explainable AI & 3.07 & 4.05 & -0.45 & 0.38 & 2.03 & 6.22 \\\\\n",
      "Graph neural networks & 39.15 & 19.84 & 10.40 & 13.32 & 0.88 & 24.60 \\\\\n",
      "\n",
      "\\midrule\n",
      "Topological insulators & 3.51 & -0.18 & 0.59 & 0.64 & -0.96 & 4.64 \\\\\n",
      "Optical metamaterials & 46.76 & 34.85 & 33.20 & 35.12 & 28.16 & 26.34 \\\\\n",
      "Fission & 11.92 & 4.29 & 4.23 & 2.95 & -4.52 & 7.55 \\\\\n",
      "Soft robotics & 14.75 & 22.50 & 15.85 & 10.91 & 13.14 & 19.77 \\\\\n",
      "Health monitoring & 17.74 & 15.75 & 14.92 & 17.47 & 11.54 & 22.21 \\\\\n",
      "\n",
      "\\midrule\n",
      "CRISPR & 46.04 & 41.81 & 37.14 & 36.99 & 25.11 & 45.02 \\\\\n",
      "Microbiome & 12.54 & 17.18 & 12.12 & 12.04 & 2.13 & 17.94 \\\\\n",
      "DNA sequencing & 60.45 & 35.13 & 33.38 & 23.02 & 18.52 & 58.15 \\\\\n",
      "Synthetic biology & 24.76 & 15.58 & 13.65 & 16.43 & 4.06 & 24.38 \\\\\n",
      "Drug delivery & 9.22 & 1.63 & 4.37 & 3.65 & 9.03 & 10.21 \\\\\n",
      "\n",
      "\\midrule\n",
      "Climate model & 82.72 & 58.27 & 40.68 & 30.28 & 48.25 & 73.16 \\\\\n",
      "Remote sensing & 18.83 & 9.49 & 3.15 & 2.27 & 2.17 & 21.31 \\\\\n",
      "Greenhouse gas & 10.83 & 8.75 & 4.54 & 3.89 & -0.12 & 17.80 \\\\\n",
      "Biodiversity & 7.27 & 4.99 & 2.02 & 1.12 & 2.10 & 16.21 \\\\\n",
      "Light pollution & 23.30 & 8.46 & 17.69 & 17.21 & 13.63 & 20.87 \\\\\n"
     ]
    }
   ],
   "execution_count": 12
  },
  {
   "metadata": {
    "ExecuteTime": {
     "end_time": "2025-03-26T23:32:47.795074Z",
     "start_time": "2025-03-26T23:32:47.775461Z"
    }
   },
   "cell_type": "code",
   "source": "np.mean(metrics,axis = 0).iloc[:]",
   "id": "1259ba381edd5eaa",
   "outputs": [
    {
     "data": {
      "text/plain": [
       "tf_idf__get_embedding_pca                                 21.801068\n",
       "fasttext__get_embedding_mean_polling                      15.520483\n",
       "fasttext__get_embedding_max_polling                       12.741932\n",
       "fasttext__get_embedding_combined_polling                  11.576221\n",
       "indirect_topics_trough_keyword_clusters__get_embedding     8.984849\n",
       "openai_api__get_embedding                                 21.973839\n",
       "dtype: object"
      ]
     },
     "execution_count": 21,
     "metadata": {},
     "output_type": "execute_result"
    }
   ],
   "execution_count": 21
  }
 ],
 "metadata": {
  "kernelspec": {
   "display_name": "Python 3",
   "language": "python",
   "name": "python3"
  },
  "language_info": {
   "codemirror_mode": {
    "name": "ipython",
    "version": 2
   },
   "file_extension": ".py",
   "mimetype": "text/x-python",
   "name": "python",
   "nbconvert_exporter": "python",
   "pygments_lexer": "ipython2",
   "version": "2.7.6"
  }
 },
 "nbformat": 4,
 "nbformat_minor": 5
}
