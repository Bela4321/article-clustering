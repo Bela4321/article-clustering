{
 "cells": [
  {
   "cell_type": "code",
   "id": "initial_id",
   "metadata": {
    "collapsed": true,
    "ExecuteTime": {
     "end_time": "2025-04-07T16:11:03.806807Z",
     "start_time": "2025-04-07T16:11:03.790816Z"
    }
   },
   "source": [
    "import pickle\n",
    "import os\n",
    "import numpy as np\n",
    "import pandas as pd\n",
    "import matplotlib.pyplot as plt\n",
    "import seaborn as sns\n",
    "from pandas import isnull\n",
    "from sklearn.metrics.pairwise import cosine_similarity"
   ],
   "outputs": [],
   "execution_count": 16
  },
  {
   "metadata": {
    "ExecuteTime": {
     "end_time": "2025-04-07T16:11:03.886400Z",
     "start_time": "2025-04-07T16:11:03.859123Z"
    }
   },
   "cell_type": "code",
   "source": [
    "def get_embedding_score(numerical_labels,target_embedding ):\n",
    "    n = len(numerical_labels)\n",
    "\n",
    "\n",
    "    label_occurances = {}\n",
    "    for label_list in numerical_labels:\n",
    "        for label in label_list:\n",
    "            label_occurances[label] = label_occurances.get(label, 0) + 1\n",
    "\n",
    "    label_idfs = {key: np.log2(n / value) for key, value in label_occurances.items()}\n",
    "\n",
    "\n",
    "\n",
    "    unrelated_distances = []\n",
    "    related_distances = []\n",
    "    related_distances_weights = []\n",
    "\n",
    "    sample_size = 1_000\n",
    "    indices_i = np.random.randint(0, len(numerical_labels), sample_size)\n",
    "    indices_j = np.random.randint(0, len(numerical_labels)-1, sample_size)\n",
    "    indices_j = np.where(indices_j == indices_i, indices_j, len(numerical_labels)-1)\n",
    "\n",
    "    embeddings_i = target_embedding[indices_i]\n",
    "    embeddings_j = target_embedding[indices_j]\n",
    "\n",
    "    for i, doc_embedding_1, j, doc_embedding_2 in zip(indices_i,embeddings_i,indices_j,embeddings_j):\n",
    "        label_similarity = sum(\n",
    "            [label_idfs[label_1] for label_1 in numerical_labels[i] if label_1 in numerical_labels[j]])\n",
    "        doc_distance = cosine_similarity(doc_embedding_1.reshape(1, -1), doc_embedding_2.reshape(1, -1))[0][0]\n",
    "        if label_similarity == 0:\n",
    "            unrelated_distances.append(doc_distance)\n",
    "        else:\n",
    "            related_distances.append(doc_distance)\n",
    "            related_distances_weights.append(label_similarity)\n",
    "\n",
    "    mean_unrelated_distances = np.mean(unrelated_distances, axis=0)\n",
    "    mean_related_distances = np.average(related_distances, axis=0, weights=related_distances_weights)\n",
    "\n",
    "    min_distance = min(min(related_distances), min(unrelated_distances))\n",
    "    max_distance = max(max(related_distances), max(unrelated_distances))\n",
    "    final_score = (mean_related_distances - mean_unrelated_distances) / (max_distance - min_distance)\n",
    "    return final_score * 100"
   ],
   "id": "b6dfbcff3e89f0bb",
   "outputs": [],
   "execution_count": 17
  },
  {
   "metadata": {
    "ExecuteTime": {
     "end_time": "2025-04-07T16:11:03.965535Z",
     "start_time": "2025-04-07T16:11:03.942966Z"
    }
   },
   "cell_type": "code",
   "source": [
    "def get_embedding_score_2(numerical_labels,target_embedding ):\n",
    "    n = len(numerical_labels)\n",
    "\n",
    "\n",
    "    label_occurances = {}\n",
    "    for label_list in numerical_labels:\n",
    "        for label in label_list:\n",
    "            label_occurances[label] = label_occurances.get(label, 0) + 1\n",
    "\n",
    "    label_idfs = {key: np.log2(n / value) for key, value in label_occurances.items()}\n",
    "\n",
    "\n",
    "\n",
    "    unrelated_distances = []\n",
    "    related_distances = []\n",
    "    related_distances_weights = []\n",
    "\n",
    "    sample_size = 1_000\n",
    "    indices_i = np.random.randint(0, len(numerical_labels), sample_size)\n",
    "    indices_j = np.random.randint(0, len(numerical_labels)-1, sample_size)\n",
    "    indices_j = np.where(indices_j == indices_i, indices_j, len(numerical_labels)-1)\n",
    "\n",
    "    embeddings_i = target_embedding[indices_i]\n",
    "    embeddings_j = target_embedding[indices_j]\n",
    "\n",
    "    for i, doc_embedding_1, j, doc_embedding_2 in zip(indices_i,embeddings_i,indices_j,embeddings_j):\n",
    "        label_similarity = sum(\n",
    "            [label_idfs[label_1] for label_1 in numerical_labels[i] if label_1 in numerical_labels[j]])\n",
    "        doc_distance = cosine_similarity(doc_embedding_1.reshape(1, -1), doc_embedding_2.reshape(1, -1))[0][0]\n",
    "        if label_similarity == 0:\n",
    "            unrelated_distances.append(doc_distance)\n",
    "        else:\n",
    "            related_distances.append(doc_distance)\n",
    "            related_distances_weights.append(label_similarity)\n",
    "\n",
    "    mean_unrelated_distances = np.mean(unrelated_distances, axis=0)\n",
    "    mean_related_distances = np.average(related_distances, axis=0, weights=related_distances_weights)\n",
    "\n",
    "    final_score = (mean_related_distances - mean_unrelated_distances) / max(mean_related_distances,mean_unrelated_distances)\n",
    "    return final_score * 100"
   ],
   "id": "b669c679fdbc80fc",
   "outputs": [],
   "execution_count": 18
  },
  {
   "metadata": {
    "ExecuteTime": {
     "end_time": "2025-04-07T16:11:03.997689Z",
     "start_time": "2025-04-07T16:11:03.982656Z"
    }
   },
   "cell_type": "code",
   "source": [
    "from embeddings.embedding_utils import get_queries,optimal_pca\n",
    "\n",
    "data_querries = get_queries()\n",
    "from embeddings.tf_idf import get_embedding_pca as tf_idf_embedding_pca\n",
    "from embeddings.tf_idf import get_embedding_UMAP as tf_idf_UMAP_embedding\n",
    "from embeddings.fasttext import get_embedding_mean_polling as fasttext_mean_embedding\n",
    "from embeddings.fasttext import get_embedding_max_polling as fasttext_max_embedding\n",
    "from embeddings.fasttext import get_embedding_combined_polling as fasttext_combined_embedding\n",
    "from embeddings.fasttext import get_embedding_combined_polling_pca as fasttext_combined_embedding_pca\n",
    "from embeddings.indirect_topics_trough_keyword_clusters import get_embedding as keyword_embedding\n",
    "from embeddings.openai_api import get_embedding as openai_embedding\n",
    "embedding_algos = [tf_idf_embedding_pca,tf_idf_UMAP_embedding, fasttext_mean_embedding, fasttext_max_embedding, fasttext_combined_embedding, keyword_embedding, openai_embedding]"
   ],
   "id": "4ed6f2f7bfe63c5f",
   "outputs": [],
   "execution_count": 19
  },
  {
   "metadata": {
    "ExecuteTime": {
     "end_time": "2025-04-07T16:11:04.034627Z",
     "start_time": "2025-04-07T16:11:04.018618Z"
    }
   },
   "cell_type": "code",
   "source": [
    "def get_algo_name(algo):\n",
    "    return str(algo.__module__.split(\".\")[-1]+\"__\"+algo.__name__)\n",
    "\n",
    "def get_embedding(category, querry, algo):\n",
    "    querry_key = (category[:5]+\"_\"+querry[:10]).replace(\" \",\"_\")\n",
    "    dir_name = get_algo_name(algo)\n",
    "    filename = f\"../embedding_results/{dir_name}/{querry_key}.pkl\"\n",
    "    if not os.path.exists(filename):\n",
    "        return None, None, None\n",
    "    with open(filename, \"rb\") as f:\n",
    "        embedding_dict = pickle.load(f)\n",
    "    return embedding_dict[\"embeddings\"], embedding_dict[\"numerical_labels\"], embedding_dict[\"categorizer\"]\n"
   ],
   "id": "70df0977d6d29406",
   "outputs": [],
   "execution_count": 20
  },
  {
   "metadata": {
    "ExecuteTime": {
     "end_time": "2025-04-07T16:11:04.086183Z",
     "start_time": "2025-04-07T16:11:04.064286Z"
    }
   },
   "cell_type": "code",
   "source": [
    "algo_names = [get_algo_name(algo) for algo in embedding_algos]\n",
    "querries_flatmap = []\n",
    "for querries in data_querries.values():\n",
    "    querries_flatmap += querries"
   ],
   "id": "fb8090843dccedda",
   "outputs": [],
   "execution_count": 21
  },
  {
   "metadata": {
    "ExecuteTime": {
     "end_time": "2025-04-07T16:11:04.149298Z",
     "start_time": "2025-04-07T16:11:04.118604Z"
    }
   },
   "cell_type": "code",
   "source": [
    "metrics = pd.DataFrame(index= querries_flatmap, columns=algo_names, )\n",
    "for algo_name in algo_names:\n",
    "    metrics[algo_name] = \"-\""
   ],
   "id": "299adf386cfec16c",
   "outputs": [],
   "execution_count": 22
  },
  {
   "metadata": {
    "ExecuteTime": {
     "start_time": "2025-04-07T16:11:04.184846Z"
    }
   },
   "cell_type": "code",
   "source": [
    "\n",
    "for category, querries in data_querries.items():\n",
    "    for querry in querries:\n",
    "        for embedding_algo in embedding_algos:\n",
    "            algo_name = get_algo_name(embedding_algo)\n",
    "            embedding, numerical_labels, categorizer = get_embedding(category, querry, embedding_algo)\n",
    "            if embedding is None:\n",
    "                metrics.loc[querry, algo_name] = \"-\"\n",
    "            elif metrics.loc[querry, algo_name] != \"-\":\n",
    "                continue\n",
    "            else:\n",
    "                score = get_embedding_score_2(numerical_labels, embedding)\n",
    "                metrics.loc[querry, algo_name] = score\n",
    "                print(f\"set {metrics.loc[querry, algo_name]} for {querry}, {algo_name}\")\n"
   ],
   "id": "d3a5341faff63590",
   "outputs": [
    {
     "name": "stdout",
     "output_type": "stream",
     "text": [
      "set 149.90214483103784 for Transformer models, tf_idf__get_embedding_pca\n",
      "set 0.04010453194483277 for Transformer models, tf_idf__get_embedding_UMAP\n",
      "set 0.26037923772469485 for Transformer models, fasttext__get_embedding_mean_polling\n",
      "set 0.2188608963220358 for Transformer models, fasttext__get_embedding_max_polling\n",
      "set 0.08142465074865324 for Transformer models, fasttext__get_embedding_combined_polling\n",
      "set 16.206921904716612 for Transformer models, indirect_topics_trough_keyword_clusters__get_embedding\n",
      "set 9.769057591722591 for Transformer models, openai_api__get_embedding\n",
      "set 89.68928641120938 for Federated learning, tf_idf__get_embedding_pca\n",
      "set 0.019651018927624303 for Federated learning, tf_idf__get_embedding_UMAP\n",
      "set 0.3401040659931322 for Federated learning, fasttext__get_embedding_mean_polling\n",
      "set 0.17454552112066063 for Federated learning, fasttext__get_embedding_max_polling\n",
      "set 0.17589198405288173 for Federated learning, fasttext__get_embedding_combined_polling\n",
      "set 5.893734324524407 for Federated learning, indirect_topics_trough_keyword_clusters__get_embedding\n",
      "set 8.244433884644282 for Federated learning, openai_api__get_embedding\n",
      "set 61.38862880962967 for Quantum computing, tf_idf__get_embedding_pca\n",
      "set -0.003491397463796283 for Quantum computing, tf_idf__get_embedding_UMAP\n",
      "set 1.4367324230503602 for Quantum computing, fasttext__get_embedding_mean_polling\n",
      "set 0.6675582060598646 for Quantum computing, fasttext__get_embedding_max_polling\n",
      "set 0.5854945296851044 for Quantum computing, fasttext__get_embedding_combined_polling\n",
      "set 8.646411482057388 for Quantum computing, indirect_topics_trough_keyword_clusters__get_embedding\n",
      "set 15.613215980357584 for Quantum computing, openai_api__get_embedding\n",
      "set 117.05066733520262 for Explainable AI, tf_idf__get_embedding_pca\n",
      "set -0.0049879859614783 for Explainable AI, tf_idf__get_embedding_UMAP\n",
      "set 0.4981578787463943 for Explainable AI, fasttext__get_embedding_mean_polling\n",
      "set 0.02272651223133714 for Explainable AI, fasttext__get_embedding_max_polling\n",
      "set 0.01763239962320836 for Explainable AI, fasttext__get_embedding_combined_polling\n",
      "set -126.82399407803628 for Explainable AI, indirect_topics_trough_keyword_clusters__get_embedding\n",
      "set 5.676569021616111 for Explainable AI, openai_api__get_embedding\n",
      "set 102.0526643915617 for Graph neural networks, tf_idf__get_embedding_pca\n",
      "set 0.10702104148950513 for Graph neural networks, tf_idf__get_embedding_UMAP\n",
      "set 2.258180219535559 for Graph neural networks, fasttext__get_embedding_mean_polling\n",
      "set 1.5363844758350842 for Graph neural networks, fasttext__get_embedding_max_polling\n",
      "set 0.6384786246708123 for Graph neural networks, fasttext__get_embedding_combined_polling\n",
      "set 4.086435586346955 for Graph neural networks, indirect_topics_trough_keyword_clusters__get_embedding\n",
      "set 26.55045484446022 for Graph neural networks, openai_api__get_embedding\n",
      "set 110.18129983857531 for Topological insulators, tf_idf__get_embedding_pca\n",
      "set 0.022547370833329704 for Topological insulators, tf_idf__get_embedding_UMAP\n",
      "set 0.09421205304385143 for Topological insulators, fasttext__get_embedding_mean_polling\n",
      "set 0.18959151304777117 for Topological insulators, fasttext__get_embedding_max_polling\n",
      "set 0.1363029798982282 for Topological insulators, fasttext__get_embedding_combined_polling\n",
      "set -2.0888582203902515 for Topological insulators, indirect_topics_trough_keyword_clusters__get_embedding\n",
      "set 4.638904034471313 for Topological insulators, openai_api__get_embedding\n",
      "set 105.52063452477327 for Optical metamaterials, tf_idf__get_embedding_pca\n",
      "set 0.038969302094590805 for Optical metamaterials, tf_idf__get_embedding_UMAP\n",
      "set 5.039770080107499 for Optical metamaterials, fasttext__get_embedding_mean_polling\n",
      "set 2.695186399978174 for Optical metamaterials, fasttext__get_embedding_max_polling\n",
      "set 2.246355800396803 for Optical metamaterials, fasttext__get_embedding_combined_polling\n",
      "set 87.06342669486114 for Optical metamaterials, indirect_topics_trough_keyword_clusters__get_embedding\n",
      "set 19.459495818564896 for Optical metamaterials, openai_api__get_embedding\n",
      "set 101.39922254182554 for Fission, tf_idf__get_embedding_pca\n",
      "set -0.18861595169481554 for Fission, tf_idf__get_embedding_UMAP\n",
      "set 0.3635306480377031 for Fission, fasttext__get_embedding_mean_polling\n",
      "set 0.469914333802304 for Fission, fasttext__get_embedding_max_polling\n",
      "set 0.68341934642818 for Fission, fasttext__get_embedding_combined_polling\n",
      "set -22.459060211795332 for Fission, indirect_topics_trough_keyword_clusters__get_embedding\n",
      "set 14.387270833334906 for Fission, openai_api__get_embedding\n",
      "set 121.52452010481926 for Soft robotics, tf_idf__get_embedding_pca\n",
      "set 0.09457446836158288 for Soft robotics, tf_idf__get_embedding_UMAP\n",
      "set 2.1490120756480553 for Soft robotics, fasttext__get_embedding_mean_polling\n",
      "set 4.618172552594324 for Soft robotics, fasttext__get_embedding_max_polling\n",
      "set 2.56303400257528 for Soft robotics, fasttext__get_embedding_combined_polling\n",
      "set 34.49998956212541 for Soft robotics, indirect_topics_trough_keyword_clusters__get_embedding\n",
      "set 18.9885372414058 for Soft robotics, openai_api__get_embedding\n",
      "set 106.2736363095599 for Health monitoring, tf_idf__get_embedding_pca\n",
      "set 0.08689298939718039 for Health monitoring, tf_idf__get_embedding_UMAP\n",
      "set 1.7747989120448429 for Health monitoring, fasttext__get_embedding_mean_polling\n",
      "set 1.8721247802806151 for Health monitoring, fasttext__get_embedding_max_polling\n",
      "set 0.9605839538651425 for Health monitoring, fasttext__get_embedding_combined_polling\n",
      "set 59.50053173400293 for Health monitoring, indirect_topics_trough_keyword_clusters__get_embedding\n",
      "set 43.131475974090094 for Health monitoring, openai_api__get_embedding\n",
      "set 106.61844750875504 for CRISPR, tf_idf__get_embedding_pca\n",
      "set 0.10635338496608744 for CRISPR, tf_idf__get_embedding_UMAP\n",
      "set 3.467698150566128 for CRISPR, fasttext__get_embedding_mean_polling\n",
      "set 2.8238672847283275 for CRISPR, fasttext__get_embedding_max_polling\n",
      "set 2.748166327549811 for CRISPR, fasttext__get_embedding_combined_polling\n",
      "set 76.52250488378807 for CRISPR, indirect_topics_trough_keyword_clusters__get_embedding\n",
      "set 38.36950899409201 for CRISPR, openai_api__get_embedding\n",
      "set 119.23189092620987 for Microbiome, tf_idf__get_embedding_pca\n",
      "set 0.06943173036868928 for Microbiome, tf_idf__get_embedding_UMAP\n",
      "set 2.9250723721136356 for Microbiome, fasttext__get_embedding_mean_polling\n",
      "set 0.9300752547449886 for Microbiome, fasttext__get_embedding_max_polling\n",
      "set 1.0066806161515554 for Microbiome, fasttext__get_embedding_combined_polling\n",
      "set 8.286628943036291 for Microbiome, indirect_topics_trough_keyword_clusters__get_embedding\n",
      "set 17.36688787119596 for Microbiome, openai_api__get_embedding\n",
      "set 100.60580690525651 for DNA sequencing, tf_idf__get_embedding_pca\n",
      "set 0.0986257231685467 for DNA sequencing, tf_idf__get_embedding_UMAP\n",
      "set 4.506132602719524 for DNA sequencing, fasttext__get_embedding_mean_polling\n",
      "set 3.001226736801469 for DNA sequencing, fasttext__get_embedding_max_polling\n",
      "set 3.9745233440690253 for DNA sequencing, fasttext__get_embedding_combined_polling\n",
      "set 38.43021242156009 for DNA sequencing, indirect_topics_trough_keyword_clusters__get_embedding\n",
      "set 58.41293738615543 for DNA sequencing, openai_api__get_embedding\n",
      "set 106.41378963110697 for Synthetic biology, tf_idf__get_embedding_pca\n",
      "set 0.04682997719685848 for Synthetic biology, tf_idf__get_embedding_UMAP\n",
      "set 2.091013709122047 for Synthetic biology, fasttext__get_embedding_mean_polling\n",
      "set 1.1124989018665734 for Synthetic biology, fasttext__get_embedding_max_polling\n",
      "set 1.6929960781639077 for Synthetic biology, fasttext__get_embedding_combined_polling\n",
      "set 26.055123149086178 for Synthetic biology, indirect_topics_trough_keyword_clusters__get_embedding\n",
      "set 28.05425449260882 for Synthetic biology, openai_api__get_embedding\n",
      "set 103.9804326685365 for Drug delivery, tf_idf__get_embedding_pca\n",
      "set 0.007764378332657591 for Drug delivery, tf_idf__get_embedding_UMAP\n",
      "set 0.5459334502433117 for Drug delivery, fasttext__get_embedding_mean_polling\n",
      "set 0.4320446897809004 for Drug delivery, fasttext__get_embedding_max_polling\n",
      "set 1.033497034809025 for Drug delivery, fasttext__get_embedding_combined_polling\n",
      "set 27.301958039368824 for Drug delivery, indirect_topics_trough_keyword_clusters__get_embedding\n",
      "set 10.80636289881607 for Drug delivery, openai_api__get_embedding\n",
      "set 100.31923958154536 for Climate model, tf_idf__get_embedding_pca\n",
      "set 0.12126366819785112 for Climate model, tf_idf__get_embedding_UMAP\n",
      "set 7.540280653774015 for Climate model, fasttext__get_embedding_mean_polling\n",
      "set 5.129835952555083 for Climate model, fasttext__get_embedding_max_polling\n",
      "set 5.105442833111907 for Climate model, fasttext__get_embedding_combined_polling\n"
     ]
    },
    {
     "ename": "ZeroDivisionError",
     "evalue": "Weights sum to zero, can't be normalized",
     "output_type": "error",
     "traceback": [
      "\u001B[1;31m---------------------------------------------------------------------------\u001B[0m",
      "\u001B[1;31mZeroDivisionError\u001B[0m                         Traceback (most recent call last)",
      "Cell \u001B[1;32mIn[23], line 11\u001B[0m\n\u001B[0;32m      9\u001B[0m     \u001B[38;5;28;01mcontinue\u001B[39;00m\n\u001B[0;32m     10\u001B[0m \u001B[38;5;28;01melse\u001B[39;00m:\n\u001B[1;32m---> 11\u001B[0m     score \u001B[38;5;241m=\u001B[39m \u001B[43mget_embedding_score_2\u001B[49m\u001B[43m(\u001B[49m\u001B[43mnumerical_labels\u001B[49m\u001B[43m,\u001B[49m\u001B[43m \u001B[49m\u001B[43membedding\u001B[49m\u001B[43m)\u001B[49m\n\u001B[0;32m     12\u001B[0m     metrics\u001B[38;5;241m.\u001B[39mloc[querry, algo_name] \u001B[38;5;241m=\u001B[39m score\n\u001B[0;32m     13\u001B[0m     \u001B[38;5;28mprint\u001B[39m(\u001B[38;5;124mf\u001B[39m\u001B[38;5;124m\"\u001B[39m\u001B[38;5;124mset \u001B[39m\u001B[38;5;132;01m{\u001B[39;00mmetrics\u001B[38;5;241m.\u001B[39mloc[querry,\u001B[38;5;250m \u001B[39malgo_name]\u001B[38;5;132;01m}\u001B[39;00m\u001B[38;5;124m for \u001B[39m\u001B[38;5;132;01m{\u001B[39;00mquerry\u001B[38;5;132;01m}\u001B[39;00m\u001B[38;5;124m, \u001B[39m\u001B[38;5;132;01m{\u001B[39;00malgo_name\u001B[38;5;132;01m}\u001B[39;00m\u001B[38;5;124m\"\u001B[39m)\n",
      "Cell \u001B[1;32mIn[18], line 37\u001B[0m, in \u001B[0;36mget_embedding_score_2\u001B[1;34m(numerical_labels, target_embedding)\u001B[0m\n\u001B[0;32m     34\u001B[0m         related_distances_weights\u001B[38;5;241m.\u001B[39mappend(label_similarity)\n\u001B[0;32m     36\u001B[0m mean_unrelated_distances \u001B[38;5;241m=\u001B[39m np\u001B[38;5;241m.\u001B[39mmean(unrelated_distances, axis\u001B[38;5;241m=\u001B[39m\u001B[38;5;241m0\u001B[39m)\n\u001B[1;32m---> 37\u001B[0m mean_related_distances \u001B[38;5;241m=\u001B[39m \u001B[43mnp\u001B[49m\u001B[38;5;241;43m.\u001B[39;49m\u001B[43maverage\u001B[49m\u001B[43m(\u001B[49m\u001B[43mrelated_distances\u001B[49m\u001B[43m,\u001B[49m\u001B[43m \u001B[49m\u001B[43maxis\u001B[49m\u001B[38;5;241;43m=\u001B[39;49m\u001B[38;5;241;43m0\u001B[39;49m\u001B[43m,\u001B[49m\u001B[43m \u001B[49m\u001B[43mweights\u001B[49m\u001B[38;5;241;43m=\u001B[39;49m\u001B[43mrelated_distances_weights\u001B[49m\u001B[43m)\u001B[49m\n\u001B[0;32m     39\u001B[0m final_score \u001B[38;5;241m=\u001B[39m (mean_related_distances \u001B[38;5;241m-\u001B[39m mean_unrelated_distances) \u001B[38;5;241m/\u001B[39m \u001B[38;5;28mmax\u001B[39m(mean_related_distances,mean_unrelated_distances)\n\u001B[0;32m     40\u001B[0m \u001B[38;5;28;01mreturn\u001B[39;00m final_score \u001B[38;5;241m*\u001B[39m \u001B[38;5;241m100\u001B[39m\n",
      "File \u001B[1;32mC:\\bachelor\\article-clustering\\venv\\lib\\site-packages\\numpy\\lib\\function_base.py:550\u001B[0m, in \u001B[0;36maverage\u001B[1;34m(a, axis, weights, returned, keepdims)\u001B[0m\n\u001B[0;32m    548\u001B[0m     scl \u001B[38;5;241m=\u001B[39m wgt\u001B[38;5;241m.\u001B[39msum(axis\u001B[38;5;241m=\u001B[39maxis, dtype\u001B[38;5;241m=\u001B[39mresult_dtype, \u001B[38;5;241m*\u001B[39m\u001B[38;5;241m*\u001B[39mkeepdims_kw)\n\u001B[0;32m    549\u001B[0m     \u001B[38;5;28;01mif\u001B[39;00m np\u001B[38;5;241m.\u001B[39many(scl \u001B[38;5;241m==\u001B[39m \u001B[38;5;241m0.0\u001B[39m):\n\u001B[1;32m--> 550\u001B[0m         \u001B[38;5;28;01mraise\u001B[39;00m \u001B[38;5;167;01mZeroDivisionError\u001B[39;00m(\n\u001B[0;32m    551\u001B[0m             \u001B[38;5;124m\"\u001B[39m\u001B[38;5;124mWeights sum to zero, can\u001B[39m\u001B[38;5;124m'\u001B[39m\u001B[38;5;124mt be normalized\u001B[39m\u001B[38;5;124m\"\u001B[39m)\n\u001B[0;32m    553\u001B[0m     avg \u001B[38;5;241m=\u001B[39m avg_as_array \u001B[38;5;241m=\u001B[39m np\u001B[38;5;241m.\u001B[39mmultiply(a, wgt,\n\u001B[0;32m    554\u001B[0m                       dtype\u001B[38;5;241m=\u001B[39mresult_dtype)\u001B[38;5;241m.\u001B[39msum(axis, \u001B[38;5;241m*\u001B[39m\u001B[38;5;241m*\u001B[39mkeepdims_kw) \u001B[38;5;241m/\u001B[39m scl\n\u001B[0;32m    556\u001B[0m \u001B[38;5;28;01mif\u001B[39;00m returned:\n",
      "\u001B[1;31mZeroDivisionError\u001B[0m: Weights sum to zero, can't be normalized"
     ]
    }
   ],
   "execution_count": 23
  },
  {
   "metadata": {
    "ExecuteTime": {
     "end_time": "2025-04-07T16:11:58.372917400Z",
     "start_time": "2025-04-07T16:09:55.467986Z"
    }
   },
   "cell_type": "code",
   "source": [
    "from datetime import datetime\n",
    "\n",
    "# Get the current timestamp up to minutes\n",
    "timestamp = datetime.now().strftime(\"%Y%m%d_%H%M\")\n",
    "metrics_path = f\"../embedding_results/metrics_{timestamp}.pkl\""
   ],
   "id": "f9fe55c7aa0d2fed",
   "outputs": [],
   "execution_count": 9
  },
  {
   "metadata": {
    "ExecuteTime": {
     "end_time": "2025-04-07T16:11:58.453075600Z",
     "start_time": "2025-04-07T16:09:55.525217Z"
    }
   },
   "cell_type": "code",
   "source": [
    "with open(metrics_path, \"wb\") as f:\n",
    "    pickle.dump(metrics, f)"
   ],
   "id": "8a0bd184ddc79a7f",
   "outputs": [],
   "execution_count": 10
  },
  {
   "metadata": {
    "ExecuteTime": {
     "end_time": "2025-04-07T16:11:58.469702700Z",
     "start_time": "2025-04-07T16:09:55.582186Z"
    }
   },
   "cell_type": "code",
   "source": [
    "with open(metrics_path, \"rb\") as f:\n",
    "    metrics = pickle.load(f)"
   ],
   "id": "b66a3406b5ea2c9",
   "outputs": [],
   "execution_count": 11
  },
  {
   "metadata": {
    "ExecuteTime": {
     "end_time": "2025-04-07T16:11:58.485468900Z",
     "start_time": "2025-04-07T16:09:55.630407Z"
    }
   },
   "cell_type": "code",
   "source": [
    "def to_display_str(value):\n",
    "    if value == \"-\":\n",
    "        return str(value)\n",
    "    float_val = float(value)\n",
    "    return f\"{float_val:.2f}\""
   ],
   "id": "be1d840a3d62df04",
   "outputs": [],
   "execution_count": 12
  },
  {
   "metadata": {
    "ExecuteTime": {
     "end_time": "2025-04-07T16:11:58.485468900Z",
     "start_time": "2025-04-07T16:09:55.676342Z"
    }
   },
   "cell_type": "code",
   "source": [
    "# generate latex table\n",
    "print(f\"& {' & '.join(algo_names)} \\\\\\\\\")\n",
    "for category, querries in data_querries.items():\n",
    "    print(\"\\n\\\\midrule\")\n",
    "    for querry in querries:\n",
    "        print(f\"{querry} & {' & '.join([to_display_str(value) for value in metrics.loc[querry, :]])} \\\\\\\\\")\n"
   ],
   "id": "878ac79b74497a09",
   "outputs": [
    {
     "name": "stdout",
     "output_type": "stream",
     "text": [
      "& tf_idf__get_embedding_pca \\\\\n",
      "\n",
      "\\midrule\n",
      "Transformer models & 118.21 \\\\\n",
      "Federated learning & 108.23 \\\\\n",
      "Quantum computing & -136.48 \\\\\n",
      "Explainable AI & 119.16 \\\\\n",
      "Graph neural networks & 102.42 \\\\\n",
      "\n",
      "\\midrule\n",
      "Topological insulators & 112.75 \\\\\n",
      "Optical metamaterials & 104.80 \\\\\n",
      "Fission & 101.76 \\\\\n",
      "Soft robotics & 125.60 \\\\\n",
      "Health monitoring & 101.81 \\\\\n",
      "\n",
      "\\midrule\n",
      "CRISPR & 106.01 \\\\\n",
      "Microbiome & 117.28 \\\\\n",
      "DNA sequencing & 100.81 \\\\\n",
      "Synthetic biology & 104.94 \\\\\n",
      "Drug delivery & 104.06 \\\\\n",
      "\n",
      "\\midrule\n",
      "Climate model & 100.14 \\\\\n",
      "Remote sensing & 101.99 \\\\\n",
      "Greenhouse gas & 116.70 \\\\\n",
      "Biodiversity & 140.83 \\\\\n",
      "Light pollution & 111.85 \\\\\n"
     ]
    }
   ],
   "execution_count": 13
  },
  {
   "metadata": {
    "ExecuteTime": {
     "end_time": "2025-04-07T16:11:58.485468900Z",
     "start_time": "2025-04-07T16:09:55.732713Z"
    }
   },
   "cell_type": "code",
   "source": "' & '.join([f\"{avg:.2f}\" for avg in  np.mean(metrics,axis = 0).iloc[:]])",
   "id": "1259ba381edd5eaa",
   "outputs": [
    {
     "data": {
      "text/plain": [
       "'98.14'"
      ]
     },
     "execution_count": 14,
     "metadata": {},
     "output_type": "execute_result"
    }
   ],
   "execution_count": 14
  },
  {
   "metadata": {
    "ExecuteTime": {
     "end_time": "2025-04-07T16:11:58.485468900Z",
     "start_time": "2025-04-07T16:09:55.792147Z"
    }
   },
   "cell_type": "code",
   "source": "",
   "id": "fe255d0be98ddbb8",
   "outputs": [],
   "execution_count": null
  },
  {
   "metadata": {
    "ExecuteTime": {
     "end_time": "2025-04-07T16:11:58.506637Z",
     "start_time": "2025-04-07T16:09:55.893646Z"
    }
   },
   "cell_type": "code",
   "source": [
    "PCA_embedding_algos = [fasttext_mean_embedding, fasttext_max_embedding, keyword_embedding, openai_embedding]\n",
    "PCA_algo_names = [get_algo_name(embed_algo) for embed_algo in PCA_embedding_algos]\n",
    "metrics_PCA = pd.DataFrame(index= querries_flatmap, columns=algo_names)\n",
    "for category, querries in data_querries.items():\n",
    "    for querry in querries:\n",
    "        for embedding_algo in PCA_embedding_algos:\n",
    "            algo_name = get_algo_name(embedding_algo)\n",
    "            embedding, numerical_labels, categorizer = get_embedding(category, querry, embedding_algo)\n",
    "            reduced_embedding = optimal_pca(embedding)\n",
    "            if embedding is None:\n",
    "                metrics_PCA.loc[querry, algo_name] = \"-\"\n",
    "            else:\n",
    "                score = get_embedding_score_2(numerical_labels, reduced_embedding)\n",
    "                metrics_PCA.loc[querry, algo_name] = score\n",
    "                print(f\"set {metrics_PCA.loc[querry, algo_name]} for {querry}, {algo_name}\")"
   ],
   "id": "c621ea32ad379006",
   "outputs": [
    {
     "name": "stdout",
     "output_type": "stream",
     "text": [
      "set 35.689238833553674 for Transformer models, fasttext__get_embedding_mean_polling\n",
      "set 310.3229233332539 for Transformer models, fasttext__get_embedding_max_polling\n",
      "set 20.016292450813626 for Transformer models, indirect_topics_trough_keyword_clusters__get_embedding\n",
      "set 152.75382176653943 for Transformer models, openai_api__get_embedding\n",
      "set 91.39869768320989 for Federated learning, fasttext__get_embedding_mean_polling\n",
      "set 445.028710925433 for Federated learning, fasttext__get_embedding_max_polling\n",
      "set 23.62298905078464 for Federated learning, indirect_topics_trough_keyword_clusters__get_embedding\n",
      "set 110.20252614720927 for Federated learning, openai_api__get_embedding\n",
      "set 911.9205536405375 for Quantum computing, fasttext__get_embedding_mean_polling\n",
      "set 319.72925769912 for Quantum computing, fasttext__get_embedding_max_polling\n",
      "set 112.76657743417833 for Quantum computing, indirect_topics_trough_keyword_clusters__get_embedding\n",
      "set 414.60503955513343 for Quantum computing, openai_api__get_embedding\n",
      "set 235.1462978991985 for Explainable AI, fasttext__get_embedding_mean_polling\n",
      "set -50.95791363706718 for Explainable AI, fasttext__get_embedding_max_polling\n",
      "set -8111.906606445039 for Explainable AI, indirect_topics_trough_keyword_clusters__get_embedding\n",
      "set 52.10519846149849 for Explainable AI, openai_api__get_embedding\n",
      "set 100.72075393587154 for Graph neural networks, fasttext__get_embedding_mean_polling\n",
      "set 102.43995934267409 for Graph neural networks, fasttext__get_embedding_max_polling\n",
      "set 84.77635243744989 for Graph neural networks, indirect_topics_trough_keyword_clusters__get_embedding\n",
      "set 101.88049117591373 for Graph neural networks, openai_api__get_embedding\n",
      "set -201.25084341802807 for Topological insulators, fasttext__get_embedding_mean_polling\n",
      "set 9686.204098612232 for Topological insulators, fasttext__get_embedding_max_polling\n",
      "set 90.42986421882604 for Topological insulators, indirect_topics_trough_keyword_clusters__get_embedding\n",
      "set 104.40788567664043 for Topological insulators, openai_api__get_embedding\n",
      "set 106.88505650459565 for Optical metamaterials, fasttext__get_embedding_mean_polling\n",
      "set 103.71520056363785 for Optical metamaterials, fasttext__get_embedding_max_polling\n",
      "set 117.37674629479575 for Optical metamaterials, indirect_topics_trough_keyword_clusters__get_embedding\n",
      "set 102.67810109039655 for Optical metamaterials, openai_api__get_embedding\n",
      "set 96.8632349481602 for Fission, fasttext__get_embedding_mean_polling\n",
      "set 101.97642953733931 for Fission, fasttext__get_embedding_max_polling\n",
      "set 39.236847547186436 for Fission, indirect_topics_trough_keyword_clusters__get_embedding\n",
      "set 106.29860137263975 for Fission, openai_api__get_embedding\n",
      "set 157.35724123280184 for Soft robotics, fasttext__get_embedding_mean_polling\n",
      "set 221.10118625696745 for Soft robotics, fasttext__get_embedding_max_polling\n",
      "set 81.95626052252992 for Soft robotics, indirect_topics_trough_keyword_clusters__get_embedding\n",
      "set 141.29229264819472 for Soft robotics, openai_api__get_embedding\n",
      "set 108.49607276390869 for Health monitoring, fasttext__get_embedding_mean_polling\n",
      "set 107.55099747702161 for Health monitoring, fasttext__get_embedding_max_polling\n",
      "set 98.45930550309653 for Health monitoring, indirect_topics_trough_keyword_clusters__get_embedding\n",
      "set 106.15359715928405 for Health monitoring, openai_api__get_embedding\n",
      "set 106.89165685681752 for CRISPR, fasttext__get_embedding_mean_polling\n",
      "set 110.44822213048337 for CRISPR, fasttext__get_embedding_max_polling\n",
      "set 109.53720773142564 for CRISPR, indirect_topics_trough_keyword_clusters__get_embedding\n",
      "set 110.3396778910964 for CRISPR, openai_api__get_embedding\n",
      "set 133.90853879027742 for Microbiome, fasttext__get_embedding_mean_polling\n",
      "set 118.36800668340479 for Microbiome, fasttext__get_embedding_max_polling\n",
      "set 17.208336681066957 for Microbiome, indirect_topics_trough_keyword_clusters__get_embedding\n",
      "set 119.45838837574512 for Microbiome, openai_api__get_embedding\n",
      "set 100.61668122329326 for DNA sequencing, fasttext__get_embedding_mean_polling\n",
      "set 101.88372448585707 for DNA sequencing, fasttext__get_embedding_max_polling\n",
      "set 84.81604226659356 for DNA sequencing, indirect_topics_trough_keyword_clusters__get_embedding\n",
      "set 102.3179201115721 for DNA sequencing, openai_api__get_embedding\n",
      "set 104.46497440707982 for Synthetic biology, fasttext__get_embedding_mean_polling\n",
      "set 103.40245358970606 for Synthetic biology, fasttext__get_embedding_max_polling\n",
      "set 90.15071155806014 for Synthetic biology, indirect_topics_trough_keyword_clusters__get_embedding\n"
     ]
    },
    {
     "ename": "KeyboardInterrupt",
     "evalue": "",
     "output_type": "error",
     "traceback": [
      "\u001B[1;31m---------------------------------------------------------------------------\u001B[0m",
      "\u001B[1;31mKeyboardInterrupt\u001B[0m                         Traceback (most recent call last)",
      "Cell \u001B[1;32mIn[15], line 13\u001B[0m\n\u001B[0;32m     11\u001B[0m     metrics_PCA\u001B[38;5;241m.\u001B[39mloc[querry, algo_name] \u001B[38;5;241m=\u001B[39m \u001B[38;5;124m\"\u001B[39m\u001B[38;5;124m-\u001B[39m\u001B[38;5;124m\"\u001B[39m\n\u001B[0;32m     12\u001B[0m \u001B[38;5;28;01melse\u001B[39;00m:\n\u001B[1;32m---> 13\u001B[0m     score \u001B[38;5;241m=\u001B[39m \u001B[43mget_embedding_score_2\u001B[49m\u001B[43m(\u001B[49m\u001B[43mnumerical_labels\u001B[49m\u001B[43m,\u001B[49m\u001B[43m \u001B[49m\u001B[43mreduced_embedding\u001B[49m\u001B[43m)\u001B[49m\n\u001B[0;32m     14\u001B[0m     metrics_PCA\u001B[38;5;241m.\u001B[39mloc[querry, algo_name] \u001B[38;5;241m=\u001B[39m score\n\u001B[0;32m     15\u001B[0m     \u001B[38;5;28mprint\u001B[39m(\u001B[38;5;124mf\u001B[39m\u001B[38;5;124m\"\u001B[39m\u001B[38;5;124mset \u001B[39m\u001B[38;5;132;01m{\u001B[39;00mmetrics_PCA\u001B[38;5;241m.\u001B[39mloc[querry,\u001B[38;5;250m \u001B[39malgo_name]\u001B[38;5;132;01m}\u001B[39;00m\u001B[38;5;124m for \u001B[39m\u001B[38;5;132;01m{\u001B[39;00mquerry\u001B[38;5;132;01m}\u001B[39;00m\u001B[38;5;124m, \u001B[39m\u001B[38;5;132;01m{\u001B[39;00malgo_name\u001B[38;5;132;01m}\u001B[39;00m\u001B[38;5;124m\"\u001B[39m)\n",
      "Cell \u001B[1;32mIn[3], line 29\u001B[0m, in \u001B[0;36mget_embedding_score_2\u001B[1;34m(numerical_labels, target_embedding)\u001B[0m\n\u001B[0;32m     26\u001B[0m \u001B[38;5;28;01mfor\u001B[39;00m i, doc_embedding_1, j, doc_embedding_2 \u001B[38;5;129;01min\u001B[39;00m \u001B[38;5;28mzip\u001B[39m(indices_i,embeddings_i,indices_j,embeddings_j):\n\u001B[0;32m     27\u001B[0m     label_similarity \u001B[38;5;241m=\u001B[39m \u001B[38;5;28msum\u001B[39m(\n\u001B[0;32m     28\u001B[0m         [label_idfs[label_1] \u001B[38;5;28;01mfor\u001B[39;00m label_1 \u001B[38;5;129;01min\u001B[39;00m numerical_labels[i] \u001B[38;5;28;01mif\u001B[39;00m label_1 \u001B[38;5;129;01min\u001B[39;00m numerical_labels[j]])\n\u001B[1;32m---> 29\u001B[0m     doc_distance \u001B[38;5;241m=\u001B[39m \u001B[43mcosine_similarity\u001B[49m\u001B[43m(\u001B[49m\u001B[43mdoc_embedding_1\u001B[49m\u001B[38;5;241;43m.\u001B[39;49m\u001B[43mreshape\u001B[49m\u001B[43m(\u001B[49m\u001B[38;5;241;43m1\u001B[39;49m\u001B[43m,\u001B[49m\u001B[43m \u001B[49m\u001B[38;5;241;43m-\u001B[39;49m\u001B[38;5;241;43m1\u001B[39;49m\u001B[43m)\u001B[49m\u001B[43m,\u001B[49m\u001B[43m \u001B[49m\u001B[43mdoc_embedding_2\u001B[49m\u001B[38;5;241;43m.\u001B[39;49m\u001B[43mreshape\u001B[49m\u001B[43m(\u001B[49m\u001B[38;5;241;43m1\u001B[39;49m\u001B[43m,\u001B[49m\u001B[43m \u001B[49m\u001B[38;5;241;43m-\u001B[39;49m\u001B[38;5;241;43m1\u001B[39;49m\u001B[43m)\u001B[49m\u001B[43m)\u001B[49m[\u001B[38;5;241m0\u001B[39m][\u001B[38;5;241m0\u001B[39m]\n\u001B[0;32m     30\u001B[0m     \u001B[38;5;28;01mif\u001B[39;00m label_similarity \u001B[38;5;241m==\u001B[39m \u001B[38;5;241m0\u001B[39m:\n\u001B[0;32m     31\u001B[0m         unrelated_distances\u001B[38;5;241m.\u001B[39mappend(doc_distance)\n",
      "File \u001B[1;32mC:\\bachelor\\article-clustering\\venv\\lib\\site-packages\\sklearn\\utils\\_param_validation.py:216\u001B[0m, in \u001B[0;36mvalidate_params.<locals>.decorator.<locals>.wrapper\u001B[1;34m(*args, **kwargs)\u001B[0m\n\u001B[0;32m    210\u001B[0m \u001B[38;5;28;01mtry\u001B[39;00m:\n\u001B[0;32m    211\u001B[0m     \u001B[38;5;28;01mwith\u001B[39;00m config_context(\n\u001B[0;32m    212\u001B[0m         skip_parameter_validation\u001B[38;5;241m=\u001B[39m(\n\u001B[0;32m    213\u001B[0m             prefer_skip_nested_validation \u001B[38;5;129;01mor\u001B[39;00m global_skip_validation\n\u001B[0;32m    214\u001B[0m         )\n\u001B[0;32m    215\u001B[0m     ):\n\u001B[1;32m--> 216\u001B[0m         \u001B[38;5;28;01mreturn\u001B[39;00m func(\u001B[38;5;241m*\u001B[39margs, \u001B[38;5;241m*\u001B[39m\u001B[38;5;241m*\u001B[39mkwargs)\n\u001B[0;32m    217\u001B[0m \u001B[38;5;28;01mexcept\u001B[39;00m InvalidParameterError \u001B[38;5;28;01mas\u001B[39;00m e:\n\u001B[0;32m    218\u001B[0m     \u001B[38;5;66;03m# When the function is just a wrapper around an estimator, we allow\u001B[39;00m\n\u001B[0;32m    219\u001B[0m     \u001B[38;5;66;03m# the function to delegate validation to the estimator, but we replace\u001B[39;00m\n\u001B[0;32m    220\u001B[0m     \u001B[38;5;66;03m# the name of the estimator by the name of the function in the error\u001B[39;00m\n\u001B[0;32m    221\u001B[0m     \u001B[38;5;66;03m# message to avoid confusion.\u001B[39;00m\n\u001B[0;32m    222\u001B[0m     msg \u001B[38;5;241m=\u001B[39m re\u001B[38;5;241m.\u001B[39msub(\n\u001B[0;32m    223\u001B[0m         \u001B[38;5;124mr\u001B[39m\u001B[38;5;124m\"\u001B[39m\u001B[38;5;124mparameter of \u001B[39m\u001B[38;5;124m\\\u001B[39m\u001B[38;5;124mw+ must be\u001B[39m\u001B[38;5;124m\"\u001B[39m,\n\u001B[0;32m    224\u001B[0m         \u001B[38;5;124mf\u001B[39m\u001B[38;5;124m\"\u001B[39m\u001B[38;5;124mparameter of \u001B[39m\u001B[38;5;132;01m{\u001B[39;00mfunc\u001B[38;5;241m.\u001B[39m\u001B[38;5;18m__qualname__\u001B[39m\u001B[38;5;132;01m}\u001B[39;00m\u001B[38;5;124m must be\u001B[39m\u001B[38;5;124m\"\u001B[39m,\n\u001B[0;32m    225\u001B[0m         \u001B[38;5;28mstr\u001B[39m(e),\n\u001B[0;32m    226\u001B[0m     )\n",
      "File \u001B[1;32mC:\\bachelor\\article-clustering\\venv\\lib\\site-packages\\sklearn\\metrics\\pairwise.py:1747\u001B[0m, in \u001B[0;36mcosine_similarity\u001B[1;34m(X, Y, dense_output)\u001B[0m\n\u001B[0;32m   1745\u001B[0m     Y_normalized \u001B[38;5;241m=\u001B[39m X_normalized\n\u001B[0;32m   1746\u001B[0m \u001B[38;5;28;01melse\u001B[39;00m:\n\u001B[1;32m-> 1747\u001B[0m     Y_normalized \u001B[38;5;241m=\u001B[39m \u001B[43mnormalize\u001B[49m\u001B[43m(\u001B[49m\u001B[43mY\u001B[49m\u001B[43m,\u001B[49m\u001B[43m \u001B[49m\u001B[43mcopy\u001B[49m\u001B[38;5;241;43m=\u001B[39;49m\u001B[38;5;28;43;01mTrue\u001B[39;49;00m\u001B[43m)\u001B[49m\n\u001B[0;32m   1749\u001B[0m K \u001B[38;5;241m=\u001B[39m safe_sparse_dot(X_normalized, Y_normalized\u001B[38;5;241m.\u001B[39mT, dense_output\u001B[38;5;241m=\u001B[39mdense_output)\n\u001B[0;32m   1751\u001B[0m \u001B[38;5;28;01mreturn\u001B[39;00m K\n",
      "File \u001B[1;32mC:\\bachelor\\article-clustering\\venv\\lib\\site-packages\\sklearn\\utils\\_param_validation.py:189\u001B[0m, in \u001B[0;36mvalidate_params.<locals>.decorator.<locals>.wrapper\u001B[1;34m(*args, **kwargs)\u001B[0m\n\u001B[0;32m    187\u001B[0m global_skip_validation \u001B[38;5;241m=\u001B[39m get_config()[\u001B[38;5;124m\"\u001B[39m\u001B[38;5;124mskip_parameter_validation\u001B[39m\u001B[38;5;124m\"\u001B[39m]\n\u001B[0;32m    188\u001B[0m \u001B[38;5;28;01mif\u001B[39;00m global_skip_validation:\n\u001B[1;32m--> 189\u001B[0m     \u001B[38;5;28;01mreturn\u001B[39;00m func(\u001B[38;5;241m*\u001B[39margs, \u001B[38;5;241m*\u001B[39m\u001B[38;5;241m*\u001B[39mkwargs)\n\u001B[0;32m    191\u001B[0m func_sig \u001B[38;5;241m=\u001B[39m signature(func)\n\u001B[0;32m    193\u001B[0m \u001B[38;5;66;03m# Map *args/**kwargs to the function signature\u001B[39;00m\n",
      "File \u001B[1;32mC:\\bachelor\\article-clustering\\venv\\lib\\site-packages\\sklearn\\preprocessing\\_data.py:1965\u001B[0m, in \u001B[0;36mnormalize\u001B[1;34m(X, norm, axis, copy, return_norm)\u001B[0m\n\u001B[0;32m   1961\u001B[0m     sparse_format \u001B[38;5;241m=\u001B[39m \u001B[38;5;124m\"\u001B[39m\u001B[38;5;124mcsr\u001B[39m\u001B[38;5;124m\"\u001B[39m\n\u001B[0;32m   1963\u001B[0m xp, _ \u001B[38;5;241m=\u001B[39m get_namespace(X)\n\u001B[1;32m-> 1965\u001B[0m X \u001B[38;5;241m=\u001B[39m \u001B[43mcheck_array\u001B[49m\u001B[43m(\u001B[49m\n\u001B[0;32m   1966\u001B[0m \u001B[43m    \u001B[49m\u001B[43mX\u001B[49m\u001B[43m,\u001B[49m\n\u001B[0;32m   1967\u001B[0m \u001B[43m    \u001B[49m\u001B[43maccept_sparse\u001B[49m\u001B[38;5;241;43m=\u001B[39;49m\u001B[43msparse_format\u001B[49m\u001B[43m,\u001B[49m\n\u001B[0;32m   1968\u001B[0m \u001B[43m    \u001B[49m\u001B[43mcopy\u001B[49m\u001B[38;5;241;43m=\u001B[39;49m\u001B[43mcopy\u001B[49m\u001B[43m,\u001B[49m\n\u001B[0;32m   1969\u001B[0m \u001B[43m    \u001B[49m\u001B[43mestimator\u001B[49m\u001B[38;5;241;43m=\u001B[39;49m\u001B[38;5;124;43m\"\u001B[39;49m\u001B[38;5;124;43mthe normalize function\u001B[39;49m\u001B[38;5;124;43m\"\u001B[39;49m\u001B[43m,\u001B[49m\n\u001B[0;32m   1970\u001B[0m \u001B[43m    \u001B[49m\u001B[43mdtype\u001B[49m\u001B[38;5;241;43m=\u001B[39;49m\u001B[43m_array_api\u001B[49m\u001B[38;5;241;43m.\u001B[39;49m\u001B[43msupported_float_dtypes\u001B[49m\u001B[43m(\u001B[49m\u001B[43mxp\u001B[49m\u001B[43m)\u001B[49m\u001B[43m,\u001B[49m\n\u001B[0;32m   1971\u001B[0m \u001B[43m    \u001B[49m\u001B[43mforce_writeable\u001B[49m\u001B[38;5;241;43m=\u001B[39;49m\u001B[38;5;28;43;01mTrue\u001B[39;49;00m\u001B[43m,\u001B[49m\n\u001B[0;32m   1972\u001B[0m \u001B[43m\u001B[49m\u001B[43m)\u001B[49m\n\u001B[0;32m   1973\u001B[0m \u001B[38;5;28;01mif\u001B[39;00m axis \u001B[38;5;241m==\u001B[39m \u001B[38;5;241m0\u001B[39m:\n\u001B[0;32m   1974\u001B[0m     X \u001B[38;5;241m=\u001B[39m X\u001B[38;5;241m.\u001B[39mT\n",
      "File \u001B[1;32mC:\\bachelor\\article-clustering\\venv\\lib\\site-packages\\sklearn\\utils\\validation.py:1118\u001B[0m, in \u001B[0;36mcheck_array\u001B[1;34m(array, accept_sparse, accept_large_sparse, dtype, order, copy, force_writeable, force_all_finite, ensure_all_finite, ensure_non_negative, ensure_2d, allow_nd, ensure_min_samples, ensure_min_features, estimator, input_name)\u001B[0m\n\u001B[0;32m   1115\u001B[0m \u001B[38;5;28;01mif\u001B[39;00m _is_numpy_namespace(xp):\n\u001B[0;32m   1116\u001B[0m     \u001B[38;5;66;03m# only make a copy if `array` and `array_orig` may share memory`\u001B[39;00m\n\u001B[0;32m   1117\u001B[0m     \u001B[38;5;28;01mif\u001B[39;00m np\u001B[38;5;241m.\u001B[39mmay_share_memory(array, array_orig):\n\u001B[1;32m-> 1118\u001B[0m         array \u001B[38;5;241m=\u001B[39m \u001B[43m_asarray_with_order\u001B[49m\u001B[43m(\u001B[49m\n\u001B[0;32m   1119\u001B[0m \u001B[43m            \u001B[49m\u001B[43marray\u001B[49m\u001B[43m,\u001B[49m\u001B[43m \u001B[49m\u001B[43mdtype\u001B[49m\u001B[38;5;241;43m=\u001B[39;49m\u001B[43mdtype\u001B[49m\u001B[43m,\u001B[49m\u001B[43m \u001B[49m\u001B[43morder\u001B[49m\u001B[38;5;241;43m=\u001B[39;49m\u001B[43morder\u001B[49m\u001B[43m,\u001B[49m\u001B[43m \u001B[49m\u001B[43mcopy\u001B[49m\u001B[38;5;241;43m=\u001B[39;49m\u001B[38;5;28;43;01mTrue\u001B[39;49;00m\u001B[43m,\u001B[49m\u001B[43m \u001B[49m\u001B[43mxp\u001B[49m\u001B[38;5;241;43m=\u001B[39;49m\u001B[43mxp\u001B[49m\n\u001B[0;32m   1120\u001B[0m \u001B[43m        \u001B[49m\u001B[43m)\u001B[49m\n\u001B[0;32m   1121\u001B[0m \u001B[38;5;28;01melse\u001B[39;00m:\n\u001B[0;32m   1122\u001B[0m     \u001B[38;5;66;03m# always make a copy for non-numpy arrays\u001B[39;00m\n\u001B[0;32m   1123\u001B[0m     array \u001B[38;5;241m=\u001B[39m _asarray_with_order(\n\u001B[0;32m   1124\u001B[0m         array, dtype\u001B[38;5;241m=\u001B[39mdtype, order\u001B[38;5;241m=\u001B[39morder, copy\u001B[38;5;241m=\u001B[39m\u001B[38;5;28;01mTrue\u001B[39;00m, xp\u001B[38;5;241m=\u001B[39mxp\n\u001B[0;32m   1125\u001B[0m     )\n",
      "File \u001B[1;32mC:\\bachelor\\article-clustering\\venv\\lib\\site-packages\\sklearn\\utils\\_array_api.py:837\u001B[0m, in \u001B[0;36m_asarray_with_order\u001B[1;34m(array, dtype, order, copy, xp, device)\u001B[0m\n\u001B[0;32m    834\u001B[0m \u001B[38;5;28;01mif\u001B[39;00m _is_numpy_namespace(xp):\n\u001B[0;32m    835\u001B[0m     \u001B[38;5;66;03m# Use NumPy API to support order\u001B[39;00m\n\u001B[0;32m    836\u001B[0m     \u001B[38;5;28;01mif\u001B[39;00m copy \u001B[38;5;129;01mis\u001B[39;00m \u001B[38;5;28;01mTrue\u001B[39;00m:\n\u001B[1;32m--> 837\u001B[0m         array \u001B[38;5;241m=\u001B[39m \u001B[43mnumpy\u001B[49m\u001B[38;5;241;43m.\u001B[39;49m\u001B[43marray\u001B[49m\u001B[43m(\u001B[49m\u001B[43marray\u001B[49m\u001B[43m,\u001B[49m\u001B[43m \u001B[49m\u001B[43morder\u001B[49m\u001B[38;5;241;43m=\u001B[39;49m\u001B[43morder\u001B[49m\u001B[43m,\u001B[49m\u001B[43m \u001B[49m\u001B[43mdtype\u001B[49m\u001B[38;5;241;43m=\u001B[39;49m\u001B[43mdtype\u001B[49m\u001B[43m)\u001B[49m\n\u001B[0;32m    838\u001B[0m     \u001B[38;5;28;01melse\u001B[39;00m:\n\u001B[0;32m    839\u001B[0m         array \u001B[38;5;241m=\u001B[39m numpy\u001B[38;5;241m.\u001B[39masarray(array, order\u001B[38;5;241m=\u001B[39morder, dtype\u001B[38;5;241m=\u001B[39mdtype)\n",
      "\u001B[1;31mKeyboardInterrupt\u001B[0m: "
     ]
    }
   ],
   "execution_count": 15
  },
  {
   "metadata": {
    "ExecuteTime": {
     "end_time": "2025-04-07T16:11:58.516858400Z",
     "start_time": "2025-04-06T16:24:03.310130Z"
    }
   },
   "cell_type": "code",
   "source": [
    "# generate latex table\n",
    "print(f\"& {' & '.join(algo_names)} \\\\\\\\\")\n",
    "for category, querries in data_querries.items():\n",
    "    print(\"\\n\\\\midrule\")\n",
    "    for querry in querries:\n",
    "        print(f\"{querry} & {' & '.join([to_display_str(value) for value in metrics_PCA.loc[querry, :]])} \\\\\\\\\")"
   ],
   "id": "dcd34e8fb0371629",
   "outputs": [
    {
     "name": "stdout",
     "output_type": "stream",
     "text": [
      "& tf_idf__get_embedding_pca \\\\\n",
      "\n",
      "\\midrule\n",
      "Transformer models & nan & 3.64 & 4.37 & 0.38 & 4.59 \\\\\n",
      "Federated learning & nan & 3.27 & -0.48 & 7.35 & 3.24 \\\\\n",
      "Quantum computing & nan & 7.62 & 8.99 & 1.09 & 9.81 \\\\\n",
      "Explainable AI & nan & 6.20 & -0.28 & -5.98 & 0.88 \\\\\n",
      "Graph neural networks & nan & 31.56 & 17.76 & 3.98 & 37.49 \\\\\n",
      "\n",
      "\\midrule\n",
      "Topological insulators & nan & -0.15 & 1.91 & 0.11 & 2.81 \\\\\n",
      "Optical metamaterials & nan & 31.83 & 48.99 & 27.83 & 37.34 \\\\\n",
      "Fission & nan & 7.81 & 7.65 & 1.39 & 21.71 \\\\\n",
      "Soft robotics & nan & 29.85 & 23.62 & 6.59 & 23.90 \\\\\n",
      "Health monitoring & nan & 20.30 & 11.69 & 10.89 & 9.47 \\\\\n",
      "\n",
      "\\midrule\n",
      "CRISPR & nan & 43.39 & 39.49 & 31.95 & 42.44 \\\\\n",
      "Microbiome & nan & 18.89 & 12.26 & 0.65 & 19.53 \\\\\n",
      "DNA sequencing & nan & 47.87 & 47.43 & 29.32 & 55.58 \\\\\n",
      "Synthetic biology & nan & 19.06 & 21.20 & 9.83 & 26.09 \\\\\n",
      "Drug delivery & nan & 3.43 & 8.77 & 12.71 & 4.92 \\\\\n",
      "\n",
      "\\midrule\n",
      "Climate model & nan & 70.31 & 82.26 & 55.43 & 79.85 \\\\\n",
      "Remote sensing & nan & 25.08 & 18.68 & -2.79 & 26.55 \\\\\n",
      "Greenhouse gas & nan & 13.00 & 6.37 & -5.04 & 17.04 \\\\\n",
      "Biodiversity & nan & 8.37 & 8.80 & 2.43 & 14.46 \\\\\n",
      "Light pollution & nan & 17.51 & 31.52 & 14.07 & 30.31 \\\\\n"
     ]
    }
   ],
   "execution_count": 25
  },
  {
   "metadata": {
    "ExecuteTime": {
     "end_time": "2025-04-07T16:11:58.532680800Z",
     "start_time": "2025-04-06T16:24:06.014365Z"
    }
   },
   "cell_type": "code",
   "source": "' & '.join([f\"{avg:.2f}\" for avg in  np.mean(metrics_PCA,axis = 0).iloc[:]])",
   "id": "202548b5ee0422ea",
   "outputs": [
    {
     "data": {
      "text/plain": [
       "'nan & 20.44 & 20.05 & 10.11 & 23.40'"
      ]
     },
     "execution_count": 26,
     "metadata": {},
     "output_type": "execute_result"
    }
   ],
   "execution_count": 26
  }
 ],
 "metadata": {
  "kernelspec": {
   "display_name": "Python 3",
   "language": "python",
   "name": "python3"
  },
  "language_info": {
   "codemirror_mode": {
    "name": "ipython",
    "version": 2
   },
   "file_extension": ".py",
   "mimetype": "text/x-python",
   "name": "python",
   "nbconvert_exporter": "python",
   "pygments_lexer": "ipython2",
   "version": "2.7.6"
  }
 },
 "nbformat": 4,
 "nbformat_minor": 5
}
