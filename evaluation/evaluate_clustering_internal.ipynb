{
 "cells": [
  {
   "cell_type": "code",
   "id": "initial_id",
   "metadata": {
    "collapsed": true,
    "ExecuteTime": {
     "end_time": "2025-04-07T14:51:51.500181Z",
     "start_time": "2025-04-07T14:51:51.492207Z"
    }
   },
   "source": [
    "\n",
    "from embeddings.embedding_utils import get_queries, get_query_key\n",
    "import pickle\n",
    "import numpy as np\n",
    "import pandas as pd\n",
    "import math\n"
   ],
   "outputs": [],
   "execution_count": 17
  },
  {
   "metadata": {
    "ExecuteTime": {
     "end_time": "2025-04-07T14:51:51.564158Z",
     "start_time": "2025-04-07T14:51:51.550762Z"
    }
   },
   "cell_type": "code",
   "source": [
    "def load_clustering(query_key, embedding_algo, clustering_algo):\n",
    "    embedding_algo_name=embedding_algo.__module__.split(\".\")[-1]+\"__\"+embedding_algo.__name__\n",
    "    clustering_algo_name=clustering_algo.__name__\n",
    "    filename = f\"../cluster_results/{embedding_algo_name}/{clustering_algo_name}/{query_key}.pkl\"\n",
    "    with open(filename, \"rb\") as f:\n",
    "        data_dict = pickle.load(f)\n",
    "    return data_dict[\"embeddings\"], data_dict[\"clusters\"], data_dict[\"numerical_labels_true\"], data_dict[\"categorizer\"]\n",
    "\n",
    "def load_original_document(query_key):\n",
    "    filename = f\"../query_results/{query_key}.pkl\"\n",
    "    with open(filename, \"rb\") as f:\n",
    "        data_dict = pickle.load(f)\n",
    "    return data_dict[\"data\"]"
   ],
   "id": "ae95b44fa3551b9e",
   "outputs": [],
   "execution_count": 18
  },
  {
   "metadata": {
    "ExecuteTime": {
     "end_time": "2025-04-07T14:51:51.595720Z",
     "start_time": "2025-04-07T14:51:51.580047Z"
    }
   },
   "cell_type": "code",
   "source": [
    "from sklearn.metrics import silhouette_score, davies_bouldin_score, calinski_harabasz_score\n",
    "\n",
    "def internal_evaluation(embeddings, assigned_labels):\n",
    "    \"\"\"\n",
    "    :arg embeddings: Embedding matrix of the documents\n",
    "    :arg assigned_labels: Cluster labels assigned by the clustering algorithm\n",
    "    \"\"\"\n",
    "    if len(set(assigned_labels))<=1:\n",
    "        return np.nan, np.nan, np.nan\n",
    "\n",
    "\n",
    "    # Silhouette score\n",
    "    silhouette = silhouette_score(embeddings, assigned_labels)\n",
    "\n",
    "    # Davies-Bouldin score\n",
    "    davies_bouldin = davies_bouldin_score(embeddings, assigned_labels)\n",
    "\n",
    "    # Calinski-Harabasz score\n",
    "    calinski_harabasz = calinski_harabasz_score(embeddings, assigned_labels)\n",
    "    return silhouette, davies_bouldin, calinski_harabasz"
   ],
   "id": "eae65a45b6c76f27",
   "outputs": [],
   "execution_count": 19
  },
  {
   "metadata": {
    "ExecuteTime": {
     "end_time": "2025-04-07T14:51:51.643374Z",
     "start_time": "2025-04-07T14:51:51.627710Z"
    }
   },
   "cell_type": "code",
   "source": [
    "def remove_noise_entries(embeddings, assigned_labels):\n",
    "    no_noise_indices= np.array(assigned_labels) != -1\n",
    "    return embeddings[no_noise_indices], np.array(assigned_labels)[no_noise_indices]\n",
    "\n",
    "def make_noise_cluster(assigned_labels):\n",
    "    noise_indices= np.array(assigned_labels) == -1\n",
    "    free_cluster_label = len(set(assigned_labels))\n",
    "    new_labels = np.array(assigned_labels)\n",
    "    new_labels[noise_indices] = free_cluster_label\n",
    "    return new_labels"
   ],
   "id": "80f5961761a0f2b",
   "outputs": [],
   "execution_count": 20
  },
  {
   "metadata": {
    "ExecuteTime": {
     "end_time": "2025-04-07T14:52:12.757175Z",
     "start_time": "2025-04-07T14:51:51.674756Z"
    }
   },
   "cell_type": "code",
   "source": [
    "from embeddings.tf_idf import get_embedding_pca as tf_idf_pca\n",
    "from embeddings.fasttext import get_embedding_combined_polling_pca\n",
    "from embeddings.openai_api import get_embedding as embedding_openai\n",
    "\n",
    "from clustering.clusterings import kmeans_with_estimated_k,xmeans_clustering, hdbscan_clustering, agglomerative_clustering_with_estimated_k\n",
    "\n",
    "data_queries = get_queries()\n",
    "embedding_algos = [tf_idf_pca,get_embedding_combined_polling_pca, embedding_openai]\n",
    "clustering_algos = [kmeans_with_estimated_k,xmeans_clustering, agglomerative_clustering_with_estimated_k]\n",
    "clustering_algos_noise = [hdbscan_clustering]\n",
    "\n",
    "internal_scores = np.zeros((4,5,len(embedding_algos),len(clustering_algos)+2*len(clustering_algos_noise),3))\n",
    "\n",
    "string_to_num_translator = {}\n",
    "num_to_string_translator = {}\n",
    "for i_0, category in enumerate(data_queries.keys()):\n",
    "    string_to_num_translator[\"0:\"+category] = i_0\n",
    "    num_to_string_translator[\"0:\" + str(i_0)] = category\n",
    "    for i_1, query in enumerate(data_queries[category]):\n",
    "        string_to_num_translator[\"1:\"+query] = i_1\n",
    "        num_to_string_translator[\"1:\" + str(i_1)] = query\n",
    "        query_key = get_query_key(category, query)\n",
    "\n",
    "        for i_2, embedding_algo in enumerate(embedding_algos):\n",
    "            embedding_algo_name = embedding_algo.__module__.split(\".\")[-1] + \"__\" + embedding_algo.__name__\n",
    "            string_to_num_translator[\"2:\"+embedding_algo_name] = i_2\n",
    "            num_to_string_translator[\"2:\"+str(i_2)] = embedding_algo_name\n",
    "\n",
    "            for i_3, cluster_algo in enumerate(clustering_algos):\n",
    "                cluster_algo_name = cluster_algo.__name__\n",
    "                string_to_num_translator[\"3:\"+cluster_algo_name] = i_3\n",
    "                num_to_string_translator[\"3:\"+str(i_3)] = cluster_algo_name\n",
    "\n",
    "                embedding, cluster_labels, _, _ = load_clustering(query_key, embedding_algo, cluster_algo)\n",
    "                silhouette, davies_bouldin, calinski_harabasz = internal_evaluation(embedding, cluster_labels)\n",
    "                internal_scores[i_0, i_1, i_2, i_3, 0] = silhouette\n",
    "                internal_scores[i_0, i_1, i_2, i_3, 1] = davies_bouldin\n",
    "                internal_scores[i_0, i_1, i_2, i_3, 2] = calinski_harabasz\n",
    "\n",
    "            for i_3, cluster_algo in enumerate(clustering_algos_noise):\n",
    "                i_3 = 2 * i_3 + len(clustering_algos)\n",
    "                cluster_algo_name = cluster_algo.__name__+\" no noise\"\n",
    "                string_to_num_translator[\"3:\"+cluster_algo_name] = i_3\n",
    "                num_to_string_translator[\"3:\"+str(i_3)] = cluster_algo_name\n",
    "\n",
    "                embedding, cluster_labels, _, _ = load_clustering(query_key, embedding_algo, cluster_algo)\n",
    "                embedding_no_noise, labels_no_noise= remove_noise_entries(embedding, cluster_labels)\n",
    "                silhouette, davies_bouldin, calinski_harabasz = internal_evaluation(embedding_no_noise, labels_no_noise)\n",
    "                internal_scores[i_0, i_1, i_2, i_3, 0] = silhouette\n",
    "                internal_scores[i_0, i_1, i_2, i_3, 1] = davies_bouldin\n",
    "                internal_scores[i_0, i_1, i_2, i_3, 2] = calinski_harabasz\n",
    "\n",
    "                i_3+=1\n",
    "                cluster_algo_name = cluster_algo.__name__+\" noise-cluster\"\n",
    "                string_to_num_translator[\"3:\"+cluster_algo_name] = i_3\n",
    "                num_to_string_translator[\"3:\"+str(i_3)] = cluster_algo_name\n",
    "\n",
    "                labels_noise_cluster= make_noise_cluster(cluster_labels)\n",
    "                silhouette, davies_bouldin, calinski_harabasz = internal_evaluation(embedding, labels_noise_cluster)\n",
    "                internal_scores[i_0, i_1, i_2, i_3, 0] = silhouette\n",
    "                internal_scores[i_0, i_1, i_2, i_3, 1] = davies_bouldin\n",
    "                internal_scores[i_0, i_1, i_2, i_3, 2] = calinski_harabasz\n"
   ],
   "id": "5f6a2bddc849db12",
   "outputs": [],
   "execution_count": 21
  },
  {
   "metadata": {
    "ExecuteTime": {
     "end_time": "2025-04-07T14:52:12.804221Z",
     "start_time": "2025-04-07T14:52:12.788934Z"
    }
   },
   "cell_type": "code",
   "source": [
    "def data_function(category, score_type, embedding_algo_name, cluster_algo_name):\n",
    "    i_0=string_to_num_translator[\"0:\"+category]\n",
    "    i_2=string_to_num_translator[\"2:\"+embedding_algo_name]\n",
    "    i_3=string_to_num_translator[\"3:\"+cluster_algo_name]\n",
    "    i_4=[\"S\",\"DB\",\"CH\"].index(score_type)\n",
    "    considered_scores=internal_scores[i_0, :, i_2, i_3, i_4]\n",
    "    nan_count=np.isnan(considered_scores).sum()\n",
    "    suffix=\"\"\n",
    "    if nan_count==len(considered_scores):\n",
    "        return \"-\"\n",
    "    if nan_count>0:\n",
    "        suffix=\"*\"*nan_count\n",
    "    mean = np.nanmean(considered_scores)\n",
    "    decimal_places = max(0,2-max(0,math.floor(math.log10(math.fabs(mean)))))\n",
    "    return f\"{mean:.{decimal_places}f}\"+suffix"
   ],
   "id": "85cb832176cb76a6",
   "outputs": [],
   "execution_count": 22
  },
  {
   "metadata": {
    "ExecuteTime": {
     "end_time": "2025-04-07T14:52:12.851867Z",
     "start_time": "2025-04-07T14:52:12.839346Z"
    }
   },
   "cell_type": "code",
   "source": [
    "# make the header of the table\n",
    "column_main_labels = [embedding_algo.__module__.split(\".\")[-1] + \"__\" + embedding_algo.__name__ for embedding_algo in embedding_algos]\n",
    "column_sub_labels = [cluster_algo.__name__ for cluster_algo in clustering_algos]\n",
    "column_sub_labels.extend([cluster_algo.__name__+\" no noise\" for cluster_algo in clustering_algos_noise])\n",
    "column_sub_labels.extend([cluster_algo.__name__+\" noise-cluster\" for cluster_algo in clustering_algos_noise])\n",
    "row_main_labels = [category for category in data_queries.keys()]\n",
    "row_sub_labels = [\"S\",\"DB\",\"CH\"]\n",
    "\n",
    "num_col_main = len(column_main_labels)\n",
    "num_col_sub = len(column_sub_labels)\n",
    "num_row_main = len(row_main_labels)"
   ],
   "id": "86f7f3c5894dc2ae",
   "outputs": [],
   "execution_count": 23
  },
  {
   "metadata": {
    "ExecuteTime": {
     "end_time": "2025-04-07T14:52:12.922296Z",
     "start_time": "2025-04-07T14:52:12.886738Z"
    }
   },
   "cell_type": "code",
   "source": [
    "escaped_=r\"\\_\"\n",
    "latex_code = r\"  \\begin{tabular}{|l|c|*{\" + str(num_col_main * num_col_sub) + r\"}{c|}}\" + \"\\n\"\n",
    "latex_code += r\"    \\hline\" + \"\\n\"\n",
    "latex_code += r\"    \\multicolumn{2}{|c|}{\\multirow{2}{*}{}} &\"\n",
    "for i, main_label in enumerate(column_main_labels):\n",
    "    latex_code += rf\" \\multicolumn{{{num_col_sub}}}{{c|}}{{{main_label}}}\"\n",
    "    if i < num_col_main - 1:\n",
    "        latex_code += \" &\"\n",
    "latex_code += r\" \\\\\" + \"\\n\"\n",
    "latex_code += r\"    \\cline{3-\" + str(2 + num_col_main * num_col_sub) + \"}\" + \"\\n\"\n",
    "latex_code += r\"    \\multicolumn{2}{|c|}{} &\"\n",
    "for j in range(len(column_main_labels)):\n",
    "    for i, sub_label in enumerate(column_sub_labels):\n",
    "        latex_code += rf\" \\multicolumn{{1}}{{c|}}{{\\rotatebox{{90}}{{{sub_label.replace('_',escaped_)}~}}}}\"\n",
    "        if i < len(column_sub_labels) - 1 or j < len(column_main_labels) - 1:\n",
    "            latex_code += \" &\"\n",
    "latex_code += r\" \\\\\" + \"\\n\"\n",
    "latex_code += r\"    \\hline\" + \"\\n\"\n",
    "\n",
    "s_avges=np.zeros((len(column_main_labels) * len(column_sub_labels)))\n",
    "db_avges=np.zeros((len(column_main_labels) * len(column_sub_labels)))\n",
    "ch_avges=np.zeros((len(column_main_labels) * len(column_sub_labels)))\n",
    "\n",
    "for i, main_label in enumerate(row_main_labels):\n",
    "    num_sub_rows = len(row_sub_labels)\n",
    "    latex_code += rf\"    \\multirow{{{num_sub_rows}}}{{*}}{{\\makecell{{{main_label}}}}}\"\n",
    "    for j, sub_label in enumerate(row_sub_labels):\n",
    "        latex_code += f\" & {sub_label} &\"\n",
    "        for col_main_idx, col_main in enumerate(column_main_labels):\n",
    "            for col_sub_idx, col_sub in enumerate(column_sub_labels):\n",
    "                data = data_function(main_label, sub_label, col_main, col_sub)\n",
    "                latex_code += f\" {data}\"\n",
    "                if col_main_idx < num_col_main - 1 or col_sub_idx < len(column_sub_labels) - 1:\n",
    "                    latex_code += \" &\"\n",
    "                if j==0:\n",
    "                    s_avges[col_main_idx * len(column_sub_labels) + col_sub_idx] += float(data.replace(\"*\",\"\"))\n",
    "                elif j==1:\n",
    "                    db_avges[col_main_idx * len(column_sub_labels) + col_sub_idx] += float(data.replace(\"*\",\"\"))\n",
    "                else:\n",
    "                    ch_avges[col_main_idx * len(column_sub_labels) + col_sub_idx] += float(data.replace(\"*\",\"\"))\n",
    "        latex_code += r\" \\\\\" + \"\\n\"\n",
    "\n",
    "    latex_code += r\"    \\hline\" + \"\\n\"\n",
    "latex_code += r\"    \\hline\" + \"\\n\"\n",
    "s_avges /= len(row_main_labels)\n",
    "db_avges /= len(row_main_labels)\n",
    "ch_avges /= len(row_main_labels)\n",
    "latex_code += rf\"\"\"\\multirow{{3}}{{*}}{{\\makecell{{Average}}}} & S & {' & '.join([f'{avg_val:.2f}' for avg_val in s_avges])} \\\\\n",
    " & DB & {' & '.join([f'{avg_val:.2f}' for avg_val in db_avges])} \\\\\n",
    " & CH & {' & '.join([f'{avg_val:.2f}' for avg_val in ch_avges])} \\\\\"\"\"+\"\\n\"\n",
    "\n",
    "latex_code += r\"\\hline\"+ \"\\n\"\n",
    "\n",
    "latex_code += r\"  \\end{tabular}\" + \"\\n\"\n",
    "print(latex_code)"
   ],
   "id": "93a913c169dab70b",
   "outputs": [
    {
     "name": "stdout",
     "output_type": "stream",
     "text": [
      "  \\begin{tabular}{|l|c|*{15}{c|}}\n",
      "    \\hline\n",
      "    \\multicolumn{2}{|c|}{\\multirow{2}{*}{}} & \\multicolumn{5}{c|}{tf_idf__get_embedding_pca} & \\multicolumn{5}{c|}{fasttext__get_embedding_combined_polling_pca} & \\multicolumn{5}{c|}{openai_api__get_embedding} \\\\\n",
      "    \\cline{3-17}\n",
      "    \\multicolumn{2}{|c|}{} & \\multicolumn{1}{c|}{\\rotatebox{90}{kmeans\\_with\\_estimated\\_k~}} & \\multicolumn{1}{c|}{\\rotatebox{90}{xmeans\\_clustering~}} & \\multicolumn{1}{c|}{\\rotatebox{90}{agglomerative\\_clustering\\_with\\_estimated\\_k~}} & \\multicolumn{1}{c|}{\\rotatebox{90}{hdbscan\\_clustering no noise~}} & \\multicolumn{1}{c|}{\\rotatebox{90}{hdbscan\\_clustering noise-cluster~}} & \\multicolumn{1}{c|}{\\rotatebox{90}{kmeans\\_with\\_estimated\\_k~}} & \\multicolumn{1}{c|}{\\rotatebox{90}{xmeans\\_clustering~}} & \\multicolumn{1}{c|}{\\rotatebox{90}{agglomerative\\_clustering\\_with\\_estimated\\_k~}} & \\multicolumn{1}{c|}{\\rotatebox{90}{hdbscan\\_clustering no noise~}} & \\multicolumn{1}{c|}{\\rotatebox{90}{hdbscan\\_clustering noise-cluster~}} & \\multicolumn{1}{c|}{\\rotatebox{90}{kmeans\\_with\\_estimated\\_k~}} & \\multicolumn{1}{c|}{\\rotatebox{90}{xmeans\\_clustering~}} & \\multicolumn{1}{c|}{\\rotatebox{90}{agglomerative\\_clustering\\_with\\_estimated\\_k~}} & \\multicolumn{1}{c|}{\\rotatebox{90}{hdbscan\\_clustering no noise~}} & \\multicolumn{1}{c|}{\\rotatebox{90}{hdbscan\\_clustering noise-cluster~}} \\\\\n",
      "    \\hline\n",
      "    \\multirow{3}{*}{\\makecell{Computer Science and AI}} & S & 0.01 & 0.00 & 0.00 & 0.07 & -0.02 & 0.02 & 0.03 & 0.01 & 0.01 & -0.07 & 0.03 & 0.03 & 0.02 & 0.05 & -0.06 \\\\\n",
      " & DB & 7.07 & 8.93 & 6.80 & 2.93 & 3.97 & 4.83 & 4.46 & 4.90 & 3.33 & 3.86 & 4.56 & 4.91 & 4.74 & 2.55 & 3.03 \\\\\n",
      " & CH & 7.80 & 10.7 & 6.88 & 3.23 & 2.67 & 55.5 & 129 & 52.1 & 3.25 & 2.43 & 24.1 & 31.3 & 20.6 & 5.44 & 4.04 \\\\\n",
      "    \\hline\n",
      "    \\multirow{3}{*}{\\makecell{Physics and Engineering}} & S & 0.00 & 0.00 & 0.00 & 0.06 & -0.01 & 0.01 & 0.04 & 0.07 & 0.08 & 0.02 & 0.04 & 0.04 & 0.03 & 0.06 & -0.02 \\\\\n",
      " & DB & 5.90 & 7.19 & 5.59 & 2.75 & 3.52 & 4.17 & 3.89 & 3.84 & 2.66 & 3.62 & 3.88 & 3.79 & 3.82 & 2.52 & 3.03 \\\\\n",
      " & CH & 6.07 & 8.79 & 5.61 & 2.73 & 2.26 & 18.8 & 36.2 & 19.4 & 7.16 & 5.93 & 22.4 & 27.3 & 19.9 & 5.28 & 4.12 \\\\\n",
      "    \\hline\n",
      "    \\multirow{3}{*}{\\makecell{Biology and Medicine}} & S & 0.00 & 0.01 & 0.00 & 0.02 & -0.00 & 0.04 & 0.04 & 0.04 & 0.05 & -0.01 & 0.06 & 0.05 & 0.06 & 0.07 & 0.01 \\\\\n",
      " & DB & 6.03 & 5.31 & 4.44 & 3.34 & 4.44 & 3.94 & 3.76 & 3.87 & 2.99 & 4.82 & 3.68 & 3.49 & 3.71 & 2.59 & 3.18 \\\\\n",
      " & CH & 2.26 & 2.26 & 3.02 & 1.98 & 1.85 & 15.7 & 18.7 & 15.1 & 4.30 & 3.51 & 8.48 & 8.07 & 8.12 & 4.34 & 3.57 \\\\\n",
      "    \\hline\n",
      "    \\multirow{3}{*}{\\makecell{Earth and Environmental Science}} & S & 0.01 & 0.01 & 0.00 & 0.06 & -0.01 & 0.03 & 0.04 & 0.03 & 0.04 & -0.04 & 0.04 & 0.06 & 0.04 & 0.07 & -0.01 \\\\\n",
      " & DB & 6.88 & 7.02 & 5.52 & 3.05 & 3.78 & 4.23 & 3.31 & 3.73 & 3.12 & 3.88 & 3.80 & 3.86 & 3.70 & 2.56 & 3.00 \\\\\n",
      " & CH & 4.24 & 6.26 & 4.82 & 2.79 & 2.38 & 22.2 & 32.5 & 21.6 & 4.71 & 3.69 & 19.2 & 31.0 & 18.2 & 6.19 & 5.08 \\\\\n",
      "    \\hline\n",
      "    \\hline\n",
      "\\multirow{3}{*}{\\makecell{Average}} & S & 0.01 & 0.01 & 0.00 & 0.05 & -0.01 & 0.03 & 0.04 & 0.04 & 0.05 & -0.03 & 0.04 & 0.04 & 0.04 & 0.06 & -0.02 \\\\\n",
      " & DB & 6.47 & 7.11 & 5.59 & 3.02 & 3.93 & 4.29 & 3.85 & 4.08 & 3.03 & 4.04 & 3.98 & 4.01 & 3.99 & 2.56 & 3.06 \\\\\n",
      " & CH & 5.09 & 7.00 & 5.08 & 2.68 & 2.29 & 28.05 & 54.10 & 27.05 & 4.86 & 3.89 & 18.55 & 24.42 & 16.70 & 5.31 & 4.20 \\\\\n",
      "  \\end{tabular}\n",
      "\n"
     ]
    }
   ],
   "execution_count": 24
  },
  {
   "metadata": {
    "ExecuteTime": {
     "end_time": "2025-04-07T14:52:12.961135Z",
     "start_time": "2025-04-07T14:52:12.954077Z"
    }
   },
   "cell_type": "code",
   "source": "",
   "id": "f4d36234095b863e",
   "outputs": [],
   "execution_count": null
  }
 ],
 "metadata": {
  "kernelspec": {
   "display_name": "Python 3",
   "language": "python",
   "name": "python3"
  },
  "language_info": {
   "codemirror_mode": {
    "name": "ipython",
    "version": 2
   },
   "file_extension": ".py",
   "mimetype": "text/x-python",
   "name": "python",
   "nbconvert_exporter": "python",
   "pygments_lexer": "ipython2",
   "version": "2.7.6"
  }
 },
 "nbformat": 4,
 "nbformat_minor": 5
}
