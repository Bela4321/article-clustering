{
 "cells": [
  {
   "cell_type": "code",
   "id": "initial_id",
   "metadata": {
    "collapsed": true,
    "ExecuteTime": {
     "end_time": "2025-04-08T09:41:37.502392Z",
     "start_time": "2025-04-08T09:41:36.858685Z"
    }
   },
   "source": [
    "import math\n",
    "\n",
    "import numpy as np\n",
    "import pandas as pd\n",
    "import matplotlib.pyplot as plt\n",
    "import seaborn as sns\n",
    "from collections import Counter\n",
    "import pickle\n",
    "\n",
    "from networkx.algorithms.shortest_paths.dense import reconstruct_path\n"
   ],
   "outputs": [],
   "execution_count": 38
  },
  {
   "metadata": {
    "ExecuteTime": {
     "end_time": "2025-04-08T09:41:39.635826Z",
     "start_time": "2025-04-08T09:41:39.615747Z"
    }
   },
   "cell_type": "code",
   "source": [
    "\n",
    "def get_confusion_matrix(labels_true,labels_predicted):\n",
    "    confusion_matrix = np.zeros((len(set(labels_true)), len(set(labels_predicted))))\n",
    "    for label_true in set(labels_true):\n",
    "        for label_predicted in set(labels_predicted):\n",
    "            confusion_matrix[label_true][label_predicted] = sum([1 for i in range(len(labels_true)) if labels_true[i] == label_true and labels_predicted[i] == label_predicted])\n",
    "    return confusion_matrix\n",
    "\n",
    "def get_pair_confusion_matrix(labels_true,labels_predicted):\n",
    "    confusion_matrix = get_confusion_matrix(labels_true,labels_predicted)\n",
    "\n",
    "    # TP is the sum of all c*c-1 for all cells c\n",
    "    TP= 0\n",
    "    for i in range(confusion_matrix.shape[0]):\n",
    "        for j in range(confusion_matrix.shape[1]):\n",
    "            TP += confusion_matrix[i][j]*(confusion_matrix[i][j]-1)/2\n",
    "\n",
    "    # FP is the product of all c_1,c_2, when they share the same label_pred, but not the same label_true\n",
    "    FP=0\n",
    "    for j in range(confusion_matrix.shape[1]):\n",
    "        for i in range(confusion_matrix.shape[0]):\n",
    "            for k in range(i+1, confusion_matrix.shape[0]):\n",
    "                FP += confusion_matrix[i][j]*confusion_matrix[k][j]\n",
    "\n",
    "    # FN is the product of all c_1,c_2, when they share the same label_true, but not the same label_pred\n",
    "    FN = 0\n",
    "    for i in range(confusion_matrix.shape[0]):\n",
    "        for j in range(confusion_matrix.shape[1]):\n",
    "            for k in range(j+1, confusion_matrix.shape[1]):\n",
    "                FN += confusion_matrix[i][j]*confusion_matrix[i][k]\n",
    "\n",
    "    # TN is the product of all c_1,c_2 that neither share label_true, nor label_pred\n",
    "    TN =0\n",
    "    for i_1 in range(confusion_matrix.shape[0]):\n",
    "        for j_1 in range(confusion_matrix.shape[1]):\n",
    "            for i_2 in range(confusion_matrix.shape[0]):\n",
    "                if i_1 ==i_2:\n",
    "                    continue\n",
    "                for j_2 in range(confusion_matrix.shape[1]):\n",
    "                    if j_1 == j_2:\n",
    "                        continue\n",
    "                    TN += confusion_matrix[i_1][j_1]*confusion_matrix[i_2][j_2]\n",
    "    TN /= 2\n",
    "\n",
    "    pair_conf_matrix = np.array([[TP, FP], [FN, TN]])\n",
    "    return pair_conf_matrix\n"
   ],
   "id": "d5f9614d2507fd3c",
   "outputs": [],
   "execution_count": 39
  },
  {
   "metadata": {
    "ExecuteTime": {
     "end_time": "2025-04-08T09:41:42.647962Z",
     "start_time": "2025-04-08T09:41:42.631961Z"
    }
   },
   "cell_type": "code",
   "source": [
    "def reshuffle_matr(matrix):\n",
    "    axis_0_in=np.argsort(np.max(matrix,axis=0))[::-1]\n",
    "    axis_1_in=np.argsort(np.max(matrix,axis=1))[::-1]\n",
    "    return np.transpose(np.transpose(matrix[axis_1_in])[axis_0_in])"
   ],
   "id": "99c2f135c6e5dd08",
   "outputs": [],
   "execution_count": 40
  },
  {
   "metadata": {
    "ExecuteTime": {
     "end_time": "2025-04-08T10:04:23.989333Z",
     "start_time": "2025-04-08T10:04:23.963861Z"
    }
   },
   "cell_type": "code",
   "source": [
    "def load_clustering(dataset_diff, clustering_algo):\n",
    "    embedding_algo_name=\"openai_api__get_embedding\"\n",
    "    clustering_algo_name=clustering_algo.__name__\n",
    "    filename = f\"../cluster_results_se/{embedding_algo_name}/{clustering_algo_name}/{dataset_diff}.pkl\"\n",
    "    with open(filename, \"rb\") as f:\n",
    "        data_dict = pickle.load(f)\n",
    "    return np.array(data_dict[\"embeddings\"]),np.array(data_dict[\"clusters\"]), np.array(data_dict[\"numerical_labels_true\"]), data_dict[\"categorizer\"]\n",
    "\n",
    "def laod_clustering_noise_cleaned(dataset_diff, clustering_algo):\n",
    "    _, cluster_labels, true_labels, _= load_clustering(dataset_diff,clustering_algo)\n",
    "    cluster_labels_no_noise=[cluster_label for cluster_label in cluster_labels if cluster_label != -1]\n",
    "    true_labels_no_noise = [true_label for true_label,cluster_label in zip(true_labels,cluster_labels) if cluster_label !=-1]\n",
    "    return cluster_labels_no_noise, true_labels_no_noise\n",
    "\n",
    "def laod_clustering_noise_cleaned_embedding(dataset_diff, clustering_algo):\n",
    "    embedding, cluster_labels,_, _= load_clustering(dataset_diff,clustering_algo)\n",
    "    cluster_labels_no_noise=[cluster_label for cluster_label in cluster_labels if cluster_label != -1]\n",
    "    embedding_no_noise = [embedding_entry for embedding_entry,cluster_label in zip(embedding,cluster_labels) if cluster_label !=-1]\n",
    "    return cluster_labels_no_noise, embedding_no_noise"
   ],
   "id": "31c6ac51c8b7e4a2",
   "outputs": [],
   "execution_count": 63
  },
  {
   "metadata": {
    "ExecuteTime": {
     "end_time": "2025-04-08T09:42:08.360326Z",
     "start_time": "2025-04-08T09:42:08.344275Z"
    }
   },
   "cell_type": "code",
   "source": [
    "from clustering.clusterings import xmeans_clustering,hdbscan_clustering,agglomerative_clustering_with_estimated_k\n",
    "cluster_algos = [xmeans_clustering, hdbscan_clustering, agglomerative_clustering_with_estimated_k]\n",
    "dataset_diffs = [\"easy\", \"medium\", \"hard\"]"
   ],
   "id": "f3b2aea35be38d1a",
   "outputs": [],
   "execution_count": 45
  },
  {
   "metadata": {
    "ExecuteTime": {
     "end_time": "2025-04-08T09:42:10.488403Z",
     "start_time": "2025-04-08T09:42:10.223976Z"
    }
   },
   "cell_type": "code",
   "source": [
    "    #print confusion_matrices\n",
    "dataset_diff = dataset_diffs[2]\n",
    "\n",
    "conf_matrices = []\n",
    "for cluster_algo in cluster_algos:\n",
    "        cluster_labels, true_labels = laod_clustering_noise_cleaned(dataset_diff,cluster_algo)\n",
    "        conf_matrix= get_confusion_matrix(true_labels,cluster_labels)\n",
    "        conf_matrices.append(reshuffle_matr(conf_matrix))"
   ],
   "id": "626ec743c998a66a",
   "outputs": [],
   "execution_count": 46
  },
  {
   "metadata": {
    "ExecuteTime": {
     "end_time": "2025-04-08T10:19:43.461399Z",
     "start_time": "2025-04-08T10:19:42.916394Z"
    }
   },
   "cell_type": "code",
   "source": [
    "#plot conf matrices\n",
    "algo_to_plot =2\n",
    "matrix_to_show = np.transpose(np.transpose(conf_matrices[algo_to_plot])[:40])\n",
    "plt.matshow(matrix_to_show,cmap='inferno_r')\n",
    "plt.gca().grid(False)\n",
    "#white background\n",
    "plt.gca().set_facecolor('white')\n",
    "plt.xticks([])\n",
    "plt.yticks([])\n",
    "plt.colorbar()\n",
    "\n",
    "plt.tight_layout()\n",
    "plt.savefig(f\"se_plots/{dataset_diff}_{cluster_algos[algo_to_plot].__name__}.png\",dpi=300,bbox_inches='tight')\n",
    "plt.show()"
   ],
   "id": "945993723bede87e",
   "outputs": [
    {
     "name": "stderr",
     "output_type": "stream",
     "text": [
      "C:\\Users\\belas\\AppData\\Local\\Temp\\ipykernel_17684\\1380709594.py:12: UserWarning: This figure includes Axes that are not compatible with tight_layout, so results might be incorrect.\n",
      "  plt.tight_layout()\n"
     ]
    },
    {
     "data": {
      "text/plain": [
       "<Figure size 720x480 with 2 Axes>"
      ],
      "image/png": "[encoded data removed]"
     },
     "metadata": {},
     "output_type": "display_data"
    }
   ],
   "execution_count": 69
  },
  {
   "metadata": {
    "ExecuteTime": {
     "end_time": "2025-04-08T09:43:11.907921Z",
     "start_time": "2025-04-08T09:43:10.408362Z"
    }
   },
   "cell_type": "code",
   "source": [
    "dataset_diff = dataset_diffs[2]\n",
    "pair_conf_matrices = []\n",
    "for cluster_algo in cluster_algos:\n",
    "        cluster_labels, true_labels = laod_clustering_noise_cleaned(dataset_diff,cluster_algo)\n",
    "        pair_conf_matrix = get_pair_confusion_matrix(true_labels,cluster_labels)\n",
    "        pair_conf_matrices.append(pair_conf_matrix)"
   ],
   "id": "325b6eb33d63f318",
   "outputs": [],
   "execution_count": 51
  },
  {
   "metadata": {
    "ExecuteTime": {
     "end_time": "2025-04-08T10:20:15.515546Z",
     "start_time": "2025-04-08T10:20:14.915921Z"
    }
   },
   "cell_type": "code",
   "source": [
    "algo_to_plot = 2\n",
    "matrix_to_show = pair_conf_matrices[algo_to_plot]\n",
    "log_matrix = np.log(np.log(matrix_to_show))\n",
    "class_labels_true = ['Same\\nCluster', 'Different\\nCluster']\n",
    "class_labels_pred = ['Same\\nCluster', 'Different\\nCluster']\n",
    "\n",
    "\n",
    "# Create the plot\n",
    "plt.figure(figsize=(6, 6))\n",
    "plt.imshow(log_matrix, interpolation='nearest', cmap=plt.cm.Blues)\n",
    "\n",
    "# Add title and labels\n",
    "plt.xlabel(\"Ground Truth\",fontsize=20)\n",
    "plt.ylabel(\"Predicted\",fontsize=20)\n",
    "\n",
    "# Add ticks and labels for the axes\n",
    "tick_marks = np.arange(2)\n",
    "plt.xticks(tick_marks, class_labels_true)\n",
    "plt.yticks(tick_marks, class_labels_pred)\n",
    "plt.tick_params(axis='both', which='major', labelsize=20)\n",
    "plt.gca().grid(False)\n",
    "# Add annotations (numbers in the matrix cells)\n",
    "thresh = matrix_to_show.max() / 2.\n",
    "for i, j in np.ndindex(matrix_to_show.shape):\n",
    "    plt.text(j, i, format(int(matrix_to_show[i, j]), ',d'),\n",
    "             ha=\"center\", va=\"center\",fontsize=20,\n",
    "             color=\"white\" if matrix_to_show[i, j] > thresh else \"black\")\n",
    "\n",
    "# Add a colorbar (optional)\n",
    "#plt.colorbar()\n",
    "\n",
    "# Show the plot\n",
    "plt.tight_layout()\n",
    "plt.savefig(f\"se_plots/pair_{dataset_diff}_{cluster_algos[algo_to_plot].__name__}.png\",dpi=300, bbox_inches='tight')\n",
    "plt.show()"
   ],
   "id": "1d69133a83ea0b6f",
   "outputs": [
    {
     "data": {
      "text/plain": [
       "<Figure size 600x600 with 1 Axes>"
      ],
      "image/png": "[encoded data removed]"
     },
     "metadata": {},
     "output_type": "display_data"
    }
   ],
   "execution_count": 72
  },
  {
   "metadata": {
    "ExecuteTime": {
     "end_time": "2025-04-09T07:32:58.083733Z",
     "start_time": "2025-04-09T07:32:50.100422Z"
    }
   },
   "cell_type": "code",
   "source": [
    "table_columns = [xmeans_clustering,hdbscan_clustering,agglomerative_clustering_with_estimated_k]\n",
    "table_rows = dataset_diffs\n",
    "\n",
    "Acc_table = np.zeros((len(table_columns), len(table_rows)))\n",
    "Rec_table = np.zeros((len(table_columns), len(table_rows)))\n",
    "F1_table = np.zeros((len(table_columns), len(table_rows)))\n",
    "Phi_table = np.zeros((len(table_columns), len(table_rows)))\n",
    "\n",
    "\n",
    "for i, algorithm in enumerate(cluster_algos):\n",
    "    for j, dataset_diff in enumerate(dataset_diffs):\n",
    "        cluster_labels, true_labels = laod_clustering_noise_cleaned(dataset_diff,algorithm)\n",
    "        pair_conf_matrix = get_pair_confusion_matrix(true_labels,cluster_labels)\n",
    "\n",
    "        acc = pair_conf_matrix[0,0]/(pair_conf_matrix[0,0]+pair_conf_matrix[0,1])\n",
    "        rec = pair_conf_matrix[0,0]/(pair_conf_matrix[0,0]+pair_conf_matrix[1,0])\n",
    "        f1 = (2*pair_conf_matrix[0,0])/(2*pair_conf_matrix[0,0]+pair_conf_matrix[1,0]+pair_conf_matrix[0,1])\n",
    "        phi = (pair_conf_matrix[0,0]*pair_conf_matrix[1,1]-pair_conf_matrix[0,1]*pair_conf_matrix[1,0])/math.sqrt((pair_conf_matrix[0,0]+pair_conf_matrix[0,1])*(pair_conf_matrix[1,0]+pair_conf_matrix[1,1])*(pair_conf_matrix[0,0]+pair_conf_matrix[1,0])*(pair_conf_matrix[0,1]+pair_conf_matrix[1,1]))\n",
    "\n",
    "        Acc_table[i,j] = acc\n",
    "        Rec_table[i,j] = rec\n",
    "        F1_table[i,j] = f1\n",
    "        Phi_table[i,j] = phi"
   ],
   "id": "e15b2b8654839fe2",
   "outputs": [],
   "execution_count": 80
  },
  {
   "metadata": {
    "ExecuteTime": {
     "end_time": "2025-04-09T07:33:54.018969Z",
     "start_time": "2025-04-09T07:33:53.997668Z"
    }
   },
   "cell_type": "code",
   "source": [
    "for i,table_row in enumerate(table_rows):\n",
    "    print(f\"\"\"\n",
    "\\multirow{{4}}{{*}}{{\\\\textbf{{{table_row}}}}} & accuracy & {' & '.join([f'{val:.2f}' for val in Acc_table[:,i]])} \\\\\\\\\n",
    "        & recall &  {' & '.join([f'{val:.2f}' for val in Rec_table[:,i]])}\\\\\\\\\n",
    "        & f1 &  {' & '.join([f'{val:.2f}' for val in F1_table[:,i]])} \\\\\\\\\n",
    "        & $\\\\phi$ &  {' & '.join([f'{val:.2f}' for val in Phi_table[:,i]])} \\\\\\\\\n",
    "        \\hline\"\"\")"
   ],
   "id": "1986eec74cde346c",
   "outputs": [
    {
     "name": "stdout",
     "output_type": "stream",
     "text": [
      "\n",
      "\\multirow{4}{*}{\\textbf{easy}} & accuracy & 0.69 & 0.92 & 0.61 \\\\\n",
      "        & recall &  0.47 & 0.10 & 0.52\\\\\n",
      "        & f1 &  0.56 & 0.18 & 0.56 \\\\\n",
      "        & $\\phi$ &  0.53 & 0.28 & 0.52 \\\\\n",
      "        \\hline\n",
      "\n",
      "\\multirow{4}{*}{\\textbf{medium}} & accuracy & 0.63 & 0.85 & 0.56 \\\\\n",
      "        & recall &  0.51 & 0.08 & 0.45\\\\\n",
      "        & f1 &  0.57 & 0.14 & 0.50 \\\\\n",
      "        & $\\phi$ &  0.53 & 0.24 & 0.45 \\\\\n",
      "        \\hline\n",
      "\n",
      "\\multirow{4}{*}{\\textbf{hard}} & accuracy & 0.48 & 0.81 & 0.39 \\\\\n",
      "        & recall &  0.42 & 0.09 & 0.31\\\\\n",
      "        & f1 &  0.45 & 0.16 & 0.35 \\\\\n",
      "        & $\\phi$ &  0.39 & 0.25 & 0.28 \\\\\n",
      "        \\hline\n"
     ]
    }
   ],
   "execution_count": 82
  },
  {
   "metadata": {},
   "cell_type": "code",
   "outputs": [],
   "execution_count": null,
   "source": "",
   "id": "73e7300ed7a212a2"
  },
  {
   "metadata": {
    "ExecuteTime": {
     "end_time": "2025-04-08T09:54:42.805357Z",
     "start_time": "2025-04-08T09:54:42.495822Z"
    }
   },
   "cell_type": "code",
   "source": [
    "#AMI\n",
    "from sklearn.metrics import adjusted_mutual_info_score\n",
    "table_columns = [xmeans_clustering, hdbscan_clustering, agglomerative_clustering_with_estimated_k]\n",
    "table_rows = dataset_diffs\n",
    "\n",
    "AMI_table = np.zeros((len(table_columns), len(table_rows)))\n",
    "\n",
    "for i, algorithm in enumerate(cluster_algos):\n",
    "    for j, dataset_diff in enumerate(dataset_diffs):\n",
    "        cluster_labels, true_labels = laod_clustering_noise_cleaned(dataset_diff, algorithm)\n",
    "        ami = adjusted_mutual_info_score(true_labels, cluster_labels)\n",
    "        AMI_table[i,j] = ami"
   ],
   "id": "e676c47bcc3c99b5",
   "outputs": [],
   "execution_count": 57
  },
  {
   "metadata": {
    "ExecuteTime": {
     "end_time": "2025-04-08T09:57:58.175368Z",
     "start_time": "2025-04-08T09:57:58.160079Z"
    }
   },
   "cell_type": "code",
   "source": [
    "for i,table_row in enumerate(table_rows):\n",
    "    print(f\"\\\\textbf{{{table_row}}} & {' & '.join([f'{val:.2f}' for val in AMI_table[:,i]])} \\\\\\\\\\\\hline\")"
   ],
   "id": "28fd9450f57fca4",
   "outputs": [
    {
     "name": "stdout",
     "output_type": "stream",
     "text": [
      "\\textbf{easy} & 0.64 & 0.53 & 0.59 \\\\\\hline\n",
      "\\textbf{medium} & 0.61 & 0.49 & 0.54 \\\\\\hline\n",
      "\\textbf{hard} & 0.48 & 0.45 & 0.39 \\\\\\hline\n"
     ]
    }
   ],
   "execution_count": 61
  },
  {
   "metadata": {
    "ExecuteTime": {
     "end_time": "2025-04-08T10:05:49.366211Z",
     "start_time": "2025-04-08T10:05:44.694393Z"
    }
   },
   "cell_type": "code",
   "source": [
    "from sklearn.metrics import silhouette_score,davies_bouldin_score,calinski_harabasz_score\n",
    "table_columns = [xmeans_clustering, hdbscan_clustering, agglomerative_clustering_with_estimated_k]\n",
    "table_rows = dataset_diffs\n",
    "\n",
    "S_table = np.zeros((len(table_columns), len(table_rows)))\n",
    "DB_table = np.zeros((len(table_columns), len(table_rows)))\n",
    "CH_table = np.zeros((len(table_columns), len(table_rows)))\n",
    "\n",
    "for i, algorithm in enumerate(cluster_algos):\n",
    "    for j, dataset_diff in enumerate(dataset_diffs):\n",
    "        cluster_labels, embedding = laod_clustering_noise_cleaned_embedding(dataset_diff, algorithm)\n",
    "\n",
    "        s = silhouette_score(embedding, cluster_labels)\n",
    "        db = davies_bouldin_score(embedding, cluster_labels)\n",
    "        ch = calinski_harabasz_score(embedding, cluster_labels)\n",
    "\n",
    "        S_table[i, j] = s\n",
    "        DB_table[i, j] = db\n",
    "        CH_table[i, j] = ch\n",
    "for i, table_row in enumerate(table_rows):\n",
    "    print(f\"\"\"\n",
    "\\multirow{{3}}{{*}}{{\\\\textbf{{{table_row}}}}} & S & {' & '.join([f'{val:.2f}' for val in S_table[:, i]])} \\\\\\\\\n",
    "        & DB &  {' & '.join([f'{val:.2f}' for val in DB_table[:, i]])}\\\\\\\\\n",
    "        & CH &  {' & '.join([f'{val:.2f}' for val in CH_table[:, i]])} \\\\\\\\\n",
    "        \\hline\"\"\")"
   ],
   "id": "ac3ea9d98808c79c",
   "outputs": [
    {
     "name": "stdout",
     "output_type": "stream",
     "text": [
      "\n",
      "\\multirow{3}{*}{\\textbf{easy}} & S & 0.04 & 0.11 & 0.05 \\\\\n",
      "        & DB &  3.78 & 2.26 & 3.81\\\\\n",
      "        & CH &  70.62 & 10.64 & 69.93 \\\\\n",
      "        \\hline\n",
      "\n",
      "\\multirow{3}{*}{\\textbf{medium}} & S & 0.08 & 0.16 & 0.07 \\\\\n",
      "        & DB &  3.27 & 2.27 & 3.58\\\\\n",
      "        & CH &  80.74 & 11.63 & 72.00 \\\\\n",
      "        \\hline\n",
      "\n",
      "\\multirow{3}{*}{\\textbf{hard}} & S & 0.04 & 0.08 & 0.03 \\\\\n",
      "        & DB &  3.59 & 2.35 & 4.32\\\\\n",
      "        & CH &  65.07 & 8.74 & 49.79 \\\\\n",
      "        \\hline\n"
     ]
    }
   ],
   "execution_count": 64
  }
 ],
 "metadata": {
  "kernelspec": {
   "display_name": "Python 3",
   "language": "python",
   "name": "python3"
  },
  "language_info": {
   "codemirror_mode": {
    "name": "ipython",
    "version": 2
   },
   "file_extension": ".py",
   "mimetype": "text/x-python",
   "name": "python",
   "nbconvert_exporter": "python",
   "pygments_lexer": "ipython2",
   "version": "2.7.6"
  }
 },
 "nbformat": 4,
 "nbformat_minor": 5
}
