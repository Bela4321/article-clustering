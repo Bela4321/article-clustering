{
 "cells": [
  {
   "cell_type": "code",
   "id": "initial_id",
   "metadata": {
    "collapsed": true,
    "ExecuteTime": {
     "end_time": "2025-03-26T10:09:22.478309Z",
     "start_time": "2025-03-26T10:09:22.468441Z"
    }
   },
   "source": [
    "import pandas as pd\n",
    "import numpy as np\n",
    "import matplotlib.pyplot as plt\n",
    "import pickle"
   ],
   "outputs": [],
   "execution_count": 2
  },
  {
   "metadata": {
    "ExecuteTime": {
     "end_time": "2025-03-26T10:09:46.254370Z",
     "start_time": "2025-03-26T10:09:22.490735Z"
    }
   },
   "cell_type": "code",
   "source": [
    "with open(f\"arxiv-abstracts-2021/pickle.pkl\", \"rb\") as f:\n",
    "    data = pickle.load(f)"
   ],
   "id": "4252240c7c7a782f",
   "outputs": [],
   "execution_count": 3
  },
  {
   "metadata": {
    "ExecuteTime": {
     "end_time": "2025-03-26T10:09:46.298046Z",
     "start_time": "2025-03-26T10:09:46.286097Z"
    }
   },
   "cell_type": "code",
   "source": [
    "data_querries = {\"Computer Science and AI\": [\"Transformer models\", \"Federated learning\", \"Quantum computing\", \"Explainable AI\", \"Graph neural networks\"],\n",
    "\"Physics and Engineering\": [\"Topological insulators\",\"Optical metamaterials\",\"Fission\",\"Soft robotics\", \"Health monitoring\"],\n",
    "\"Biology and Medicine\": [\"CRISPR\",\"Microbiome\",\"DNA sequencing\",\"Synthetic biology\",\"Drug delivery\"],\n",
    "\"Earth and Environmental Science\": [\"Climate model\",\"Remote sensing\",\"Greenhouse gas\",\"Biodiversity\",\"Light pollution\"]}"
   ],
   "id": "44971f4fd87011b1",
   "outputs": [],
   "execution_count": 4
  },
  {
   "metadata": {
    "ExecuteTime": {
     "end_time": "2025-03-26T10:09:51.431209Z",
     "start_time": "2025-03-26T10:09:46.334284Z"
    }
   },
   "cell_type": "code",
   "source": "data['abstract_lower'] = data['abstract'].str.lower()\n",
   "id": "236c32b7a000c6b6",
   "outputs": [],
   "execution_count": 5
  },
  {
   "metadata": {
    "ExecuteTime": {
     "end_time": "2025-03-26T10:17:42.790746Z",
     "start_time": "2025-03-26T10:15:55.220566Z"
    }
   },
   "cell_type": "code",
   "source": [
    "for category, querries in data_querries.items():\n",
    "    for query_str in querries:\n",
    "        print(query_str+\": \"+str(len(data.query(f\"abstract_lower.str.contains('{query_str.lower()}')\"))))"
   ],
   "id": "43cd92938e22014c",
   "outputs": [
    {
     "name": "stdout",
     "output_type": "stream",
     "text": [
      "Transformer models: 381\n",
      "Federated learning: 1615\n",
      "Quantum computing: 3857\n",
      "Explainable AI: 268\n",
      "Graph neural networks: 1311\n",
      "Topological insulators: 2794\n",
      "Optical metamaterials: 47\n",
      "Fission: 1826\n",
      "Soft robotics: 82\n",
      "Health monitoring: 314\n",
      "CRISPR: 37\n",
      "Microbiome: 183\n",
      "DNA sequencing: 178\n",
      "Synthetic biology: 143\n",
      "Drug delivery: 279\n",
      "Climate model: 617\n",
      "Remote sensing: 1468\n",
      "Greenhouse gas: 329\n",
      "Biodiversity: 413\n",
      "Light pollution: 63\n"
     ]
    }
   ],
   "execution_count": 7
  },
  {
   "metadata": {
    "ExecuteTime": {
     "end_time": "2025-03-26T10:15:38.116509600Z",
     "start_time": "2025-03-26T07:33:59.047777Z"
    }
   },
   "cell_type": "code",
   "source": [
    "query_str = \"Optical metamaterials\"\n",
    "print(query_str+\": \"+str(len(data.query(f\"abstract_lower.str.contains('{query_str.lower()}')\"))))"
   ],
   "id": "6c2853f141593a16",
   "outputs": [
    {
     "name": "stdout",
     "output_type": "stream",
     "text": [
      "Soft robotics: 82\n"
     ]
    }
   ],
   "execution_count": 55
  }
 ],
 "metadata": {
  "kernelspec": {
   "display_name": "Python 3",
   "language": "python",
   "name": "python3"
  },
  "language_info": {
   "codemirror_mode": {
    "name": "ipython",
    "version": 2
   },
   "file_extension": ".py",
   "mimetype": "text/x-python",
   "name": "python",
   "nbconvert_exporter": "python",
   "pygments_lexer": "ipython2",
   "version": "2.7.6"
  }
 },
 "nbformat": 4,
 "nbformat_minor": 5
}
