{
 "cells": [
  {
   "metadata": {
    "ExecuteTime": {
     "end_time": "2025-03-18T14:53:00.634668Z",
     "start_time": "2025-03-18T14:52:09.099597Z"
    }
   },
   "cell_type": "code",
   "source": [
    "import os\n",
    "\n",
    "import numpy as np\n",
    "import pandas as pd\n",
    "import pickle\n",
    "\n",
    "from tensorflow.python.ops.gen_experimental_dataset_ops import experimental_latency_stats_dataset_eager_fallback\n",
    "\n",
    "with open(f\"arxiv-abstracts-2021/pickle.pkl\", \"rb\") as f:\n",
    "    data = pickle.load(f)"
   ],
   "id": "cb3c2532f3e919a7",
   "outputs": [],
   "execution_count": 38
  },
  {
   "metadata": {
    "ExecuteTime": {
     "end_time": "2025-03-18T14:53:27.343940Z",
     "start_time": "2025-03-18T14:53:00.644020Z"
    }
   },
   "cell_type": "code",
   "source": [
    "documents = data[\"title\"] + \" \" + data[\"abstract\"]\n",
    "labels = data[\"categories\"]\n",
    "del data"
   ],
   "id": "486c97ca31afe894",
   "outputs": [],
   "execution_count": 39
  },
  {
   "metadata": {
    "ExecuteTime": {
     "end_time": "2025-03-18T14:53:27.935801Z",
     "start_time": "2025-03-18T14:53:27.891655Z"
    }
   },
   "cell_type": "code",
   "source": [
    "full_name_translator = {}\n",
    "full_name_translator[\"cs\"] = \"Computer Science\"\n",
    "full_name_translator[\"cs.AI\"] = \"Artificial Intelligence\"\n",
    "full_name_translator[\"cs.AR\"] = \"Hardware Architecture\"\n",
    "full_name_translator[\"cs.CC\"] = \"Computational Complexity\"\n",
    "full_name_translator[\"cs.CE\"] = \"Computational Engineering, Finance, and Science\"\n",
    "full_name_translator[\"cs.CG\"] = \"Computational Geometry\"\n",
    "full_name_translator[\"cs.CL\"] = \"Computation and Language\"\n",
    "full_name_translator[\"cs.CR\"] = \"Cryptography and Security\"\n",
    "full_name_translator[\"cs.CV\"] = \"Computer Vision and Pattern Recognition\"\n",
    "full_name_translator[\"cs.CY\"] = \"Computers and Society\"\n",
    "full_name_translator[\"cs.DB\"] = \"Databases\"\n",
    "full_name_translator[\"cs.DC\"] = \"Distributed, Parallel, and Cluster Computing\"\n",
    "full_name_translator[\"cs.DL\"] = \"Digital Libraries\"\n",
    "full_name_translator[\"cs.DM\"] = \"Discrete Mathematics\"\n",
    "full_name_translator[\"cs.DS\"] = \"Data Structures and Algorithms\"\n",
    "full_name_translator[\"cs.ET\"] = \"Emerging Technologies\"\n",
    "full_name_translator[\"cs.FL\"] = \"Formal Languages and Automata Theory\"\n",
    "full_name_translator[\"cs.GL\"] = \"General Literature\"\n",
    "full_name_translator[\"cs.GR\"] = \"Graphics\"\n",
    "full_name_translator[\"cs.GT\"] = \"Computer Science and Game Theory\"\n",
    "full_name_translator[\"cs.HC\"] = \"Human-Computer Interaction\"\n",
    "full_name_translator[\"cs.IR\"] = \"Information Retrieval\"\n",
    "full_name_translator[\"cs.IT\"] = \"Information Theory\"\n",
    "full_name_translator[\"cs.LG\"] = \"Machine Learning\"\n",
    "full_name_translator[\"cs.LO\"] = \"Logic in Computer Science\"\n",
    "full_name_translator[\"cs.MA\"] = \"Multiagent Systems\"\n",
    "full_name_translator[\"cs.MM\"] = \"Multimedia\"\n",
    "full_name_translator[\"cs.MS\"] = \"Mathematical Software\"\n",
    "full_name_translator[\"cs.NA\"] = \"Numerical Analysis\"\n",
    "full_name_translator[\"cs.NE\"] = \"Neural and Evolutionary Computing\"\n",
    "full_name_translator[\"cs.NI\"] = \"Networking and Internet Architecture\"\n",
    "full_name_translator[\"cs.OH\"] = \"Other Computer Science\"\n",
    "full_name_translator[\"cs.OS\"] = \"Operating Systems\"\n",
    "full_name_translator[\"cs.PF\"] = \"Performance\"\n",
    "full_name_translator[\"cs.PL\"] = \"Programming Languages\"\n",
    "full_name_translator[\"cs.RO\"] = \"Robotics\"\n",
    "full_name_translator[\"cs.SC\"] = \"Symbolic Computation\"\n",
    "full_name_translator[\"cs.SD\"] = \"Sound\"\n",
    "full_name_translator[\"cs.SE\"] = \"Software Engineering\"\n",
    "full_name_translator[\"cs.SI\"] = \"Social and Information Networks\"\n",
    "full_name_translator[\"cs.SY\"] = \"Systems and Control\"\n",
    "\n",
    "full_name_translator[\"econ\"] = \"Economics\"\n",
    "full_name_translator[\"econ.EM\"] = \"Econometrics\"\n",
    "full_name_translator[\"econ.GN\"] = \"General Economics\"\n",
    "full_name_translator[\"econ.TH\"] = \"Theoretical Economics\"\n",
    "\n",
    "full_name_translator[\"eess\"] = \"Electrical Engineering and Systems Science\"\n",
    "full_name_translator[\"eess.AS\"] = \"Audio and Speech Processing\"\n",
    "full_name_translator[\"eess.IV\"] = \"Image and Video Processing\"\n",
    "full_name_translator[\"eess.SP\"] = \"Signal Processing\"\n",
    "full_name_translator[\"eess.SY\"] = \"Systems and Control\"\n",
    "\n",
    "full_name_translator[\"math\"] = \"Mathematics\"\n",
    "full_name_translator[\"math.AC\"] = \"Commutative Algebra\"\n",
    "full_name_translator[\"math.AG\"] = \"Algebraic Geometry\"\n",
    "full_name_translator[\"math.AP\"] = \"Analysis of PDEs\"\n",
    "full_name_translator[\"math.AT\"] = \"Algebraic Topology\"\n",
    "full_name_translator[\"math.CA\"] = \"Classical Analysis and ODEs\"\n",
    "full_name_translator[\"math.CO\"] = \"Combinatorics\"\n",
    "full_name_translator[\"math.CT\"] = \"Category Theory\"\n",
    "full_name_translator[\"math.CV\"] = \"Complex Variables\"\n",
    "full_name_translator[\"math.DG\"] = \"Differential Geometry\"\n",
    "full_name_translator[\"math.DS\"] = \"Dynamical Systems\"\n",
    "full_name_translator[\"math.FA\"] = \"Functional Analysis\"\n",
    "full_name_translator[\"math.GM\"] = \"General Mathematics\"\n",
    "full_name_translator[\"math.GN\"] = \"General Topology\"\n",
    "full_name_translator[\"math.GR\"] = \"Group Theory\"\n",
    "full_name_translator[\"math.GT\"] = \"Geometric Topology\"\n",
    "full_name_translator[\"math.HO\"] = \"History and Overview\"\n",
    "full_name_translator[\"math.IT\"] = \"Information Theory\"\n",
    "full_name_translator[\"math.KT\"] = \"K-Theory and Homology\"\n",
    "full_name_translator[\"math.LO\"] = \"Logic\"\n",
    "full_name_translator[\"math.MG\"] = \"Metric Geometry\"\n",
    "full_name_translator[\"math.MP\"] = \"Mathematical Physics\"\n",
    "full_name_translator[\"math.NA\"] = \"Numerical Analysis\"\n",
    "full_name_translator[\"math.NT\"] = \"Number Theory\"\n",
    "full_name_translator[\"math.OA\"] = \"Operator Algebras\"\n",
    "full_name_translator[\"math.OC\"] = \"Optimization and Control\"\n",
    "full_name_translator[\"math.PR\"] = \"Probability\"\n",
    "full_name_translator[\"math.QA\"] = \"Quantum Algebra\"\n",
    "full_name_translator[\"math.RA\"] = \"Rings and Algebras\"\n",
    "full_name_translator[\"math.RT\"] = \"Representation Theory\"\n",
    "full_name_translator[\"math.SG\"] = \"Symplectic Geometry\"\n",
    "full_name_translator[\"math.SP\"] = \"Spectral Theory\"\n",
    "full_name_translator[\"math.ST\"] = \"Statistics Theory\"\n",
    "\n",
    "full_name_translator[\"astro-ph\"] = \"Astrophysics\"\n",
    "full_name_translator[\"astro-ph.CO\"] = \"Cosmology and Nongalactic Astrophysics\"\n",
    "full_name_translator[\"astro-ph.EP\"] = \"Earth and Planetary Astrophysics\"\n",
    "full_name_translator[\"astro-ph.GA\"] = \"Astrophysics of Galaxies\"\n",
    "full_name_translator[\"astro-ph.HE\"] = \"High Energy Astrophysical Phenomena\"\n",
    "full_name_translator[\"astro-ph.IM\"] = \"Instrumentation and Methods for Astrophysics\"\n",
    "full_name_translator[\"astro-ph.SR\"] = \"Solar and Stellar Astrophysics\"\n",
    "\n",
    "full_name_translator[\"cond-mat\"] = \"Condensed Matter\"\n",
    "full_name_translator[\"cond-mat.dis-nn\"] = \"Disordered Systems and Neural Networks\"\n",
    "full_name_translator[\"cond-mat.mes-hall\"] = \"Mesoscale and Nanoscale Physics\"\n",
    "full_name_translator[\"cond-mat.mtrl-sci\"] = \"Materials Science\"\n",
    "full_name_translator[\"cond-mat.other\"] = \"Other Condensed Matter\"\n",
    "full_name_translator[\"cond-mat.quant-gas\"] = \"Quantum Gases\"\n",
    "full_name_translator[\"cond-mat.soft\"] = \"Soft Condensed Matter\"\n",
    "full_name_translator[\"cond-mat.stat-mech\"] = \"Statistical Mechanics\"\n",
    "full_name_translator[\"cond-mat.str-el\"] = \"Strongly Correlated Electrons\"\n",
    "full_name_translator[\"cond-mat.supr-con\"] = \"Superconductivity\"\n",
    "\n",
    "full_name_translator[\"gr-qc\"] = \"General Relativity and Quantum Cosmology\"\n",
    "full_name_translator[\"hep-ex\"] = \"High Energy Physics - Experiment\"\n",
    "full_name_translator[\"hep-lat\"] = \"High Energy Physics - Lattice\"\n",
    "full_name_translator[\"hep-ph\"] = \"High Energy Physics - Phenomenology\"\n",
    "full_name_translator[\"hep-th\"] = \"High Energy Physics - Theory\"\n",
    "full_name_translator[\"math-ph\"] = \"Mathematical Physics\"\n",
    "\n",
    "full_name_translator[\"nlin\"] = \"Nonlinear Sciences\"\n",
    "full_name_translator[\"nlin.AO\"] = \"Adaptation and Self-Organizing Systems\"\n",
    "full_name_translator[\"nlin.CD\"] = \"Chaotic Dynamics\"\n",
    "full_name_translator[\"nlin.CG\"] = \"Cellular Automata and Lattice Gases\"\n",
    "full_name_translator[\"nlin.PS\"] = \"Pattern Formation and Solitons\"\n",
    "full_name_translator[\"nlin.SI\"] = \"Exactly Solvable and Integrable Systems\"\n",
    "\n",
    "full_name_translator[\"nucl-ex\"] = \"Nuclear Experiment\"\n",
    "full_name_translator[\"nucl-th\"] = \"Nuclear Theory\"\n",
    "\n",
    "full_name_translator[\"physics\"] = \"Physics\"\n",
    "full_name_translator[\"physics.acc-ph\"] = \"Accelerator Physics\"\n",
    "full_name_translator[\"physics.ao-ph\"] = \"Atmospheric and Oceanic Physics\"\n",
    "full_name_translator[\"physics.app-ph\"] = \"Applied Physics\"\n",
    "full_name_translator[\"physics.atm-clus\"] = \"Atomic and Molecular Clusters\"\n",
    "full_name_translator[\"physics.atom-ph\"] = \"Atomic Physics\"\n",
    "full_name_translator[\"physics.bio-ph\"] = \"Biological Physics\"\n",
    "full_name_translator[\"physics.chem-ph\"] = \"Chemical Physics\"\n",
    "full_name_translator[\"physics.class-ph\"] = \"Classical Physics\"\n",
    "full_name_translator[\"physics.comp-ph\"] = \"Computational Physics\"\n",
    "full_name_translator[\"physics.data-an\"] = \"Data Analysis, Statistics and Probability\"\n",
    "full_name_translator[\"physics.ed-ph\"] = \"Physics Education\"\n",
    "full_name_translator[\"physics.flu-dyn\"] = \"Fluid Dynamics\"\n",
    "full_name_translator[\"physics.gen-ph\"] = \"General Physics\"\n",
    "full_name_translator[\"physics.geo-ph\"] = \"Geophysics\"\n",
    "full_name_translator[\"physics.hist-ph\"] = \"History and Philosophy of Physics\"\n",
    "full_name_translator[\"physics.ins-det\"] = \"Instrumentation and Detectors\"\n",
    "full_name_translator[\"physics.med-ph\"] = \"Medical Physics\"\n",
    "full_name_translator[\"physics.optics\"] = \"Optics\"\n",
    "full_name_translator[\"physics.plasm-ph\"] = \"Plasma Physics\"\n",
    "full_name_translator[\"physics.pop-ph\"] = \"Popular Physics\"\n",
    "full_name_translator[\"physics.soc-ph\"] = \"Physics and Society\"\n",
    "full_name_translator[\"physics.space-ph\"] = \"Space Physics\"\n",
    "\n",
    "full_name_translator[\"quant-ph\"] = \"Quantum Physics\"\n",
    "\n",
    "full_name_translator[\"q-bio\"] = \"Quantitative Biology\"\n",
    "full_name_translator[\"q-bio.BM\"] = \"Biomolecules\"\n",
    "full_name_translator[\"q-bio.CB\"] = \"Cell Behavior\"\n",
    "full_name_translator[\"q-bio.GN\"] = \"Genomics\"\n",
    "full_name_translator[\"q-bio.MN\"] = \"Molecular Networks\"\n",
    "full_name_translator[\"q-bio.NC\"] = \"Neurons and Cognition\"\n",
    "full_name_translator[\"q-bio.OT\"] = \"Other Quantitative Biology\"\n",
    "full_name_translator[\"q-bio.PE\"] = \"Populations and Evolution\"\n",
    "full_name_translator[\"q-bio.QM\"] = \"Quantitative Methods\"\n",
    "full_name_translator[\"q-bio.SC\"] = \"Subcellular Processes\"\n",
    "full_name_translator[\"q-bio.TO\"] = \"Tissues and Organs\"\n",
    "\n",
    "full_name_translator[\"q-fin\"] = \"Quantitative Finance\"\n",
    "full_name_translator[\"q-fin.CP\"] = \"Computational Finance\"\n",
    "full_name_translator[\"q-fin.EC\"] = \"Economics\"\n",
    "full_name_translator[\"q-fin.GN\"] = \"General Finance\"\n",
    "full_name_translator[\"q-fin.MF\"] = \"Mathematical Finance\"\n",
    "full_name_translator[\"q-fin.PM\"] = \"Portfolio Management\"\n",
    "full_name_translator[\"q-fin.PR\"] = \"Pricing of Securities\"\n",
    "full_name_translator[\"q-fin.RM\"] = \"Risk Management\"\n",
    "full_name_translator[\"q-fin.ST\"] = \"Statistical Finance\"\n",
    "full_name_translator[\"q-fin.TR\"] = \"Trading and Market Microstructure\"\n",
    "\n",
    "full_name_translator[\"stat\"] = \"Statistics\"\n",
    "full_name_translator[\"stat.AP\"] = \"Applications\"\n",
    "full_name_translator[\"stat.CO\"] = \"Computation\"\n",
    "full_name_translator[\"stat.ME\"] = \"Methodology\"\n",
    "full_name_translator[\"stat.ML\"] = \"Machine Learning\"\n",
    "full_name_translator[\"stat.OT\"] = \"Other Statistics\"\n",
    "full_name_translator[\"stat.TH\"] = \"Statistics Theory\"\n",
    "# old labels\n",
    "alias_map = {}\n",
    "alias_map[\"acc-phys\"] = \"physics.acc-ph\"\n",
    "alias_map[\"adap-org\"] = \"nlin.AO\"\n",
    "alias_map[\"chao-dyn\"] = \"nlin.CD\"\n",
    "alias_map[\"patt-sol\"] = \"nlin.PS\"\n",
    "alias_map[\"dg-ga\"] = \"math.DG\"\n",
    "alias_map[\"solv-int\"] = \"nlin.SI\"\n",
    "alias_map[\"bayes-an\"] = \"physics.data-an\"\n",
    "alias_map[\"comp-gas\"] = \"nlin.CG\"\n",
    "alias_map[\"alg-geom\"] = \"math.AG\"\n",
    "alias_map[\"funct-an\"] = \"math.FA\"\n",
    "alias_map[\"q-alg\"] = \"math.QA\"\n",
    "alias_map[\"ao-sci\"] = \"physics.ao-ph\"\n",
    "alias_map[\"atom-ph\"] = \"physics.atom-ph\"\n",
    "alias_map[\"chem-ph\"] = \"physics.chem-ph\"\n",
    "alias_map[\"plasm-ph\"] = \"physics.plasm-ph\"\n",
    "alias_map[\"mtrl-th\"] = \"cond-mat.mtrl-sci\"\n",
    "alias_map[\"cmp-lg\"] = \"cs.CL\"\n",
    "alias_map[\"supr-con\"] = \"cond-mat.supr-con\"\n",
    "\n",
    "\n",
    "def to_full_name(key: str) -> str:\n",
    "    return full_name_translator.get(alias_map.get(key, key))"
   ],
   "id": "8d584184f4dc88ef",
   "outputs": [],
   "execution_count": 40
  },
  {
   "metadata": {
    "ExecuteTime": {
     "end_time": "2025-03-18T14:53:28.982377Z",
     "start_time": "2025-03-18T14:53:28.966505Z"
    }
   },
   "cell_type": "code",
   "source": [
    "def load_vectors(fname: str, word_set: set) -> dict:\n",
    "    \"\"\"\n",
    "    Lädt nur die Vektoren für die benötigten Wörter.\n",
    "    \"\"\"\n",
    "    import io\n",
    "    vectors = {}\n",
    "    with io.open(fname, 'r', encoding='utf-8', newline='\\n', errors='ignore') as fin:\n",
    "        n, d = map(int, fin.readline().split())\n",
    "        for line in fin:\n",
    "            tokens = line.rstrip().split(' ')\n",
    "            word = tokens[0]\n",
    "            if word in word_set:\n",
    "                vectors[word] = np.array([float(x) for x in tokens[1:]])\n",
    "    return vectors"
   ],
   "id": "26f6f3bae5c1a662",
   "outputs": [],
   "execution_count": 41
  },
  {
   "metadata": {
    "ExecuteTime": {
     "end_time": "2025-03-18T14:53:29.014618Z",
     "start_time": "2025-03-18T14:53:28.982377Z"
    }
   },
   "cell_type": "code",
   "source": [
    "from embeddings.embedding_utils import simple_clean_list\n",
    "import tqdm"
   ],
   "id": "5073480fb35b6e9a",
   "outputs": [],
   "execution_count": 42
  },
  {
   "metadata": {
    "ExecuteTime": {
     "end_time": "2025-03-18T15:08:41.157016Z",
     "start_time": "2025-03-18T14:53:29.550073Z"
    }
   },
   "cell_type": "code",
   "source": [
    "cleaned_corpus = simple_clean_list(documents)\n",
    "unique_words = set()"
   ],
   "id": "a0351956412b37a4",
   "outputs": [
    {
     "name": "stderr",
     "output_type": "stream",
     "text": [
      "100%|██████████| 1999486/1999486 [15:06<00:00, 2206.70it/s] \n"
     ]
    }
   ],
   "execution_count": 43
  },
  {
   "metadata": {
    "ExecuteTime": {
     "end_time": "2025-03-18T15:12:42.903208Z",
     "start_time": "2025-03-18T15:08:44.048622Z"
    }
   },
   "cell_type": "code",
   "source": [
    "\n",
    "for doc in tqdm.tqdm(cleaned_corpus):\n",
    "    unique_words.update(doc)\n"
   ],
   "id": "baa31833de5e0d28",
   "outputs": [
    {
     "name": "stderr",
     "output_type": "stream",
     "text": [
      "100%|██████████| 1999486/1999486 [03:58<00:00, 8373.34it/s] \n"
     ]
    }
   ],
   "execution_count": 44
  },
  {
   "metadata": {
    "ExecuteTime": {
     "end_time": "2025-03-18T15:14:06.862715Z",
     "start_time": "2025-03-18T15:13:24.587733Z"
    }
   },
   "cell_type": "code",
   "source": "translator = load_vectors(r\"..\\embeddings\\fasttext_data\\wiki-news-300d-1M.vec\", unique_words)",
   "id": "b682137b9939e4a6",
   "outputs": [],
   "execution_count": 45
  },
  {
   "metadata": {
    "ExecuteTime": {
     "end_time": "2025-03-18T15:14:09.133578Z",
     "start_time": "2025-03-18T15:14:08.078465Z"
    }
   },
   "cell_type": "code",
   "source": [
    "# how many unique words does the translator know?\n",
    "unique_recognized_words = translator.keys()\n",
    "print(f\"Fasttext knows {len(unique_recognized_words)} words out of {len(unique_words)} total unique words. Thats {len(unique_recognized_words)/len(unique_words)*100:.0f}%\")"
   ],
   "id": "4fe8a73ff625463d",
   "outputs": [
    {
     "name": "stdout",
     "output_type": "stream",
     "text": [
      "Fasttext knows 105594 words out of 480706 total unique words. Thats 22%\n"
     ]
    }
   ],
   "execution_count": 46
  },
  {
   "metadata": {
    "ExecuteTime": {
     "end_time": "2025-03-18T15:14:10.607966Z",
     "start_time": "2025-03-18T15:14:10.326556Z"
    }
   },
   "cell_type": "code",
   "source": "missed_words = {word for word in unique_words if word not in translator.keys()}",
   "id": "d71c2246bf8138a5",
   "outputs": [],
   "execution_count": 47
  },
  {
   "metadata": {
    "ExecuteTime": {
     "end_time": "2025-03-18T15:14:12.357695Z",
     "start_time": "2025-03-18T15:14:10.626606Z"
    }
   },
   "cell_type": "code",
   "source": [
    "from spellchecker import SpellChecker\n",
    "import nltk\n",
    "from nltk.corpus import words\n",
    "\n",
    "# Load English words\n",
    "nltk.download('words')\n",
    "english_vocab = set(words.words())\n",
    "\n",
    "# Load spellchecker\n",
    "spell = SpellChecker()\n",
    "\n",
    "# what words are known by default\n",
    "real_words_nltk = {w for w in tqdm.tqdm(missed_words) if w in english_vocab}\n",
    "real_words_spell = set(spell.known(missed_words))\n",
    "real_words = real_words_nltk | real_words_spell\n",
    "\n",
    "missed_words_uncategorized = missed_words - real_words"
   ],
   "id": "e5f13b7723a0dcee",
   "outputs": [
    {
     "name": "stderr",
     "output_type": "stream",
     "text": [
      "[nltk_data] Downloading package words to\n",
      "[nltk_data]     C:\\Users\\belas\\AppData\\Roaming\\nltk_data...\n",
      "[nltk_data]   Package words is already up-to-date!\n",
      "100%|██████████| 375112/375112 [00:00<00:00, 2078209.92it/s]\n"
     ]
    }
   ],
   "execution_count": 48
  },
  {
   "metadata": {
    "ExecuteTime": {
     "end_time": "2025-03-18T15:14:18.016980Z",
     "start_time": "2025-03-18T15:14:14.612112Z"
    }
   },
   "cell_type": "code",
   "source": [
    "from symspellpy.symspellpy import SymSpell, Verbosity\n",
    "\n",
    "# Initialize with a maximum edit distance and a prefix length\n",
    "sym_spell = SymSpell(max_dictionary_edit_distance=2, prefix_length=7)\n",
    "\n",
    "# Load a dictionary file (this file contains words and their frequencies)\n",
    "dictionary_path = \"symspellpy/frequency_dictionary_en_82_765.txt\"\n",
    "sym_spell.load_dictionary(dictionary_path, term_index=0, count_index=1)"
   ],
   "id": "3cb6dc733df7f9a8",
   "outputs": [
    {
     "data": {
      "text/plain": [
       "True"
      ]
     },
     "execution_count": 49,
     "metadata": {},
     "output_type": "execute_result"
    }
   ],
   "execution_count": 49
  },
  {
   "metadata": {
    "ExecuteTime": {
     "end_time": "2025-03-18T15:14:30.014078Z",
     "start_time": "2025-03-18T15:14:20.277815Z"
    }
   },
   "cell_type": "code",
   "source": [
    "corrections = {}\n",
    "misspellings_found=0\n",
    "for word in tqdm.tqdm(missed_words):\n",
    "    suggestions = sym_spell.lookup(word, Verbosity.CLOSEST, max_edit_distance=1)\n",
    "    if len(suggestions)!=0 and suggestions[0].term!= word :\n",
    "        corrections[word] = suggestions[0].term\n",
    "        misspellings_found += 1"
   ],
   "id": "4de498c4099e645",
   "outputs": [
    {
     "name": "stderr",
     "output_type": "stream",
     "text": [
      "100%|██████████| 375112/375112 [00:09<00:00, 38609.97it/s]\n"
     ]
    }
   ],
   "execution_count": 50
  },
  {
   "metadata": {
    "ExecuteTime": {
     "end_time": "2025-03-18T15:14:32.616455Z",
     "start_time": "2025-03-18T15:14:32.377675Z"
    }
   },
   "cell_type": "code",
   "source": "missed_words_uncategorized_corrected = {corrections.get(word, word) for word in missed_words}",
   "id": "ef6f7ac399ac5aee",
   "outputs": [],
   "execution_count": 51
  },
  {
   "metadata": {
    "ExecuteTime": {
     "end_time": "2025-03-18T15:15:07.866324Z",
     "start_time": "2025-03-18T15:14:35.350726Z"
    }
   },
   "cell_type": "code",
   "source": "translator_with_corrections = load_vectors(r\"..\\embeddings\\fasttext_data\\wiki-news-300d-1M.vec\", set(corrections.values()))",
   "id": "9e74008b12b27379",
   "outputs": [],
   "execution_count": 52
  },
  {
   "metadata": {
    "ExecuteTime": {
     "end_time": "2025-03-18T15:15:10.788286Z",
     "start_time": "2025-03-18T15:15:10.662529Z"
    }
   },
   "cell_type": "code",
   "source": [
    "# lemmatize\n",
    "import nltk\n",
    "nltk.download('wordnet')\n",
    "nltk.download('averaged_perceptron_tagger_eng')"
   ],
   "id": "cba74313b7a529ab",
   "outputs": [
    {
     "name": "stderr",
     "output_type": "stream",
     "text": [
      "[nltk_data] Downloading package wordnet to\n",
      "[nltk_data]     C:\\Users\\belas\\AppData\\Roaming\\nltk_data...\n",
      "[nltk_data]   Package wordnet is already up-to-date!\n",
      "[nltk_data] Downloading package averaged_perceptron_tagger_eng to\n",
      "[nltk_data]     C:\\Users\\belas\\AppData\\Roaming\\nltk_data...\n",
      "[nltk_data]   Package averaged_perceptron_tagger_eng is already up-to-\n",
      "[nltk_data]       date!\n"
     ]
    },
    {
     "data": {
      "text/plain": [
       "True"
      ]
     },
     "execution_count": 53,
     "metadata": {},
     "output_type": "execute_result"
    }
   ],
   "execution_count": 53
  },
  {
   "metadata": {
    "ExecuteTime": {
     "end_time": "2025-03-18T15:15:13.550806Z",
     "start_time": "2025-03-18T15:15:13.520312Z"
    }
   },
   "cell_type": "code",
   "source": [
    "from nltk.corpus import wordnet\n",
    "\n",
    "def get_wordnet_pos(nltk_tag):\n",
    "    if nltk_tag.startswith('J'):\n",
    "        return wordnet.ADJ\n",
    "    elif nltk_tag.startswith('V'):\n",
    "        return wordnet.VERB\n",
    "    elif nltk_tag.startswith('N'):\n",
    "        return wordnet.NOUN\n",
    "    elif nltk_tag.startswith('R'):\n",
    "        return wordnet.ADV\n",
    "    else:\n",
    "        return wordnet.NOUN"
   ],
   "id": "eb48ffe75c9d6901",
   "outputs": [],
   "execution_count": 54
  },
  {
   "metadata": {
    "ExecuteTime": {
     "end_time": "2025-03-18T15:15:35.806771Z",
     "start_time": "2025-03-18T15:15:16.416192Z"
    }
   },
   "cell_type": "code",
   "source": [
    "from nltk.stem import WordNetLemmatizer\n",
    "from nltk import pos_tag\n",
    "\n",
    "lemmatizer = WordNetLemmatizer()\n",
    "\n",
    "tagged_words = pos_tag(list(real_words.union(missed_words_uncategorized_corrected)))\n",
    "\n",
    "lemmatized_words = {}\n",
    "for word, tag in tqdm.tqdm(tagged_words):\n",
    "    wordnet_tag = get_wordnet_pos(tag)\n",
    "    lemma = lemmatizer.lemmatize(word, pos=wordnet_tag)\n",
    "    lemmatized_words[word] = lemma\n",
    "\n",
    "\n"
   ],
   "id": "af16e6447d4c2ba1",
   "outputs": [
    {
     "name": "stderr",
     "output_type": "stream",
     "text": [
      "100%|██████████| 291408/291408 [00:02<00:00, 136516.20it/s]\n"
     ]
    }
   ],
   "execution_count": 55
  },
  {
   "metadata": {
    "ExecuteTime": {
     "end_time": "2025-03-18T15:16:06.567521Z",
     "start_time": "2025-03-18T15:15:38.987126Z"
    }
   },
   "cell_type": "code",
   "source": "translator_with_lemmatization = load_vectors(r\"..\\embeddings\\fasttext_data\\wiki-news-300d-1M.vec\", set(lemmatized_words.values()))",
   "id": "9d1c02c956e391e",
   "outputs": [],
   "execution_count": 56
  },
  {
   "metadata": {
    "ExecuteTime": {
     "end_time": "2025-03-18T15:27:23.864187Z",
     "start_time": "2025-03-18T15:27:23.092361Z"
    }
   },
   "cell_type": "code",
   "source": [
    "# calculate final capture over unique words\n",
    "immediately_recognized_words = 0\n",
    "words_recognized_after_spellcheck = 0\n",
    "words_recognized_after_lemmatization = 0\n",
    "totally_unrecognized_words = 0\n",
    "unrecognized_words = set()\n",
    "for word in tqdm.tqdm(unique_words):\n",
    "    if word in translator:\n",
    "        immediately_recognized_words += 1\n",
    "    elif word in corrections and corrections[word] in translator_with_corrections:\n",
    "        words_recognized_after_spellcheck += 1\n",
    "    elif (lemmatized_words.get(corrections.get(word, word), word) in translator_with_lemmatization) or (lemmatized_words.get(word, word) in translator_with_lemmatization):\n",
    "        words_recognized_after_lemmatization += 1\n",
    "    else:\n",
    "        totally_unrecognized_words += 1\n",
    "        unrecognized_words.add(word)\n"
   ],
   "id": "9c2fdc32b014b321",
   "outputs": [
    {
     "name": "stderr",
     "output_type": "stream",
     "text": [
      "100%|██████████| 480706/480706 [00:00<00:00, 641901.82it/s]\n"
     ]
    }
   ],
   "execution_count": 68
  },
  {
   "metadata": {
    "ExecuteTime": {
     "end_time": "2025-03-18T15:20:04.729551Z",
     "start_time": "2025-03-18T15:20:04.714440Z"
    }
   },
   "cell_type": "code",
   "source": "print(f\"after spellcheck {words_recognized_after_spellcheck+immediately_recognized_words} are recognized. thats {(words_recognized_after_spellcheck+immediately_recognized_words)/len(unique_words)*100:.0f}%\")\n",
   "id": "cd04c98cef2abc75",
   "outputs": [
    {
     "name": "stdout",
     "output_type": "stream",
     "text": [
      "after spellcheck 215258 are recognized. thats 45%\n"
     ]
    }
   ],
   "execution_count": 58
  },
  {
   "metadata": {
    "ExecuteTime": {
     "end_time": "2025-03-18T15:26:31.694903Z",
     "start_time": "2025-03-18T15:26:31.679078Z"
    }
   },
   "cell_type": "code",
   "source": [
    "print(f\"immediately_recognized_words: {immediately_recognized_words}\")\n",
    "print(f\"words_recognized_after_spellcheck: {words_recognized_after_spellcheck}\")\n",
    "print(f\"words_recognized_after_lemmatization: {words_recognized_after_lemmatization}\")\n",
    "print(f\"totally_unrecognized_words: {totally_unrecognized_words}\")"
   ],
   "id": "966dfa6e53136f7f",
   "outputs": [
    {
     "name": "stdout",
     "output_type": "stream",
     "text": [
      "immediately_recognized_words: 105594\n",
      "words_recognized_after_spellcheck: 109664\n",
      "words_recognized_after_lemmatization: 735\n",
      "totally_unrecognized_words: 264713\n"
     ]
    }
   ],
   "execution_count": 66
  },
  {
   "metadata": {},
   "cell_type": "code",
   "source": [
    "# compute absolute capture over corpus\n",
    "known_words = 0\n",
    "unknown_words = 0\n",
    "for doc in tqdm.tqdm(cleaned_corpus):\n",
    "    for word in doc:\n",
    "        if word in unrecognized_words:\n",
    "            unknown_words += 1\n",
    "        else:\n",
    "            known_words += 1"
   ],
   "id": "452420e085b37779",
   "outputs": [],
   "execution_count": null
  },
  {
   "metadata": {
    "ExecuteTime": {
     "end_time": "2025-03-18T15:35:53.258400Z",
     "start_time": "2025-03-18T15:35:53.233813Z"
    }
   },
   "cell_type": "code",
   "source": [
    "\n",
    "print(f\"known words: {known_words}\")\n",
    "print(f\"unknown words: {unknown_words}\")\n",
    "print(f\"ratio: {known_words/(known_words+unknown_words)*100:.2f}%\")"
   ],
   "id": "f7648f790531d47c",
   "outputs": [
    {
     "name": "stdout",
     "output_type": "stream",
     "text": [
      "known words: 298324268\n",
      "unknown words: 3330539\n",
      "ratio: 98.90%\n"
     ]
    }
   ],
   "execution_count": 72
  },
  {
   "metadata": {
    "ExecuteTime": {
     "end_time": "2025-03-18T15:38:10.584203Z",
     "start_time": "2025-03-18T15:38:10.521284Z"
    }
   },
   "cell_type": "code",
   "source": "words_recognized_after_lemmatization/len(unique_words)",
   "id": "e4cc432761550708",
   "outputs": [
    {
     "data": {
      "text/plain": [
       "0.0015290010942239124"
      ]
     },
     "execution_count": 73,
     "metadata": {},
     "output_type": "execute_result"
    }
   ],
   "execution_count": 73
  },
  {
   "metadata": {
    "ExecuteTime": {
     "end_time": "2025-03-18T15:59:53.605730Z",
     "start_time": "2025-03-18T15:59:53.067895Z"
    }
   },
   "cell_type": "code",
   "source": [
    "# create the final translator and pickle save it\n",
    "final_translator = translator.copy()\n",
    "for word, corrected_word in corrections.items():\n",
    "    if corrected_word in translator_with_corrections:\n",
    "        final_translator[word] = translator_with_corrections[corrected_word]\n",
    "    if word in lemmatized_words and lemmatized_words[word] in translator_with_lemmatization:\n",
    "        final_translator[word] = translator_with_lemmatization[lemmatized_words[word]]\n",
    "    if corrected_word in lemmatized_words and lemmatized_words[corrected_word] in translator_with_lemmatization:\n",
    "        final_translator[word] = translator_with_lemmatization[lemmatized_words[corrected_word]]\n",
    "\n",
    "for missed_word in missed_words:\n",
    "    if missed_word in lemmatized_words and lemmatized_words[missed_word] in translator_with_lemmatization:\n",
    "        final_translator[missed_word] = translator_with_lemmatization[lemmatized_words[missed_word]]"
   ],
   "id": "1d90403151d5d81c",
   "outputs": [],
   "execution_count": 80
  },
  {
   "metadata": {
    "ExecuteTime": {
     "end_time": "2025-03-18T16:00:02.859587Z",
     "start_time": "2025-03-18T15:59:57.778454Z"
    }
   },
   "cell_type": "code",
   "source": [
    "import pickle\n",
    "import os\n",
    "\n",
    "filename = \"vector_translator/translator.pickle\"\n",
    "\n",
    "os.makedirs(os.path.dirname(filename), exist_ok=True)\n",
    "with open(filename, \"wb\") as f:\n",
    "    pickle.dump(final_translator, f)\n",
    "\n"
   ],
   "id": "82b2fa57e8631a5e",
   "outputs": [],
   "execution_count": 81
  }
 ],
 "metadata": {
  "kernelspec": {
   "name": "python3",
   "language": "python",
   "display_name": "Python 3 (ipykernel)"
  }
 },
 "nbformat": 5,
 "nbformat_minor": 9
}
