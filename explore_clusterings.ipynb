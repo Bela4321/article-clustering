{
 "cells": [
  {
   "cell_type": "code",
   "id": "initial_id",
   "metadata": {
    "collapsed": true,
    "ExecuteTime": {
     "end_time": "2025-03-27T13:52:42.778664Z",
     "start_time": "2025-03-27T13:52:42.746841Z"
    }
   },
   "source": [
    ""
   ],
   "outputs": [],
   "execution_count": null
  },
  {
   "metadata": {
    "ExecuteTime": {
     "end_time": "2025-03-27T13:52:42.842613Z",
     "start_time": "2025-03-27T13:52:42.814501Z"
    }
   },
   "cell_type": "code",
   "source": [
    "import pickle\n",
    "\n",
    "data_queries = {\n",
    "        \"Computer Science and AI\": [\"Transformer models\", \"Federated learning\", \"Quantum computing\", \"Explainable AI\", \"Graph neural networks\"],\n",
    "        \"Physics and Engineering\": [\"Topological insulators\", \"Optical metamaterials\", \"Fission\", \"Soft robotics\", \"Health monitoring\"],\n",
    "        \"Biology and Medicine\": [\"CRISPR\", \"Microbiome\", \"DNA sequencing\", \"Synthetic biology\", \"Drug delivery\"],\n",
    "        \"Earth and Environmental Science\": [\"Climate model\", \"Remote sensing\", \"Greenhouse gas\", \"Biodiversity\", \"Light pollution\"]\n",
    "    }\n",
    "def get_filename(category, query):\n",
    "    save_path = \"cluster_results/xmeans_clustering/\"\n",
    "    query_key = (category[:5] + \"_\" + query[:10]).replace(\" \", \"_\")\n",
    "    return save_path + query_key + \".pkl\"\n",
    "\n",
    "def load_clustering(category, query):\n",
    "    filename = get_filename(category, query)\n",
    "    with open(filename, \"rb\") as f:\n",
    "        data_dict = pickle.load(f)\n",
    "    return data_dict[\"embeddings\"], data_dict[\"clusters\"], data_dict[\"numerical_labels_true\"], data_dict[\"categorizer\"]"
   ],
   "id": "c67a1ef988f74851",
   "outputs": [],
   "execution_count": 2
  },
  {
   "metadata": {
    "ExecuteTime": {
     "end_time": "2025-03-27T13:52:42.989406Z",
     "start_time": "2025-03-27T13:52:42.976815Z"
    }
   },
   "cell_type": "code",
   "source": [
    "category = \"Physics and Engineering\"\n",
    "query = data_queries[category][4]"
   ],
   "id": "d814a6d3541185f",
   "outputs": [],
   "execution_count": 3
  },
  {
   "metadata": {},
   "cell_type": "code",
   "outputs": [],
   "execution_count": null,
   "source": [
    "embedding, clusters, numerical_labels_true, categorizer = load_clustering(category, query)\n",
    "original_documents ="
   ],
   "id": "d11a54ac40f6255d"
  }
 ],
 "metadata": {
  "kernelspec": {
   "display_name": "Python 3",
   "language": "python",
   "name": "python3"
  },
  "language_info": {
   "codemirror_mode": {
    "name": "ipython",
    "version": 2
   },
   "file_extension": ".py",
   "mimetype": "text/x-python",
   "name": "python",
   "nbconvert_exporter": "python",
   "pygments_lexer": "ipython2",
   "version": "2.7.6"
  }
 },
 "nbformat": 4,
 "nbformat_minor": 5
}
