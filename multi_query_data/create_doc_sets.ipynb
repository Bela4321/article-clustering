{
 "cells": [
  {
   "cell_type": "code",
   "id": "initial_id",
   "metadata": {
    "collapsed": true,
    "ExecuteTime": {
     "end_time": "2025-04-05T18:18:43.912336Z",
     "start_time": "2025-04-05T18:18:40.744187Z"
    }
   },
   "source": [
    "import pandas as pd\n",
    "import numpy as np\n",
    "import pickle\n",
    "import os"
   ],
   "outputs": [],
   "execution_count": 1
  },
  {
   "metadata": {
    "ExecuteTime": {
     "end_time": "2025-04-05T18:23:29.962696Z",
     "start_time": "2025-04-05T18:23:29.395800Z"
    }
   },
   "cell_type": "code",
   "source": [
    "folder_to_summarize = \"hard\"\n",
    "\n",
    "dataframe = pd.DataFrame(columns=[\"source_query\", \"text\"])\n",
    "for filename in os.listdir(folder_to_summarize):\n",
    "    source_query = \" \".join(filename.split(\"_\")[3:]).replace(\".pkl\", \"\")\n",
    "    if filename.endswith(\".pkl\"):\n",
    "        with open(os.path.join(folder_to_summarize, filename), 'rb') as f:\n",
    "            data = pickle.load(f)\n",
    "        data_types = [\"publications\", \"resources\", \"projects\",\"others\"]\n",
    "        texts = []\n",
    "        for data_type in data_types:\n",
    "            for data_object in data[data_type]:\n",
    "                text = \"\"\n",
    "                if hasattr(data_object, \"name\") and len(data_object.name)>0:\n",
    "                    text = data_object.name\n",
    "                if hasattr(data_object, \"description\") and len(data_object.description)>0:\n",
    "                    text += \"\\n\"+ data_object.description\n",
    "                elif hasattr(data_object, \"abstract\") and len(data_object.abstract)>0:\n",
    "                    text += \"\\n\"+ data_object.abstract\n",
    "                if hasattr(data_object, \"keywords\") and len(data_object.keywords)>0:\n",
    "                    text += \"\\nKeywords:\"+ \", \".join(data_object.keywords)\n",
    "                texts.append(text)\n",
    "        query_texts = pd.DataFrame({\"source_query\": [source_query]*len(texts), \"text\": texts})\n",
    "        dataframe = pd.concat([dataframe, query_texts], ignore_index=True)\n",
    "\n",
    "shuffled_dataframe = dataframe.sample(frac=1).reset_index(drop=True)\n",
    "# Save the dataframe to pickle\n",
    "savepath = f\"{folder_to_summarize}_combined_dataframe.pkl\"\n",
    "with open(savepath, 'wb') as f:\n",
    "    pickle.dump(shuffled_dataframe, f)"
   ],
   "id": "7338868cfeb25d3b",
   "outputs": [],
   "execution_count": 6
  }
 ],
 "metadata": {
  "kernelspec": {
   "display_name": "Python 3",
   "language": "python",
   "name": "python3"
  },
  "language_info": {
   "codemirror_mode": {
    "name": "ipython",
    "version": 2
   },
   "file_extension": ".py",
   "mimetype": "text/x-python",
   "name": "python",
   "nbconvert_exporter": "python",
   "pygments_lexer": "ipython2",
   "version": "2.7.6"
  }
 },
 "nbformat": 4,
 "nbformat_minor": 5
}
