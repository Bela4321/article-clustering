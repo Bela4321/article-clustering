{
 "cells": [
  {
   "cell_type": "code",
   "id": "initial_id",
   "metadata": {
    "collapsed": true,
    "ExecuteTime": {
     "end_time": "2025-04-05T16:56:48.179612Z",
     "start_time": "2025-04-05T16:56:48.160125Z"
    }
   },
   "source": [
    "import numpy as np\n",
    "import pandas as pd\n",
    "import matplotlib.pyplot as plt\n",
    "import pickle\n",
    "import objects"
   ],
   "outputs": [],
   "execution_count": 66
  },
  {
   "metadata": {
    "ExecuteTime": {
     "end_time": "2025-04-05T16:56:48.547934Z",
     "start_time": "2025-04-05T16:56:48.197906Z"
    }
   },
   "cell_type": "code",
   "source": [
    "filename= \"easy/v1_46_309_Modern_Evolutionary_Biology.pkl\"\n",
    "with open(filename, 'rb') as f:\n",
    "    data = pickle.load(f)\n"
   ],
   "id": "60886dd548995a86",
   "outputs": [],
   "execution_count": 67
  },
  {
   "metadata": {
    "ExecuteTime": {
     "end_time": "2025-04-05T16:56:48.595323Z",
     "start_time": "2025-04-05T16:56:48.566680Z"
    }
   },
   "cell_type": "code",
   "source": [
    "from collections import defaultdict\n",
    "\n",
    "# get attribute frequencies\n",
    "data_types = [\"publications\",\"researchers\",\"resources\",\"projects\",\"others\"]\n",
    "\n",
    "attibute_frequencies_per_data_type = {}\n",
    "for data_type in data_types:\n",
    "    attribute_frequencies = {}\n",
    "    for data_object in data[data_type]:\n",
    "        for attr_name, attr_value in data_object.__dict__.items():\n",
    "                if attr_value and (not isinstance(attr_value,str) or (attr_value.replace(\"0\",\"\").replace(\".\",\"\") != \"\")):\n",
    "                    attribute_frequencies[attr_name] =attribute_frequencies.get(attr_name, 0) + 1\n",
    "    attibute_frequencies_per_data_type[data_type] = attribute_frequencies"
   ],
   "id": "2a2d980dd0ffeda0",
   "outputs": [],
   "execution_count": 68
  },
  {
   "metadata": {
    "ExecuteTime": {
     "end_time": "2025-04-05T16:56:48.631444Z",
     "start_time": "2025-04-05T16:56:48.616811Z"
    }
   },
   "cell_type": "code",
   "source": [
    "object_types_per_data_type = {}\n",
    "for data_type in data_types:\n",
    "    object_types = {}\n",
    "    for data_object in data[data_type]:\n",
    "        object_type = type(data_object).__name__\n",
    "        object_types[object_type] = object_types.get(object_type, 0) + 1\n",
    "    object_types_per_data_type[data_type] = object_types"
   ],
   "id": "fd8126df6eff12d9",
   "outputs": [],
   "execution_count": 69
  },
  {
   "metadata": {
    "ExecuteTime": {
     "end_time": "2025-04-05T16:59:06.453691Z",
     "start_time": "2025-04-05T16:59:03.490717Z"
    }
   },
   "cell_type": "code",
   "source": [
    "#plot attribute_frequencies\n",
    "data_type=\"resources\"\n",
    "attribute_frequencies = attibute_frequencies_per_data_type[data_type]\n",
    "exclude_attr= [\"rankScore\", \"encoding_contentUrl\",\"__len__\",\"originalSource\", \"partiallyLoaded\"]\n",
    "\n",
    "# plot as diagram\n",
    "frequencies = sorted([(key, val) for key, val in attribute_frequencies.items() if key not in exclude_attr], key=lambda item: item[1])\n",
    "\n",
    "from embeddings.embedding_utils import single_plot_color\n",
    "plt.figure(figsize=(6, 5))\n",
    "plt.barh([x[0] for x in frequencies], [x[1] for x in frequencies], color=single_plot_color)\n",
    "plt.gca().yaxis.grid(False)\n",
    "plt.ylabel(\"Attribute\")\n",
    "plt.xlabel(\"Frequency\")\n",
    "plt.savefig(f\"figures_data_exploration/{data_type}_attribute_frequencies.png\", dpi=300, bbox_inches='tight')\n",
    "plt.show()"
   ],
   "id": "2716804727597b0a",
   "outputs": [
    {
     "data": {
      "text/plain": [
       "<Figure size 600x500 with 1 Axes>"
      ],
      "image/png": "[encoded data removed]"
     },
     "metadata": {},
     "output_type": "display_data"
    }
   ],
   "execution_count": 72
  },
  {
   "metadata": {
    "ExecuteTime": {
     "end_time": "2025-04-05T16:56:49.392884Z",
     "start_time": "2025-04-05T16:56:49.377152Z"
    }
   },
   "cell_type": "code",
   "source": [
    "additionalType_freq_per_data_type = {}\n",
    "for data_type in [\"publications\",\"resources\",\"projects\",\"others\"]:\n",
    "    # get the additionalType frequencies\n",
    "    additionalType_freq = {}\n",
    "    for data_object in data[data_type]:\n",
    "        additionalType = data_object.additionalType\n",
    "        if additionalType:\n",
    "            additionalType_freq[additionalType] = additionalType_freq.get(additionalType, 0) + 1\n",
    "    additionalType_freq_per_data_type[data_type] = additionalType_freq"
   ],
   "id": "c0c2c2e6c076e4e6",
   "outputs": [],
   "execution_count": 71
  },
  {
   "metadata": {
    "ExecuteTime": {
     "end_time": "2025-04-05T17:33:42.699696Z",
     "start_time": "2025-04-05T17:33:42.668010Z"
    }
   },
   "cell_type": "code",
   "source": [
    "for i,obj in enumerate(data[\"others\"]):\n",
    "    if len(obj.keywords)>0:\n",
    "        print(i)"
   ],
   "id": "f4748703d87b7b23",
   "outputs": [
    {
     "name": "stdout",
     "output_type": "stream",
     "text": [
      "0\n",
      "1\n",
      "3\n",
      "5\n",
      "6\n",
      "7\n",
      "8\n",
      "9\n",
      "10\n",
      "11\n",
      "12\n",
      "13\n",
      "14\n",
      "15\n",
      "16\n",
      "19\n",
      "22\n",
      "23\n",
      "24\n",
      "25\n",
      "29\n",
      "30\n",
      "32\n",
      "34\n",
      "35\n",
      "36\n",
      "37\n",
      "38\n",
      "39\n",
      "41\n",
      "43\n",
      "44\n",
      "45\n",
      "46\n",
      "47\n",
      "48\n",
      "49\n",
      "53\n"
     ]
    }
   ],
   "execution_count": 77
  }
 ],
 "metadata": {
  "kernelspec": {
   "display_name": "Python 3",
   "language": "python",
   "name": "python3"
  },
  "language_info": {
   "codemirror_mode": {
    "name": "ipython",
    "version": 2
   },
   "file_extension": ".py",
   "mimetype": "text/x-python",
   "name": "python",
   "nbconvert_exporter": "python",
   "pygments_lexer": "ipython2",
   "version": "2.7.6"
  }
 },
 "nbformat": 4,
 "nbformat_minor": 5
}
